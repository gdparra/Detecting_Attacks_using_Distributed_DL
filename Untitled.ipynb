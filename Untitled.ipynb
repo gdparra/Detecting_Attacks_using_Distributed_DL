{
 "cells": [
  {
   "cell_type": "code",
   "execution_count": 1,
   "metadata": {},
   "outputs": [],
   "source": [
    "import pickle as p\n",
    "import numpy as np\n",
    "\n",
    "_input_ = p.load(open('input and output/input.pickle','rb'))\n",
    "_output_ = p.load(open('input and output/output.pickle','rb'))"
   ]
  },
  {
   "cell_type": "code",
   "execution_count": 23,
   "metadata": {},
   "outputs": [],
   "source": [
    "dataX = []\n",
    "for k,v in _input_.items():\n",
    "    feature_steps = []\n",
    "    for tpl in v:\n",
    "        tpl_none_list = [0 if itm is None else itm for itm in tpl]\n",
    "        feature_steps.append(tpl_none_list)\n",
    "    dataX.append(feature_steps)"
   ]
  },
  {
   "cell_type": "code",
   "execution_count": 3,
   "metadata": {},
   "outputs": [],
   "source": [
    "dataY = []\n",
    "for _,v in _output_.items():\n",
    "    if 1 in v:\n",
    "        dataY.append(1)\n",
    "    else:\n",
    "        dataY.append(0)"
   ]
  },
  {
   "cell_type": "code",
   "execution_count": 4,
   "metadata": {},
   "outputs": [
    {
     "data": {
      "text/plain": [
       "((24401,), (24401, 99, 17))"
      ]
     },
     "execution_count": 4,
     "metadata": {},
     "output_type": "execute_result"
    }
   ],
   "source": [
    "np.shape(np.array(dataY)), np.shape(np.array(dataX))"
   ]
  },
  {
   "cell_type": "code",
   "execution_count": 25,
   "metadata": {},
   "outputs": [],
   "source": [
    "X = np.array(dataX)\n",
    "y = np.array(dataY)"
   ]
  },
  {
   "cell_type": "code",
   "execution_count": 6,
   "metadata": {},
   "outputs": [
    {
     "data": {
      "text/plain": [
       "926"
      ]
     },
     "execution_count": 6,
     "metadata": {},
     "output_type": "execute_result"
    }
   ],
   "source": [
    "np.count_nonzero(y)"
   ]
  },
  {
   "cell_type": "code",
   "execution_count": 26,
   "metadata": {},
   "outputs": [
    {
     "data": {
      "text/plain": [
       "(array([], dtype=int64), array([], dtype=int64), array([], dtype=int64))"
      ]
     },
     "execution_count": 26,
     "metadata": {},
     "output_type": "execute_result"
    }
   ],
   "source": [
    "np.where(X==None)"
   ]
  },
  {
   "cell_type": "code",
   "execution_count": 7,
   "metadata": {},
   "outputs": [
    {
     "name": "stderr",
     "output_type": "stream",
     "text": [
      "Using TensorFlow backend.\n"
     ]
    }
   ],
   "source": [
    "import numpy as np\n",
    "import matplotlib.pyplot as plt\n",
    "import pandas\n",
    "import math\n",
    "from keras.models import Sequential\n",
    "from keras.layers import Dense\n",
    "from keras.layers import LSTM\n",
    "from sklearn.preprocessing import MinMaxScaler\n",
    "from sklearn.metrics import mean_squared_error"
   ]
  },
  {
   "cell_type": "code",
   "execution_count": 9,
   "metadata": {},
   "outputs": [],
   "source": [
    "# fix random seed for reproducibility\n",
    "np.random.seed(7)"
   ]
  },
  {
   "cell_type": "code",
   "execution_count": 27,
   "metadata": {},
   "outputs": [
    {
     "name": "stderr",
     "output_type": "stream",
     "text": [
      "/Users/nimaebadi/Library/Python/3.7/lib/python/site-packages/sklearn/utils/validation.py:595: DataConversionWarning: Data with input dtype <U32 was converted to float64 by MinMaxScaler.\n",
      "  warnings.warn(msg, DataConversionWarning)\n"
     ]
    }
   ],
   "source": [
    "# normalize the dataset\n",
    "scaler = MinMaxScaler(feature_range=(0, 1))\n",
    "dataX_ = scaler.fit_transform(np.reshape(X, (24401, 99*17)))"
   ]
  },
  {
   "cell_type": "code",
   "execution_count": 28,
   "metadata": {},
   "outputs": [],
   "source": [
    "X_ = np.reshape(dataX_, (24401, 99, 17))"
   ]
  },
  {
   "cell_type": "code",
   "execution_count": 29,
   "metadata": {},
   "outputs": [],
   "source": [
    "# split into train and test sets\n",
    "train_size = int(len(X_) * 0.67)\n",
    "test_size = len(X_) - train_size\n",
    "trainX, testX = X_[0:train_size,:,:], X_[train_size:len(X_),:,:]\n",
    "trainy, testy = y[0:train_size], y[train_size:len(X_)]"
   ]
  },
  {
   "cell_type": "code",
   "execution_count": 30,
   "metadata": {},
   "outputs": [
    {
     "name": "stdout",
     "output_type": "stream",
     "text": [
      "(16348, 99, 17) (8053, 99, 17)\n"
     ]
    }
   ],
   "source": [
    "print(np.shape(trainX), np.shape(testX))"
   ]
  },
  {
   "cell_type": "code",
   "execution_count": 31,
   "metadata": {},
   "outputs": [
    {
     "name": "stdout",
     "output_type": "stream",
     "text": [
      "16348 8053\n",
      "715 211\n"
     ]
    }
   ],
   "source": [
    "print(len(trainy), len(testy))\n",
    "print(np.count_nonzero(trainy), np.count_nonzero(testy))"
   ]
  },
  {
   "cell_type": "markdown",
   "metadata": {},
   "source": [
    "# LSTM Model"
   ]
  },
  {
   "cell_type": "code",
   "execution_count": 80,
   "metadata": {},
   "outputs": [],
   "source": [
    "# create and fit the LSTM network\n",
    "batch_size = 28\n",
    "model = Sequential()\n",
    "model.add(LSTM(28, input_shape=(99,17), return_sequences=True))\n",
    "model.add(LSTM(28, input_shape=(99,17)))\n",
    "model.add(Dense(28))\n",
    "model.add(Dense(1))\n",
    "model.compile(loss='mean_squared_error', optimizer='adam', metrics=['acc'])"
   ]
  },
  {
   "cell_type": "code",
   "execution_count": 81,
   "metadata": {},
   "outputs": [
    {
     "name": "stdout",
     "output_type": "stream",
     "text": [
      "Epoch 1/10\n",
      " - 84s - loss: 0.0403 - acc: 0.9561\n",
      "Epoch 2/10\n",
      " - 82s - loss: 0.0384 - acc: 0.9565\n",
      "Epoch 3/10\n",
      " - 82s - loss: 0.0402 - acc: 0.9558\n",
      "Epoch 4/10\n",
      " - 82s - loss: 0.0409 - acc: 0.9563\n",
      "Epoch 5/10\n",
      " - 82s - loss: 0.0392 - acc: 0.9557\n",
      "Epoch 6/10\n",
      " - 82s - loss: 0.0200 - acc: 0.9730\n",
      "Epoch 7/10\n",
      " - 82s - loss: 0.0091 - acc: 0.9905\n",
      "Epoch 8/10\n",
      " - 82s - loss: 0.0053 - acc: 0.9946\n",
      "Epoch 9/10\n",
      " - 82s - loss: 0.0027 - acc: 0.9970\n",
      "Epoch 10/10\n",
      " - 83s - loss: 0.0026 - acc: 0.9972\n"
     ]
    },
    {
     "data": {
      "text/plain": [
       "<keras.callbacks.History at 0x31a1f53c8>"
      ]
     },
     "execution_count": 81,
     "metadata": {},
     "output_type": "execute_result"
    }
   ],
   "source": [
    "model.fit(trainX, trainy, epochs=10, batch_size=batch_size, verbose=2, shuffle=True)"
   ]
  },
  {
   "cell_type": "code",
   "execution_count": 82,
   "metadata": {},
   "outputs": [],
   "source": [
    "trainPredict = model.predict(trainX, batch_size=batch_size)\n",
    "model.reset_states()\n",
    "testPredict = model.predict(testX, batch_size=batch_size)"
   ]
  },
  {
   "cell_type": "code",
   "execution_count": 91,
   "metadata": {},
   "outputs": [
    {
     "data": {
      "text/plain": [
       "(array([], dtype=int64), array([], dtype=int64))"
      ]
     },
     "execution_count": 91,
     "metadata": {},
     "output_type": "execute_result"
    }
   ],
   "source": [
    "np.where(trainPredict>2)"
   ]
  },
  {
   "cell_type": "code",
   "execution_count": 93,
   "metadata": {},
   "outputs": [
    {
     "data": {
      "text/plain": [
       "(array([ 106,  209,  324,  457,  476,  547,  586,  597,  664,  796, 1379,\n",
       "        1451, 1848, 1943, 2016, 2178, 2179, 2180, 2181, 2182, 2234, 2313,\n",
       "        2396, 2407, 2465, 2466, 2475, 3418, 3434, 3465, 3508, 3518, 3549,\n",
       "        3603, 3725, 3875, 3876, 3930, 3975, 3991, 4005, 4017, 4059, 4060,\n",
       "        4095, 4379, 4460, 4526, 4527, 4642, 4643, 4644, 4646, 4655, 4747,\n",
       "        4748, 4832, 4840, 4848, 4878, 4884, 4937, 4938, 4939, 4940, 4941,\n",
       "        4942, 4977, 4981, 4983, 5011, 5012, 5013, 5014, 5015, 5016, 5052,\n",
       "        5074, 5132, 5195, 5196, 5197, 5220, 5301, 5334, 5673, 5744, 5824,\n",
       "        5882, 5908, 6041, 6246, 6368, 6394, 6532, 6583, 6584, 6585, 6586,\n",
       "        6587, 6588, 6589, 6590, 6591, 6592, 6593, 6594, 6733, 6833, 7136,\n",
       "        7137, 7138, 7139, 7140, 7141, 7142, 7143, 7144, 7145, 7146, 7147,\n",
       "        7148, 7149, 7150, 7151, 7152, 7153, 7154, 7155, 7156, 7157, 7158,\n",
       "        7159, 7160, 7215, 7218, 7275, 7336, 7338, 7339, 7340, 7341, 7342,\n",
       "        7343, 7344, 7345, 7346, 7347, 7514, 7522, 7604, 7605, 7606, 7607,\n",
       "        7608, 7609, 7610, 7611, 7612, 7613, 7614]),\n",
       " array([0, 0, 0, 0, 0, 0, 0, 0, 0, 0, 0, 0, 0, 0, 0, 0, 0, 0, 0, 0, 0, 0,\n",
       "        0, 0, 0, 0, 0, 0, 0, 0, 0, 0, 0, 0, 0, 0, 0, 0, 0, 0, 0, 0, 0, 0,\n",
       "        0, 0, 0, 0, 0, 0, 0, 0, 0, 0, 0, 0, 0, 0, 0, 0, 0, 0, 0, 0, 0, 0,\n",
       "        0, 0, 0, 0, 0, 0, 0, 0, 0, 0, 0, 0, 0, 0, 0, 0, 0, 0, 0, 0, 0, 0,\n",
       "        0, 0, 0, 0, 0, 0, 0, 0, 0, 0, 0, 0, 0, 0, 0, 0, 0, 0, 0, 0, 0, 0,\n",
       "        0, 0, 0, 0, 0, 0, 0, 0, 0, 0, 0, 0, 0, 0, 0, 0, 0, 0, 0, 0, 0, 0,\n",
       "        0, 0, 0, 0, 0, 0, 0, 0, 0, 0, 0, 0, 0, 0, 0, 0, 0, 0, 0, 0, 0, 0,\n",
       "        0, 0, 0, 0, 0, 0, 0]))"
      ]
     },
     "execution_count": 93,
     "metadata": {},
     "output_type": "execute_result"
    }
   ],
   "source": [
    "np.where(testPredict>1)"
   ]
  },
  {
   "cell_type": "code",
   "execution_count": 96,
   "metadata": {},
   "outputs": [
    {
     "data": {
      "text/plain": [
       "1"
      ]
     },
     "execution_count": 96,
     "metadata": {},
     "output_type": "execute_result"
    }
   ],
   "source": [
    "trainy, trainPredict, testy, testPredict"
   ]
  },
  {
   "cell_type": "code",
   "execution_count": 97,
   "metadata": {},
   "outputs": [],
   "source": [
    "p.dump((trainy, trainPredict, testy, testPredict),open('labels vs predictions.pickle','wb'))"
   ]
  },
  {
   "cell_type": "code",
   "execution_count": null,
   "metadata": {},
   "outputs": [],
   "source": []
  },
  {
   "cell_type": "code",
   "execution_count": null,
   "metadata": {},
   "outputs": [],
   "source": []
  },
  {
   "cell_type": "code",
   "execution_count": null,
   "metadata": {},
   "outputs": [],
   "source": []
  },
  {
   "cell_type": "code",
   "execution_count": null,
   "metadata": {},
   "outputs": [],
   "source": []
  },
  {
   "cell_type": "code",
   "execution_count": null,
   "metadata": {},
   "outputs": [],
   "source": []
  },
  {
   "cell_type": "code",
   "execution_count": null,
   "metadata": {},
   "outputs": [],
   "source": []
  },
  {
   "cell_type": "code",
   "execution_count": null,
   "metadata": {},
   "outputs": [],
   "source": []
  },
  {
   "cell_type": "code",
   "execution_count": null,
   "metadata": {},
   "outputs": [],
   "source": []
  },
  {
   "cell_type": "code",
   "execution_count": null,
   "metadata": {},
   "outputs": [],
   "source": []
  },
  {
   "cell_type": "code",
   "execution_count": null,
   "metadata": {},
   "outputs": [],
   "source": []
  },
  {
   "cell_type": "code",
   "execution_count": null,
   "metadata": {},
   "outputs": [],
   "source": []
  },
  {
   "cell_type": "code",
   "execution_count": null,
   "metadata": {},
   "outputs": [],
   "source": []
  },
  {
   "cell_type": "code",
   "execution_count": null,
   "metadata": {},
   "outputs": [],
   "source": []
  },
  {
   "cell_type": "code",
   "execution_count": null,
   "metadata": {},
   "outputs": [],
   "source": []
  },
  {
   "cell_type": "code",
   "execution_count": null,
   "metadata": {},
   "outputs": [],
   "source": []
  },
  {
   "cell_type": "code",
   "execution_count": null,
   "metadata": {},
   "outputs": [],
   "source": []
  }
 ],
 "metadata": {
  "kernelspec": {
   "display_name": "Python 3",
   "language": "python",
   "name": "python3"
  },
  "language_info": {
   "codemirror_mode": {
    "name": "ipython",
    "version": 3
   },
   "file_extension": ".py",
   "mimetype": "text/x-python",
   "name": "python",
   "nbconvert_exporter": "python",
   "pygments_lexer": "ipython3",
   "version": "3.5.2"
  }
 },
 "nbformat": 4,
 "nbformat_minor": 4
}
