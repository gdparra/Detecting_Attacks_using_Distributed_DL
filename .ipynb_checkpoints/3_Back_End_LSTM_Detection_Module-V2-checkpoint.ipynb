{
 "cells": [
  {
   "cell_type": "markdown",
   "metadata": {},
   "source": [
    "### Code"
   ]
  },
  {
   "cell_type": "code",
   "execution_count": 1,
   "metadata": {
    "collapsed": false,
    "jupyter": {
     "outputs_hidden": false
    }
   },
   "outputs": [
    {
     "name": "stderr",
     "output_type": "stream",
     "text": [
      "/home/ubuntu/.local/lib/python3.5/site-packages/tensorflow/python/framework/dtypes.py:516: FutureWarning: Passing (type, 1) or '1type' as a synonym of type is deprecated; in a future version of numpy, it will be understood as (type, (1,)) / '(1,)type'.\n",
      "  _np_qint8 = np.dtype([(\"qint8\", np.int8, 1)])\n",
      "/home/ubuntu/.local/lib/python3.5/site-packages/tensorflow/python/framework/dtypes.py:517: FutureWarning: Passing (type, 1) or '1type' as a synonym of type is deprecated; in a future version of numpy, it will be understood as (type, (1,)) / '(1,)type'.\n",
      "  _np_quint8 = np.dtype([(\"quint8\", np.uint8, 1)])\n",
      "/home/ubuntu/.local/lib/python3.5/site-packages/tensorflow/python/framework/dtypes.py:518: FutureWarning: Passing (type, 1) or '1type' as a synonym of type is deprecated; in a future version of numpy, it will be understood as (type, (1,)) / '(1,)type'.\n",
      "  _np_qint16 = np.dtype([(\"qint16\", np.int16, 1)])\n",
      "/home/ubuntu/.local/lib/python3.5/site-packages/tensorflow/python/framework/dtypes.py:519: FutureWarning: Passing (type, 1) or '1type' as a synonym of type is deprecated; in a future version of numpy, it will be understood as (type, (1,)) / '(1,)type'.\n",
      "  _np_quint16 = np.dtype([(\"quint16\", np.uint16, 1)])\n",
      "/home/ubuntu/.local/lib/python3.5/site-packages/tensorflow/python/framework/dtypes.py:520: FutureWarning: Passing (type, 1) or '1type' as a synonym of type is deprecated; in a future version of numpy, it will be understood as (type, (1,)) / '(1,)type'.\n",
      "  _np_qint32 = np.dtype([(\"qint32\", np.int32, 1)])\n",
      "/home/ubuntu/.local/lib/python3.5/site-packages/tensorflow/python/framework/dtypes.py:525: FutureWarning: Passing (type, 1) or '1type' as a synonym of type is deprecated; in a future version of numpy, it will be understood as (type, (1,)) / '(1,)type'.\n",
      "  np_resource = np.dtype([(\"resource\", np.ubyte, 1)])\n",
      "/home/ubuntu/.local/lib/python3.5/site-packages/tensorboard/compat/tensorflow_stub/dtypes.py:541: FutureWarning: Passing (type, 1) or '1type' as a synonym of type is deprecated; in a future version of numpy, it will be understood as (type, (1,)) / '(1,)type'.\n",
      "  _np_qint8 = np.dtype([(\"qint8\", np.int8, 1)])\n",
      "/home/ubuntu/.local/lib/python3.5/site-packages/tensorboard/compat/tensorflow_stub/dtypes.py:542: FutureWarning: Passing (type, 1) or '1type' as a synonym of type is deprecated; in a future version of numpy, it will be understood as (type, (1,)) / '(1,)type'.\n",
      "  _np_quint8 = np.dtype([(\"quint8\", np.uint8, 1)])\n",
      "/home/ubuntu/.local/lib/python3.5/site-packages/tensorboard/compat/tensorflow_stub/dtypes.py:543: FutureWarning: Passing (type, 1) or '1type' as a synonym of type is deprecated; in a future version of numpy, it will be understood as (type, (1,)) / '(1,)type'.\n",
      "  _np_qint16 = np.dtype([(\"qint16\", np.int16, 1)])\n",
      "/home/ubuntu/.local/lib/python3.5/site-packages/tensorboard/compat/tensorflow_stub/dtypes.py:544: FutureWarning: Passing (type, 1) or '1type' as a synonym of type is deprecated; in a future version of numpy, it will be understood as (type, (1,)) / '(1,)type'.\n",
      "  _np_quint16 = np.dtype([(\"quint16\", np.uint16, 1)])\n",
      "/home/ubuntu/.local/lib/python3.5/site-packages/tensorboard/compat/tensorflow_stub/dtypes.py:545: FutureWarning: Passing (type, 1) or '1type' as a synonym of type is deprecated; in a future version of numpy, it will be understood as (type, (1,)) / '(1,)type'.\n",
      "  _np_qint32 = np.dtype([(\"qint32\", np.int32, 1)])\n",
      "/home/ubuntu/.local/lib/python3.5/site-packages/tensorboard/compat/tensorflow_stub/dtypes.py:550: FutureWarning: Passing (type, 1) or '1type' as a synonym of type is deprecated; in a future version of numpy, it will be understood as (type, (1,)) / '(1,)type'.\n",
      "  np_resource = np.dtype([(\"resource\", np.ubyte, 1)])\n",
      "Using TensorFlow backend.\n"
     ]
    }
   ],
   "source": [
    "import tensorflow as tf\n",
    "#from tensorflow.examples.tutorials.mnist import input_data\n",
    "from tensorflow.python.ops import rnn, rnn_cell\n",
    "#mnist = input_data.read_data_sets('MNIST_data', one_hot=True)\n",
    "import numpy as np # Included\n",
    "import pandas as pd\n",
    "import csv\n",
    "import sys\n",
    "from keras.models import Sequential\n",
    "from keras.layers import Dense\n",
    "from keras.layers import LSTM\n",
    "from sklearn.preprocessing import MinMaxScaler\n",
    "from sklearn.metrics import mean_squared_error\n",
    "from sklearn.feature_extraction import DictVectorizer as DV\n",
    "\n",
    "#np.set_printoptions(threshold=sys.maxsize)\n",
    "\n",
    "dir1=\"/home/ubuntu/dataset/\"\n",
    "#dir1=\"/Users/ejl334/Downloads/IoT Dataset by UC/Concatenated/Archive/\"\n",
    "\n",
    "from numpy import genfromtxt\n",
    "benign_traffic = genfromtxt(dir1+'benign_traffic.csv', delimiter=',')\n",
    "malicious_traffic_dataset = genfromtxt(dir1+'mirai_udp.csv', delimiter=',')"
   ]
  },
  {
   "cell_type": "code",
   "execution_count": 2,
   "metadata": {},
   "outputs": [
    {
     "name": "stdout",
     "output_type": "stream",
     "text": [
      "========================================================================\n",
      "***BENIGN TRAFFIC***\n",
      "========================================================================\n",
      "***DIMENSIONS***\n",
      "Dimensions Rows: 555941 Columns: 115\n",
      "***NAN ROWS***\n",
      "[[     0]\n",
      " [ 49549]\n",
      " [ 62663]\n",
      " [101764]\n",
      " [277005]\n",
      " [339160]\n",
      " [437675]\n",
      " [489826]\n",
      " [536412]]\n",
      "***** NAN Removal *****\n",
      "***DIMENSIONS***\n",
      "Dimensions Rows: 555932 Columns: 115\n",
      "***NAN ROWS***\n",
      "[]\n",
      "========================================================================\n",
      "***MALICIOUS TRAFFIC***\n",
      "========================================================================\n",
      "***DIMENSIONS ML***\n",
      "Dimensions ML Rows: 1230006 Columns: 115\n",
      "***NAN ROWS ML***\n",
      "[[      0]\n",
      " [ 237666]\n",
      " [ 389148]\n",
      " [ 606183]\n",
      " [ 762432]\n",
      " [ 921041]\n",
      " [1072921]]\n",
      "***** NAN Removal ML *****\n",
      "***DIMENSIONS ML***\n",
      "Dimensions ML Rows: 1229999 Columns: 115\n",
      "***NAN ROWS ML***\n",
      "[]\n"
     ]
    }
   ],
   "source": [
    "# DELETE COLUMNS WITH NAN\n",
    "print(\"========================================================================\")\n",
    "print(\"***BENIGN TRAFFIC***\")\n",
    "print(\"========================================================================\")\n",
    "print(\"***DIMENSIONS***\")\n",
    "numrows = len(benign_traffic)\n",
    "numcols = len(benign_traffic[0])\n",
    "print(\"Dimensions Rows: %s Columns: %s\" %(numrows,numcols))\n",
    "\n",
    "print(\"***NAN ROWS***\")\n",
    "nan_rows=np.argwhere(np.isnan(benign_traffic).any(axis=1))\n",
    "print(nan_rows)\n",
    "\n",
    "print(\"***** NAN Removal *****\")\n",
    "benign_traffic = benign_traffic[~np.isnan(benign_traffic).any(axis=1)]\n",
    "\n",
    "print(\"***DIMENSIONS***\")\n",
    "numrows_good = len(benign_traffic)\n",
    "numcols = len(benign_traffic[0])\n",
    "print(\"Dimensions Rows: %s Columns: %s\" %(numrows_good,numcols))\n",
    "\n",
    "print(\"***NAN ROWS***\")\n",
    "nan_rows=np.argwhere(np.isnan(benign_traffic).any(axis=1))\n",
    "print(nan_rows)\n",
    "\n",
    "print(\"========================================================================\")\n",
    "print(\"***MALICIOUS TRAFFIC***\")\n",
    "print(\"========================================================================\")\n",
    "print(\"***DIMENSIONS ML***\")\n",
    "malicious_dataset = malicious_traffic_dataset\n",
    "\n",
    "numrows_ml = len(malicious_dataset)\n",
    "numcols_ml = len(malicious_dataset[0])\n",
    "print(\"Dimensions ML Rows: %s Columns: %s\" %(numrows_ml,numcols_ml))\n",
    "\n",
    "print(\"***NAN ROWS ML***\")\n",
    "nan_rows_ml=np.argwhere(np.isnan(malicious_dataset).any(axis=1))\n",
    "print(nan_rows_ml)\n",
    "\n",
    "print(\"***** NAN Removal ML *****\")\n",
    "malicious_dataset = malicious_dataset[~np.isnan(malicious_dataset).any(axis=1)]\n",
    "\n",
    "print(\"***DIMENSIONS ML***\")\n",
    "numrows_bad = len(malicious_dataset)\n",
    "numcols_bad = len(malicious_dataset[0])\n",
    "print(\"Dimensions ML Rows: %s Columns: %s\" %(numrows_bad,numcols_bad))\n",
    "print(\"***NAN ROWS ML***\")\n",
    "nan_rows_ml=np.argwhere(np.isnan(malicious_dataset).any(axis=1))\n",
    "print(nan_rows_ml)"
   ]
  },
  {
   "cell_type": "code",
   "execution_count": 3,
   "metadata": {},
   "outputs": [
    {
     "data": {
      "text/plain": [
       "array([1.00000000e+00, 6.00000000e+01, 0.00000000e+00, 1.00000000e+00,\n",
       "       6.00000000e+01, 0.00000000e+00, 1.00000000e+00, 6.00000000e+01,\n",
       "       0.00000000e+00, 1.00000000e+00, 6.00000000e+01, 0.00000000e+00,\n",
       "       1.00000000e+00, 6.00000000e+01, 0.00000000e+00, 1.00000000e+00,\n",
       "       6.00000000e+01, 0.00000000e+00, 1.00000000e+00, 6.00000000e+01,\n",
       "       0.00000000e+00, 1.00000000e+00, 6.00000000e+01, 0.00000000e+00,\n",
       "       1.00000000e+00, 6.00000000e+01, 0.00000000e+00, 1.00000000e+00,\n",
       "       6.00000000e+01, 0.00000000e+00, 1.00000000e+00, 6.00000000e+01,\n",
       "       0.00000000e+00, 6.00000000e+01, 0.00000000e+00, 0.00000000e+00,\n",
       "       0.00000000e+00, 1.00000000e+00, 6.00000000e+01, 0.00000000e+00,\n",
       "       6.00000000e+01, 0.00000000e+00, 0.00000000e+00, 0.00000000e+00,\n",
       "       1.00000000e+00, 6.00000000e+01, 0.00000000e+00, 6.00000000e+01,\n",
       "       0.00000000e+00, 0.00000000e+00, 0.00000000e+00, 1.00000000e+00,\n",
       "       6.00000000e+01, 0.00000000e+00, 6.00000000e+01, 0.00000000e+00,\n",
       "       0.00000000e+00, 0.00000000e+00, 1.00000000e+00, 6.00000000e+01,\n",
       "       0.00000000e+00, 6.00000000e+01, 0.00000000e+00, 0.00000000e+00,\n",
       "       0.00000000e+00, 1.00000000e+00, 1.50566169e+09, 0.00000000e+00,\n",
       "       1.00000000e+00, 1.50566169e+09, 0.00000000e+00, 1.00000000e+00,\n",
       "       1.50566169e+09, 0.00000000e+00, 1.00000000e+00, 1.50566169e+09,\n",
       "       0.00000000e+00, 1.00000000e+00, 1.50566169e+09, 0.00000000e+00,\n",
       "       1.00000000e+00, 6.00000000e+01, 0.00000000e+00, 6.00000000e+01,\n",
       "       0.00000000e+00, 0.00000000e+00, 0.00000000e+00, 1.00000000e+00,\n",
       "       6.00000000e+01, 0.00000000e+00, 6.00000000e+01, 0.00000000e+00,\n",
       "       0.00000000e+00, 0.00000000e+00, 1.00000000e+00, 6.00000000e+01,\n",
       "       0.00000000e+00, 6.00000000e+01, 0.00000000e+00, 0.00000000e+00,\n",
       "       0.00000000e+00, 1.00000000e+00, 6.00000000e+01, 0.00000000e+00,\n",
       "       6.00000000e+01, 0.00000000e+00, 0.00000000e+00, 0.00000000e+00,\n",
       "       1.00000000e+00, 6.00000000e+01, 0.00000000e+00, 6.00000000e+01,\n",
       "       0.00000000e+00, 0.00000000e+00, 0.00000000e+00])"
      ]
     },
     "execution_count": 3,
     "metadata": {},
     "output_type": "execute_result"
    }
   ],
   "source": [
    "benign_traffic[0]"
   ]
  },
  {
   "cell_type": "code",
   "execution_count": 4,
   "metadata": {},
   "outputs": [],
   "source": [
    "# DELETE UNWANTED COLUMNS\n",
    "benign_traffic = np.delete(benign_traffic, [2,5,8,11,14,17,20,23,26,29,\\\n",
    "                                            34,35,41,42,48,49,55,56,62,63,\\\n",
    "                                            66,67,69,70,72,73,75,76,78,79,\\\n",
    "                                            84,85,91,92,98,99,105,106,112,113,], axis=1)\n",
    "malicious_dataset = np.delete(malicious_dataset, [2,5,8,11,14,17,20,23,26,29,\\\n",
    "                                            34,35,41,42,48,49,55,56,62,63,\\\n",
    "                                            66,67,69,70,72,73,75,76,78,79,\\\n",
    "                                            84,85,91,92,98,99,105,106,112,113,], axis=1)\n"
   ]
  },
  {
   "cell_type": "code",
   "execution_count": 5,
   "metadata": {},
   "outputs": [
    {
     "name": "stdout",
     "output_type": "stream",
     "text": [
      "***DIMENSIONS BENIGN***\n",
      "Dimensions Rows: 555932 Columns: 75\n",
      "***DIMENSIONS MALICIOUS***\n",
      "Dimensions Rows: 1229999 Columns: 75\n"
     ]
    }
   ],
   "source": [
    "print(\"***DIMENSIONS BENIGN***\")\n",
    "numrows_good = len(benign_traffic)\n",
    "numcols_good = len(benign_traffic[0])\n",
    "print(\"Dimensions Rows: %s Columns: %s\" %(numrows_good,numcols_good))\n",
    "print(\"***DIMENSIONS MALICIOUS***\")\n",
    "numrows_bad = len(malicious_dataset)\n",
    "numcols_bad = len(malicious_dataset[0])\n",
    "print(\"Dimensions Rows: %s Columns: %s\" %(numrows_bad,numcols_bad))"
   ]
  },
  {
   "cell_type": "code",
   "execution_count": 6,
   "metadata": {},
   "outputs": [
    {
     "name": "stdout",
     "output_type": "stream",
     "text": [
      "*** COMPLETE DATASET ***\n",
      "Dimensions Rows: 1785931 Columns: 75\n",
      "*** COMPLETE DATASET Labels ***\n",
      "Dimensions Rows: 1785931\n"
     ]
    }
   ],
   "source": [
    "# Define Labels\n",
    "y_benings = np.zeros(len(benign_traffic),dtype=int)\n",
    "y_malicious = np.ones(len(malicious_dataset),dtype=int)\n",
    "\n",
    "complete_dataset = np.concatenate((benign_traffic, malicious_dataset), 0)\n",
    "print(\"*** COMPLETE DATASET ***\")\n",
    "numrows = len(complete_dataset)\n",
    "numcols = len(complete_dataset[0])\n",
    "print(\"Dimensions Rows: %s Columns: %s\" %(numrows,numcols))\n",
    "complete_dataset_labels = np.concatenate((y_benings,y_malicious),0)\n",
    "print(\"*** COMPLETE DATASET Labels ***\")\n",
    "numrows = len(complete_dataset_labels)\n",
    "numcols = len(complete_dataset_labels)\n",
    "print(\"Dimensions Rows: %s\" %(numrows))"
   ]
  },
  {
   "cell_type": "code",
   "execution_count": 7,
   "metadata": {},
   "outputs": [],
   "source": [
    "# NORMALIZE DATASET\n",
    "scaler = MinMaxScaler(feature_range=(0, 1))\n",
    "dataX_ = scaler.fit_transform(complete_dataset)\n",
    "#dataX_ = scaler.fit_transform(np.reshape(complete_dataset, (numrows, numcols)))\n",
    "#                                                        (5000,100*75)\n",
    "X_ = dataX_\n",
    "#X_ = np.reshape(dataX_, (numrows, numcols))\n",
    "#X_ = np.reshape(dataX_, (5000, 100, 75))"
   ]
  },
  {
   "cell_type": "code",
   "execution_count": 8,
   "metadata": {},
   "outputs": [],
   "source": [
    "from sklearn import model_selection\n",
    "validation_size = 0.40\n",
    "seed = 7\n",
    "X_train, X_validation, Y_train, Y_validation = model_selection.train_test_split(X_, complete_dataset_labels, test_size=validation_size, random_state=seed)\n",
    "\n",
    "##### NEW #####\n",
    "validation_size = 0.50\n",
    "seed = 7\n",
    "X_validation, X_test, Y_validation, Y_test = model_selection.train_test_split(X_validation, Y_validation, test_size=validation_size, random_state=seed)\n",
    "###############\n",
    "\n",
    "\n",
    "del X_\n",
    "del dataX_\n"
   ]
  },
  {
   "cell_type": "code",
   "execution_count": 9,
   "metadata": {},
   "outputs": [],
   "source": [
    "#benign_traffic = X_[:numrows_good, :]\n",
    "#malicious_dataset = X_[numrows_good:, :]\n",
    "\n",
    "# print(\"*** COMPLETE DATASET ***\")\n",
    "# numrows = len(benign_traffic)\n",
    "# numcols = len(benign_traffic[0])\n",
    "# print(\"Dimensions Rows: %s Columns: %s\" %(numrows,numcols))\n",
    "\n",
    "# print(\"*** COMPLETE DATASET ***\")\n",
    "# numrows = len(malicious_dataset)\n",
    "# numcols = len(malicious_dataset[0])\n",
    "# print(\"Dimensions Rows: %s Columns: %s\" %(numrows,numcols))\n",
    "\n",
    "# # Clear Variables\n",
    "# del X_\n",
    "# del dataX_\n"
   ]
  },
  {
   "cell_type": "code",
   "execution_count": 10,
   "metadata": {},
   "outputs": [],
   "source": [
    "# def rounder(x):\n",
    "#     if (x-int(x) >= 0.5):\n",
    "#         return np.ceil(x)\n",
    "#     else:\n",
    "#         return np.floor(x)\n",
    "\n",
    "# split1 = int(rounder(len(benign_traffic)*0.8))\n",
    "# split2 = int(rounder(len(malicious_dataset)*0.8))\n",
    "# current_bot_data = gafgyt_combo\n",
    "\n",
    "# print(split1)\n",
    "# print(split2)"
   ]
  },
  {
   "cell_type": "code",
   "execution_count": 11,
   "metadata": {},
   "outputs": [],
   "source": [
    "# def dimensions_data(x):\n",
    "#     numrows = len(x)\n",
    "#     numcols = len(x[0])\n",
    "#     print(\"Dimensions Rows: %s Columns: %s\" %(numrows,numcols))\n",
    "\n",
    "\n",
    "# benign_pre_train_x = benign_traffic[:split1, :]\n",
    "# print(\"*** DIMENSIONS benign_pre_train_x***\")\n",
    "# dimensions_data(benign_pre_train_x)\n",
    "\n",
    "# benign_pre_test_x = benign_traffic[split1:, :]\n",
    "# print(\"*** DIMENSIONS benign_pre_test_x***\")\n",
    "# dimensions_data(benign_pre_test_x)\n",
    "\n",
    "# benign_pre_train_y = y_benings[:split1, :]\n",
    "# print(\"*** DIMENSIONS benign_pre_train_y***\")\n",
    "# dimensions_data(benign_pre_train_y)\n",
    "\n",
    "# benign_pre_test_y = y_benings[split1:, :]\n",
    "# print(\"*** DIMENSIONS benign_pre_test_y***\")\n",
    "# dimensions_data(benign_pre_test_y)\n",
    "\n",
    "\n",
    "\n",
    "# malicious_pre_train_x = malicious_dataset[:split2, :]\n",
    "# print(\"*** DIMENSIONS malicious_pre_train_x***\")\n",
    "# dimensions_data(malicious_pre_train_x\n",
    "#                )\n",
    "# malicious_pre_test_x = malicious_dataset[split2:, :]\n",
    "# print(\"*** DIMENSIONS malicious_pre_test_x***\")\n",
    "# dimensions_data(malicious_pre_test_x)\n",
    "\n",
    "# malicious_pre_train_y = y_malicious[:split2, :]\n",
    "# print(\"*** DIMENSIONS malicious_pre_train_y***\")\n",
    "# dimensions_data(malicious_pre_train_y)\n",
    "\n",
    "# malicious_pre_test_y = y_malicious[split2:, :]\n",
    "# print(\"*** DIMENSIONS malicious_pre_test_y***\")\n",
    "# dimensions_data(malicious_pre_test_y)\n",
    "\n",
    "# train_x = np.concatenate((benign_pre_train_x, malicious_pre_train_x), 0)\n",
    "# print(\"*** DIMENSIONS - TRAIN_X ***\")\n",
    "# dimensions_data(train_x)\n",
    "    \n",
    "# test_x = np.concatenate((benign_pre_test_x, malicious_pre_test_x), 0)\n",
    "# print(\"*** DIMENSIONS TEXT_X ***\")\n",
    "# dimensions_data(test_x)\n",
    "\n",
    "# train_y = np.concatenate((benign_pre_train_y,malicious_pre_train_y),0)\n",
    "# print(\"*** DIMENSIONS TRAIN_Y ***\")\n",
    "# dimensions_data(train_y)\n",
    "\n",
    "# test_y = np.concatenate((benign_pre_test_y,malicious_pre_test_y),0)\n",
    "# print(\"*** DIMENSIONS TEST_Y***\")\n",
    "# dimensions_data(test_y)"
   ]
  },
  {
   "cell_type": "code",
   "execution_count": 12,
   "metadata": {},
   "outputs": [],
   "source": [
    "# print(benign_traffic[0:2])\n",
    "# numrows = len(benign_traffic)    # 3 rows in your example\n",
    "# numcols = len(benign_traffic[0]) # 2 columns in your example\n",
    "# print(\"Dimensions Rows: %s Columns: %s\" %(numrows,numcols))"
   ]
  },
  {
   "cell_type": "code",
   "execution_count": 13,
   "metadata": {},
   "outputs": [
    {
     "name": "stdout",
     "output_type": "stream",
     "text": [
      "(1071558, 75) (357186, 75) (357187, 75)\n",
      "1071558 357186 357187\n"
     ]
    }
   ],
   "source": [
    "print(np.shape(X_train), np.shape(X_validation), np.shape(X_test))\n",
    "print(len(Y_train), len(Y_validation), len(Y_test))\n",
    "#print(np.count_nonzero(X_train), np.count_nonzero(Y_train))"
   ]
  },
  {
   "cell_type": "code",
   "execution_count": 14,
   "metadata": {},
   "outputs": [
    {
     "name": "stdout",
     "output_type": "stream",
     "text": [
      "357186\n",
      "(1071558, 1, 75)\n",
      "(357186, 1, 75)\n",
      "(357187, 1, 75)\n"
     ]
    }
   ],
   "source": [
    "# Vectorize data\n",
    "print(len(Y_validation))\n",
    "#vector_train_x = X_train.reshape((85687, 10, 75))\n",
    "vector_train_x = X_train.reshape((len(X_train), 1, 75))\n",
    "print(vector_train_x.shape)\n",
    "#vector_test_x = X_validation.reshape((23802, 9, 75))\n",
    "vector_validation_x = X_validation.reshape((len(X_validation), 1, 75))\n",
    "print(vector_validation_x.shape)\n",
    "\n",
    "##### NEW #####\n",
    "vector_test_x = X_test.reshape((len(X_test), 1, 75))\n",
    "print(vector_test_x.shape)\n",
    "###############\n",
    "\n",
    "#vector_train_x = train_x.reshape(856871,75,np.newaxis)\n",
    "#vector_test_x = test_x.reshape(214217,75,np.newaxis)\n",
    "#print(vector_train_x[0])"
   ]
  },
  {
   "cell_type": "markdown",
   "metadata": {},
   "source": [
    "# LSTM MODEL"
   ]
  },
  {
   "cell_type": "code",
   "execution_count": 43,
   "metadata": {},
   "outputs": [
    {
     "name": "stdout",
     "output_type": "stream",
     "text": [
      "Model: \"sequential_4\"\n",
      "_________________________________________________________________\n",
      "Layer (type)                 Output Shape              Param #   \n",
      "=================================================================\n",
      "lstm_7 (LSTM)                (None, 1, 28)             11648     \n",
      "_________________________________________________________________\n",
      "dropout_7 (Dropout)          (None, 1, 28)             0         \n",
      "_________________________________________________________________\n",
      "lstm_8 (LSTM)                (None, 28)                6384      \n",
      "_________________________________________________________________\n",
      "dropout_8 (Dropout)          (None, 28)                0         \n",
      "_________________________________________________________________\n",
      "dense_7 (Dense)              (None, 28)                812       \n",
      "_________________________________________________________________\n",
      "dense_8 (Dense)              (None, 1)                 29        \n",
      "=================================================================\n",
      "Total params: 18,873\n",
      "Trainable params: 18,873\n",
      "Non-trainable params: 0\n",
      "_________________________________________________________________\n"
     ]
    }
   ],
   "source": [
    "from keras.layers import Dropout\n",
    "from keras.callbacks import EarlyStopping\n",
    "from sklearn import model_selection\n",
    "\n",
    "batch_size = 100000\n",
    "model = Sequential()\n",
    "model.add(LSTM(28, input_shape=(1,75), return_sequences=True))\n",
    "model.add(Dropout(0.5))\n",
    "model.add(LSTM(28))\n",
    "model.add(Dropout(0.5))\n",
    "model.add(Dense(28))\n",
    "model.add(Dense(1, activation=\"softmax\"))\n",
    "#model.compile(loss='mean_squared_error', optimizer='adam', metrics=['acc'])\n",
    "model.compile(loss='binary_crossentropy', optimizer='adam', metrics=['acc'])\n",
    "early_stopping = EarlyStopping(monitor='val_loss', min_delta=0, patience=0, verbose=0, mode='auto', baseline=None, restore_best_weights=False)\n",
    "\n",
    "model.summary()"
   ]
  },
  {
   "cell_type": "code",
   "execution_count": 45,
   "metadata": {},
   "outputs": [
    {
     "name": "stdout",
     "output_type": "stream",
     "text": [
      "Train on 1071558 samples, validate on 357186 samples\n",
      "Epoch 1/25\n",
      " - 3s - loss: 4.9578 - acc: 0.6890 - val_loss: 4.9875 - val_acc: 0.6872\n",
      "Epoch 2/25\n",
      " - 3s - loss: 4.9578 - acc: 0.6890 - val_loss: 4.9875 - val_acc: 0.6872\n",
      "Epoch 3/25\n",
      " - 3s - loss: 4.9578 - acc: 0.6890 - val_loss: 4.9875 - val_acc: 0.6872\n",
      "Epoch 4/25\n",
      " - 3s - loss: 4.9578 - acc: 0.6890 - val_loss: 4.9875 - val_acc: 0.6872\n",
      "Epoch 5/25\n",
      " - 3s - loss: 4.9578 - acc: 0.6890 - val_loss: 4.9875 - val_acc: 0.6872\n",
      "Epoch 6/25\n",
      " - 3s - loss: 4.9578 - acc: 0.6890 - val_loss: 4.9875 - val_acc: 0.6872\n",
      "Epoch 7/25\n",
      " - 3s - loss: 4.9578 - acc: 0.6890 - val_loss: 4.9875 - val_acc: 0.6872\n",
      "Epoch 8/25\n",
      " - 3s - loss: 4.9578 - acc: 0.6890 - val_loss: 4.9875 - val_acc: 0.6872\n",
      "Epoch 9/25\n",
      " - 3s - loss: 4.9578 - acc: 0.6890 - val_loss: 4.9875 - val_acc: 0.6872\n",
      "Epoch 10/25\n",
      " - 3s - loss: 4.9578 - acc: 0.6890 - val_loss: 4.9875 - val_acc: 0.6872\n",
      "Epoch 11/25\n",
      " - 3s - loss: 4.9578 - acc: 0.6890 - val_loss: 4.9875 - val_acc: 0.6872\n",
      "Epoch 12/25\n",
      " - 3s - loss: 4.9578 - acc: 0.6890 - val_loss: 4.9875 - val_acc: 0.6872\n",
      "Epoch 13/25\n",
      " - 3s - loss: 4.9578 - acc: 0.6890 - val_loss: 4.9875 - val_acc: 0.6872\n",
      "Epoch 14/25\n"
     ]
    },
    {
     "ename": "KeyboardInterrupt",
     "evalue": "",
     "output_type": "error",
     "traceback": [
      "\u001b[0;31m---------------------------------------------------------------------------\u001b[0m",
      "\u001b[0;31mKeyboardInterrupt\u001b[0m                         Traceback (most recent call last)",
      "\u001b[0;32m<ipython-input-45-1327daa01f24>\u001b[0m in \u001b[0;36m<module>\u001b[0;34m\u001b[0m\n\u001b[0;32m----> 1\u001b[0;31m \u001b[0mhistory\u001b[0m \u001b[0;34m=\u001b[0m \u001b[0mmodel\u001b[0m\u001b[0;34m.\u001b[0m\u001b[0mfit\u001b[0m\u001b[0;34m(\u001b[0m\u001b[0mvector_train_x\u001b[0m\u001b[0;34m,\u001b[0m \u001b[0mY_train\u001b[0m\u001b[0;34m,\u001b[0m \u001b[0mepochs\u001b[0m\u001b[0;34m=\u001b[0m\u001b[0;36m25\u001b[0m\u001b[0;34m,\u001b[0m \u001b[0mbatch_size\u001b[0m\u001b[0;34m=\u001b[0m\u001b[0mbatch_size\u001b[0m\u001b[0;34m,\u001b[0m \u001b[0mvalidation_data\u001b[0m\u001b[0;34m=\u001b[0m\u001b[0;34m(\u001b[0m\u001b[0mvector_validation_x\u001b[0m\u001b[0;34m,\u001b[0m \u001b[0mY_validation\u001b[0m\u001b[0;34m)\u001b[0m\u001b[0;34m,\u001b[0m \u001b[0mverbose\u001b[0m\u001b[0;34m=\u001b[0m\u001b[0;36m2\u001b[0m\u001b[0;34m,\u001b[0m \u001b[0mshuffle\u001b[0m\u001b[0;34m=\u001b[0m\u001b[0;32mTrue\u001b[0m\u001b[0;34m)\u001b[0m\u001b[0;31m#callbacks=[early_stopping]\u001b[0m\u001b[0;34m\u001b[0m\u001b[0m\n\u001b[0m",
      "\u001b[0;32m~/.local/lib/python3.5/site-packages/keras/engine/training.py\u001b[0m in \u001b[0;36mfit\u001b[0;34m(self, x, y, batch_size, epochs, verbose, callbacks, validation_split, validation_data, shuffle, class_weight, sample_weight, initial_epoch, steps_per_epoch, validation_steps, validation_freq, max_queue_size, workers, use_multiprocessing, **kwargs)\u001b[0m\n\u001b[1;32m   1176\u001b[0m                                         \u001b[0msteps_per_epoch\u001b[0m\u001b[0;34m=\u001b[0m\u001b[0msteps_per_epoch\u001b[0m\u001b[0;34m,\u001b[0m\u001b[0;34m\u001b[0m\u001b[0m\n\u001b[1;32m   1177\u001b[0m                                         \u001b[0mvalidation_steps\u001b[0m\u001b[0;34m=\u001b[0m\u001b[0mvalidation_steps\u001b[0m\u001b[0;34m,\u001b[0m\u001b[0;34m\u001b[0m\u001b[0m\n\u001b[0;32m-> 1178\u001b[0;31m                                         validation_freq=validation_freq)\n\u001b[0m\u001b[1;32m   1179\u001b[0m \u001b[0;34m\u001b[0m\u001b[0m\n\u001b[1;32m   1180\u001b[0m     def evaluate(self,\n",
      "\u001b[0;32m~/.local/lib/python3.5/site-packages/keras/engine/training_arrays.py\u001b[0m in \u001b[0;36mfit_loop\u001b[0;34m(model, fit_function, fit_inputs, out_labels, batch_size, epochs, verbose, callbacks, val_function, val_inputs, shuffle, callback_metrics, initial_epoch, steps_per_epoch, validation_steps, validation_freq)\u001b[0m\n\u001b[1;32m    202\u001b[0m                     \u001b[0mins_batch\u001b[0m\u001b[0;34m[\u001b[0m\u001b[0mi\u001b[0m\u001b[0;34m]\u001b[0m \u001b[0;34m=\u001b[0m \u001b[0mins_batch\u001b[0m\u001b[0;34m[\u001b[0m\u001b[0mi\u001b[0m\u001b[0;34m]\u001b[0m\u001b[0;34m.\u001b[0m\u001b[0mtoarray\u001b[0m\u001b[0;34m(\u001b[0m\u001b[0;34m)\u001b[0m\u001b[0;34m\u001b[0m\u001b[0m\n\u001b[1;32m    203\u001b[0m \u001b[0;34m\u001b[0m\u001b[0m\n\u001b[0;32m--> 204\u001b[0;31m                 \u001b[0mouts\u001b[0m \u001b[0;34m=\u001b[0m \u001b[0mfit_function\u001b[0m\u001b[0;34m(\u001b[0m\u001b[0mins_batch\u001b[0m\u001b[0;34m)\u001b[0m\u001b[0;34m\u001b[0m\u001b[0m\n\u001b[0m\u001b[1;32m    205\u001b[0m                 \u001b[0mouts\u001b[0m \u001b[0;34m=\u001b[0m \u001b[0mto_list\u001b[0m\u001b[0;34m(\u001b[0m\u001b[0mouts\u001b[0m\u001b[0;34m)\u001b[0m\u001b[0;34m\u001b[0m\u001b[0m\n\u001b[1;32m    206\u001b[0m                 \u001b[0;32mfor\u001b[0m \u001b[0ml\u001b[0m\u001b[0;34m,\u001b[0m \u001b[0mo\u001b[0m \u001b[0;32min\u001b[0m \u001b[0mzip\u001b[0m\u001b[0;34m(\u001b[0m\u001b[0mout_labels\u001b[0m\u001b[0;34m,\u001b[0m \u001b[0mouts\u001b[0m\u001b[0;34m)\u001b[0m\u001b[0;34m:\u001b[0m\u001b[0;34m\u001b[0m\u001b[0m\n",
      "\u001b[0;32m~/.local/lib/python3.5/site-packages/keras/backend/tensorflow_backend.py\u001b[0m in \u001b[0;36m__call__\u001b[0;34m(self, inputs)\u001b[0m\n\u001b[1;32m   2977\u001b[0m                     \u001b[0;32mreturn\u001b[0m \u001b[0mself\u001b[0m\u001b[0;34m.\u001b[0m\u001b[0m_legacy_call\u001b[0m\u001b[0;34m(\u001b[0m\u001b[0minputs\u001b[0m\u001b[0;34m)\u001b[0m\u001b[0;34m\u001b[0m\u001b[0m\n\u001b[1;32m   2978\u001b[0m \u001b[0;34m\u001b[0m\u001b[0m\n\u001b[0;32m-> 2979\u001b[0;31m             \u001b[0;32mreturn\u001b[0m \u001b[0mself\u001b[0m\u001b[0;34m.\u001b[0m\u001b[0m_call\u001b[0m\u001b[0;34m(\u001b[0m\u001b[0minputs\u001b[0m\u001b[0;34m)\u001b[0m\u001b[0;34m\u001b[0m\u001b[0m\n\u001b[0m\u001b[1;32m   2980\u001b[0m         \u001b[0;32melse\u001b[0m\u001b[0;34m:\u001b[0m\u001b[0;34m\u001b[0m\u001b[0m\n\u001b[1;32m   2981\u001b[0m             \u001b[0;32mif\u001b[0m \u001b[0mpy_any\u001b[0m\u001b[0;34m(\u001b[0m\u001b[0mis_tensor\u001b[0m\u001b[0;34m(\u001b[0m\u001b[0mx\u001b[0m\u001b[0;34m)\u001b[0m \u001b[0;32mfor\u001b[0m \u001b[0mx\u001b[0m \u001b[0;32min\u001b[0m \u001b[0minputs\u001b[0m\u001b[0;34m)\u001b[0m\u001b[0;34m:\u001b[0m\u001b[0;34m\u001b[0m\u001b[0m\n",
      "\u001b[0;32m~/.local/lib/python3.5/site-packages/keras/backend/tensorflow_backend.py\u001b[0m in \u001b[0;36m_call\u001b[0;34m(self, inputs)\u001b[0m\n\u001b[1;32m   2935\u001b[0m             \u001b[0mfetched\u001b[0m \u001b[0;34m=\u001b[0m \u001b[0mself\u001b[0m\u001b[0;34m.\u001b[0m\u001b[0m_callable_fn\u001b[0m\u001b[0;34m(\u001b[0m\u001b[0;34m*\u001b[0m\u001b[0marray_vals\u001b[0m\u001b[0;34m,\u001b[0m \u001b[0mrun_metadata\u001b[0m\u001b[0;34m=\u001b[0m\u001b[0mself\u001b[0m\u001b[0;34m.\u001b[0m\u001b[0mrun_metadata\u001b[0m\u001b[0;34m)\u001b[0m\u001b[0;34m\u001b[0m\u001b[0m\n\u001b[1;32m   2936\u001b[0m         \u001b[0;32melse\u001b[0m\u001b[0;34m:\u001b[0m\u001b[0;34m\u001b[0m\u001b[0m\n\u001b[0;32m-> 2937\u001b[0;31m             \u001b[0mfetched\u001b[0m \u001b[0;34m=\u001b[0m \u001b[0mself\u001b[0m\u001b[0;34m.\u001b[0m\u001b[0m_callable_fn\u001b[0m\u001b[0;34m(\u001b[0m\u001b[0;34m*\u001b[0m\u001b[0marray_vals\u001b[0m\u001b[0;34m)\u001b[0m\u001b[0;34m\u001b[0m\u001b[0m\n\u001b[0m\u001b[1;32m   2938\u001b[0m         \u001b[0;32mreturn\u001b[0m \u001b[0mfetched\u001b[0m\u001b[0;34m[\u001b[0m\u001b[0;34m:\u001b[0m\u001b[0mlen\u001b[0m\u001b[0;34m(\u001b[0m\u001b[0mself\u001b[0m\u001b[0;34m.\u001b[0m\u001b[0moutputs\u001b[0m\u001b[0;34m)\u001b[0m\u001b[0;34m]\u001b[0m\u001b[0;34m\u001b[0m\u001b[0m\n\u001b[1;32m   2939\u001b[0m \u001b[0;34m\u001b[0m\u001b[0m\n",
      "\u001b[0;32m~/.local/lib/python3.5/site-packages/tensorflow/python/client/session.py\u001b[0m in \u001b[0;36m__call__\u001b[0;34m(self, *args, **kwargs)\u001b[0m\n\u001b[1;32m   1456\u001b[0m         ret = tf_session.TF_SessionRunCallable(self._session._session,\n\u001b[1;32m   1457\u001b[0m                                                \u001b[0mself\u001b[0m\u001b[0;34m.\u001b[0m\u001b[0m_handle\u001b[0m\u001b[0;34m,\u001b[0m \u001b[0margs\u001b[0m\u001b[0;34m,\u001b[0m\u001b[0;34m\u001b[0m\u001b[0m\n\u001b[0;32m-> 1458\u001b[0;31m                                                run_metadata_ptr)\n\u001b[0m\u001b[1;32m   1459\u001b[0m         \u001b[0;32mif\u001b[0m \u001b[0mrun_metadata\u001b[0m\u001b[0;34m:\u001b[0m\u001b[0;34m\u001b[0m\u001b[0m\n\u001b[1;32m   1460\u001b[0m           \u001b[0mproto_data\u001b[0m \u001b[0;34m=\u001b[0m \u001b[0mtf_session\u001b[0m\u001b[0;34m.\u001b[0m\u001b[0mTF_GetBuffer\u001b[0m\u001b[0;34m(\u001b[0m\u001b[0mrun_metadata_ptr\u001b[0m\u001b[0;34m)\u001b[0m\u001b[0;34m\u001b[0m\u001b[0m\n",
      "\u001b[0;31mKeyboardInterrupt\u001b[0m: "
     ]
    }
   ],
   "source": [
    "history = model.fit(vector_train_x, Y_train, epochs=25, batch_size=batch_size, validation_data=(vector_validation_x, Y_validation), verbose=2, shuffle=True)#callbacks=[early_stopping]\n"
   ]
  },
  {
   "cell_type": "code",
   "execution_count": 33,
   "metadata": {},
   "outputs": [
    {
     "name": "stdout",
     "output_type": "stream",
     "text": [
      "[1. 1. 1. ... 1. 1. 1.]\n",
      "FPR: [0. 1.] \n",
      "TPR: [0. 1.] \n",
      "Treasholds: [2. 1.]\n"
     ]
    }
   ],
   "source": [
    "from sklearn.metrics import roc_curve\n",
    "y_pred_keras = model.predict(vector_test_x).ravel()\n",
    "print(y_pred_keras)\n",
    "fpr_keras, tpr_keras, thresholds_keras = roc_curve(Y_test, y_pred_keras)\n",
    "print(\"FPR: %s \\nTPR: %s \\nTreasholds: %s\" %(fpr_keras, tpr_keras, thresholds_keras))"
   ]
  },
  {
   "cell_type": "code",
   "execution_count": 34,
   "metadata": {},
   "outputs": [],
   "source": [
    "from sklearn.metrics import auc\n",
    "auc_keras = auc(fpr_keras, tpr_keras)"
   ]
  },
  {
   "cell_type": "code",
   "execution_count": 35,
   "metadata": {},
   "outputs": [],
   "source": [
    "#from sklearn.ensemble import RandomForestClassifier\n",
    "# Supervised transformation based on random forests\n",
    "# rf = RandomForestClassifier(max_depth=3, n_estimators=10)\n",
    "# rf.fit(X_train, Y_train)\n",
    "\n",
    "# y_pred_rf = rf.predict_proba(X_validation)[:, 1]\n",
    "# fpr_rf, tpr_rf, thresholds_rf = roc_curve(Y_validation, y_pred_rf)\n",
    "# auc_rf = auc(fpr_rf, tpr_rf)\n",
    "\n"
   ]
  },
  {
   "cell_type": "code",
   "execution_count": 36,
   "metadata": {},
   "outputs": [
    {
     "data": {
      "image/png": "[encoded data removed]",
      "text/plain": [
       "<Figure size 432x288 with 1 Axes>"
      ]
     },
     "metadata": {
      "needs_background": "light"
     },
     "output_type": "display_data"
    },
    {
     "data": {
      "image/png": "[encoded data removed]",
      "text/plain": [
       "<Figure size 432x288 with 1 Axes>"
      ]
     },
     "metadata": {
      "needs_background": "light"
     },
     "output_type": "display_data"
    }
   ],
   "source": [
    "import matplotlib.pyplot as plt\n",
    "%matplotlib inline\n",
    "plt.figure(1)\n",
    "plt.plot([0, 1], [0, 1], 'k--')\n",
    "plt.plot(fpr_keras, tpr_keras, label='Keras (area = {:.3f})'.format(auc_keras))\n",
    "#plt.plot(fpr_rf, tpr_rf, label='RF (area = {:.3f})'.format(auc_rf))\n",
    "plt.xlabel('False positive rate')\n",
    "plt.ylabel('True positive rate')\n",
    "plt.title('ROC curve')\n",
    "plt.legend(loc='best')\n",
    "plt.show()\n",
    "# Zoom in view of the upper left corner.\n",
    "plt.figure(2)\n",
    "plt.xlim(0, 0.2)\n",
    "plt.ylim(0.8, 1)\n",
    "plt.plot([0, 1], [0, 1], 'k--')\n",
    "plt.plot(fpr_keras, tpr_keras, label='Keras (area = {:.3f})'.format(auc_keras))\n",
    "#plt.plot(fpr_rf, tpr_rf, label='RF (area = {:.3f})'.format(auc_rf))\n",
    "plt.xlabel('False positive rate')\n",
    "plt.ylabel('True positive rate')\n",
    "plt.title('ROC curve (zoomed in at top left)')\n",
    "plt.legend(loc='best')\n",
    "plt.show()"
   ]
  },
  {
   "cell_type": "code",
   "execution_count": 37,
   "metadata": {},
   "outputs": [
    {
     "data": {
      "image/png": "[encoded data removed]",
      "text/plain": [
       "<Figure size 432x288 with 1 Axes>"
      ]
     },
     "metadata": {
      "needs_background": "light"
     },
     "output_type": "display_data"
    },
    {
     "data": {
      "image/png": "[encoded data removed]",
      "text/plain": [
       "<Figure size 432x288 with 1 Axes>"
      ]
     },
     "metadata": {
      "needs_background": "light"
     },
     "output_type": "display_data"
    }
   ],
   "source": [
    "# Plot training & validation accuracy values\n",
    "plt.plot(history.history['acc'])\n",
    "plt.plot(history.history['val_acc'])\n",
    "plt.title('Model accuracy')\n",
    "plt.ylabel('Accuracy')\n",
    "plt.xlabel('Epoch')\n",
    "plt.legend(['Train', 'Test'], loc='upper left')\n",
    "plt.show()\n",
    "\n",
    "# Plot training & validation loss values\n",
    "plt.plot(history.history['loss'])\n",
    "plt.plot(history.history['val_loss'])\n",
    "plt.title('Model loss')\n",
    "plt.ylabel('Loss')\n",
    "plt.xlabel('Epoch')\n",
    "plt.legend(['Train', 'Test'], loc='upper left')\n",
    "plt.show()"
   ]
  },
  {
   "cell_type": "code",
   "execution_count": 38,
   "metadata": {},
   "outputs": [],
   "source": [
    "# def specificity(y_pred, y_true):\n",
    "#     \"\"\"\n",
    "#     param:\n",
    "#     y_pred - Predicted labels\n",
    "#     y_true - True labels \n",
    "#     Returns:\n",
    "#     Specificity score\n",
    "#     \"\"\"\n",
    "#     neg_y_true = 1 - y_true\n",
    "#     print(neg_y_true)\n",
    "#     neg_y_pred = 1 - y_pred\n",
    "#     print(neg_y_pred)\n",
    "#     fp = K.sum(neg_y_true * y_pred)\n",
    "#     tn = K.sum(neg_y_true * neg_y_pred)\n",
    "#     specificity = tn / (tn + fp + K.epsilon())\n",
    "#     return specificity\n",
    "\n",
    "# specificity_ = (y_pred_rf,Y_validation)\n",
    "# print(specificity_)"
   ]
  },
  {
   "cell_type": "code",
   "execution_count": 39,
   "metadata": {},
   "outputs": [
    {
     "data": {
      "image/png": "[encoded data removed]",
      "text/plain": [
       "<IPython.core.display.Image object>"
      ]
     },
     "execution_count": 39,
     "metadata": {},
     "output_type": "execute_result"
    }
   ],
   "source": [
    "from keras.utils import plot_model\n",
    "plot_model(model, to_file='model.png')"
   ]
  },
  {
   "cell_type": "code",
   "execution_count": 40,
   "metadata": {},
   "outputs": [
    {
     "name": "stdout",
     "output_type": "stream",
     "text": [
      "[1. 1. 1. 1.]\n",
      "Confusion Matrix\n",
      "[[     0 110956]\n",
      " [     0 246231]]\n",
      "Classification Report\n"
     ]
    },
    {
     "name": "stderr",
     "output_type": "stream",
     "text": [
      "/home/ubuntu/.local/lib/python3.5/site-packages/sklearn/metrics/classification.py:1437: UndefinedMetricWarning: Precision and F-score are ill-defined and being set to 0.0 in labels with no predicted samples.\n",
      "  'precision', 'predicted', average, warn_for)\n"
     ]
    },
    {
     "name": "stdout",
     "output_type": "stream",
     "text": [
      "              precision    recall  f1-score   support\n",
      "\n",
      "        Good       0.00      0.00      0.00    110956\n",
      "         Bad       0.69      1.00      0.82    246231\n",
      "\n",
      "    accuracy                           0.69    357187\n",
      "   macro avg       0.34      0.50      0.41    357187\n",
      "weighted avg       0.48      0.69      0.56    357187\n",
      "\n"
     ]
    }
   ],
   "source": [
    "from sklearn.metrics import classification_report, confusion_matrix\n",
    "\n",
    "print(y_pred_keras[0:4])\n",
    "print('Confusion Matrix')\n",
    "print(confusion_matrix(Y_test, y_pred_keras))\n",
    "print('Classification Report')\n",
    "target_names = ['Good', 'Bad']\n",
    "print(classification_report(Y_test, y_pred_keras, target_names=target_names))\n"
   ]
  }
 ],
 "metadata": {
  "anaconda-cloud": {},
  "kernelspec": {
   "display_name": "Python 3",
   "language": "python",
   "name": "python3"
  },
  "language_info": {
   "codemirror_mode": {
    "name": "ipython",
    "version": 3
   },
   "file_extension": ".py",
   "mimetype": "text/x-python",
   "name": "python",
   "nbconvert_exporter": "python",
   "pygments_lexer": "ipython3",
   "version": "3.5.2"
  }
 },
 "nbformat": 4,
 "nbformat_minor": 4
}
