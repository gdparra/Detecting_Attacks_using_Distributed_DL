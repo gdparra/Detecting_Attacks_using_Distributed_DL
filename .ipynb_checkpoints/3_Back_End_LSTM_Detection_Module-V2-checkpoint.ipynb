{
 "cells": [
  {
   "cell_type": "markdown",
   "metadata": {},
   "source": [
    "### Code"
   ]
  },
  {
   "cell_type": "code",
   "execution_count": 1,
   "metadata": {
    "collapsed": false,
    "jupyter": {
     "outputs_hidden": false
    }
   },
   "outputs": [
    {
     "name": "stderr",
     "output_type": "stream",
     "text": [
      "/home/ubuntu/.local/lib/python3.5/site-packages/tensorflow/python/framework/dtypes.py:516: FutureWarning: Passing (type, 1) or '1type' as a synonym of type is deprecated; in a future version of numpy, it will be understood as (type, (1,)) / '(1,)type'.\n",
      "  _np_qint8 = np.dtype([(\"qint8\", np.int8, 1)])\n",
      "/home/ubuntu/.local/lib/python3.5/site-packages/tensorflow/python/framework/dtypes.py:517: FutureWarning: Passing (type, 1) or '1type' as a synonym of type is deprecated; in a future version of numpy, it will be understood as (type, (1,)) / '(1,)type'.\n",
      "  _np_quint8 = np.dtype([(\"quint8\", np.uint8, 1)])\n",
      "/home/ubuntu/.local/lib/python3.5/site-packages/tensorflow/python/framework/dtypes.py:518: FutureWarning: Passing (type, 1) or '1type' as a synonym of type is deprecated; in a future version of numpy, it will be understood as (type, (1,)) / '(1,)type'.\n",
      "  _np_qint16 = np.dtype([(\"qint16\", np.int16, 1)])\n",
      "/home/ubuntu/.local/lib/python3.5/site-packages/tensorflow/python/framework/dtypes.py:519: FutureWarning: Passing (type, 1) or '1type' as a synonym of type is deprecated; in a future version of numpy, it will be understood as (type, (1,)) / '(1,)type'.\n",
      "  _np_quint16 = np.dtype([(\"quint16\", np.uint16, 1)])\n",
      "/home/ubuntu/.local/lib/python3.5/site-packages/tensorflow/python/framework/dtypes.py:520: FutureWarning: Passing (type, 1) or '1type' as a synonym of type is deprecated; in a future version of numpy, it will be understood as (type, (1,)) / '(1,)type'.\n",
      "  _np_qint32 = np.dtype([(\"qint32\", np.int32, 1)])\n",
      "/home/ubuntu/.local/lib/python3.5/site-packages/tensorflow/python/framework/dtypes.py:525: FutureWarning: Passing (type, 1) or '1type' as a synonym of type is deprecated; in a future version of numpy, it will be understood as (type, (1,)) / '(1,)type'.\n",
      "  np_resource = np.dtype([(\"resource\", np.ubyte, 1)])\n",
      "/home/ubuntu/.local/lib/python3.5/site-packages/tensorboard/compat/tensorflow_stub/dtypes.py:541: FutureWarning: Passing (type, 1) or '1type' as a synonym of type is deprecated; in a future version of numpy, it will be understood as (type, (1,)) / '(1,)type'.\n",
      "  _np_qint8 = np.dtype([(\"qint8\", np.int8, 1)])\n",
      "/home/ubuntu/.local/lib/python3.5/site-packages/tensorboard/compat/tensorflow_stub/dtypes.py:542: FutureWarning: Passing (type, 1) or '1type' as a synonym of type is deprecated; in a future version of numpy, it will be understood as (type, (1,)) / '(1,)type'.\n",
      "  _np_quint8 = np.dtype([(\"quint8\", np.uint8, 1)])\n",
      "/home/ubuntu/.local/lib/python3.5/site-packages/tensorboard/compat/tensorflow_stub/dtypes.py:543: FutureWarning: Passing (type, 1) or '1type' as a synonym of type is deprecated; in a future version of numpy, it will be understood as (type, (1,)) / '(1,)type'.\n",
      "  _np_qint16 = np.dtype([(\"qint16\", np.int16, 1)])\n",
      "/home/ubuntu/.local/lib/python3.5/site-packages/tensorboard/compat/tensorflow_stub/dtypes.py:544: FutureWarning: Passing (type, 1) or '1type' as a synonym of type is deprecated; in a future version of numpy, it will be understood as (type, (1,)) / '(1,)type'.\n",
      "  _np_quint16 = np.dtype([(\"quint16\", np.uint16, 1)])\n",
      "/home/ubuntu/.local/lib/python3.5/site-packages/tensorboard/compat/tensorflow_stub/dtypes.py:545: FutureWarning: Passing (type, 1) or '1type' as a synonym of type is deprecated; in a future version of numpy, it will be understood as (type, (1,)) / '(1,)type'.\n",
      "  _np_qint32 = np.dtype([(\"qint32\", np.int32, 1)])\n",
      "/home/ubuntu/.local/lib/python3.5/site-packages/tensorboard/compat/tensorflow_stub/dtypes.py:550: FutureWarning: Passing (type, 1) or '1type' as a synonym of type is deprecated; in a future version of numpy, it will be understood as (type, (1,)) / '(1,)type'.\n",
      "  np_resource = np.dtype([(\"resource\", np.ubyte, 1)])\n",
      "Using TensorFlow backend.\n"
     ]
    }
   ],
   "source": [
    "import tensorflow as tf\n",
    "#from tensorflow.examples.tutorials.mnist import input_data\n",
    "from tensorflow.python.ops import rnn, rnn_cell\n",
    "#mnist = input_data.read_data_sets('MNIST_data', one_hot=True)\n",
    "import numpy as np # Included\n",
    "import pandas as pd\n",
    "import csv\n",
    "import sys\n",
    "from keras.models import Sequential\n",
    "from keras.layers import Dense\n",
    "from keras.layers import LSTM\n",
    "from sklearn.preprocessing import MinMaxScaler\n",
    "from sklearn.metrics import mean_squared_error\n",
    "from sklearn.feature_extraction import DictVectorizer as DV\n",
    "\n",
    "#np.set_printoptions(threshold=sys.maxsize)\n",
    "\n",
    "dir1=\"/home/ubuntu/dataset/\"\n",
    "#dir1=\"/Users/ejl334/Downloads/IoT Dataset by UC/Concatenated/Archive/\"\n",
    "\n",
    "from numpy import genfromtxt\n",
    "benign_traffic = genfromtxt(dir1+'benign_traffic.csv', delimiter=',')\n",
    "malicious_traffic_dataset = genfromtxt(dir1+'mirai_udp.csv', delimiter=',')"
   ]
  },
  {
   "cell_type": "code",
   "execution_count": 2,
   "metadata": {},
   "outputs": [
    {
     "name": "stdout",
     "output_type": "stream",
     "text": [
      "========================================================================\n",
      "***BENIGN TRAFFIC***\n",
      "========================================================================\n",
      "***DIMENSIONS***\n",
      "Dimensions Rows: 555941 Columns: 115\n",
      "***NAN ROWS***\n",
      "[[     0]\n",
      " [ 49549]\n",
      " [ 62663]\n",
      " [101764]\n",
      " [277005]\n",
      " [339160]\n",
      " [437675]\n",
      " [489826]\n",
      " [536412]]\n",
      "***** NAN Removal *****\n",
      "***DIMENSIONS***\n",
      "Dimensions Rows: 555932 Columns: 115\n",
      "***NAN ROWS***\n",
      "[]\n",
      "========================================================================\n",
      "***MALICIOUS TRAFFIC***\n",
      "========================================================================\n",
      "***DIMENSIONS ML***\n",
      "Dimensions ML Rows: 1230006 Columns: 115\n",
      "***NAN ROWS ML***\n",
      "[[      0]\n",
      " [ 237666]\n",
      " [ 389148]\n",
      " [ 606183]\n",
      " [ 762432]\n",
      " [ 921041]\n",
      " [1072921]]\n",
      "***** NAN Removal ML *****\n",
      "***DIMENSIONS ML***\n",
      "Dimensions ML Rows: 1229999 Columns: 115\n",
      "***NAN ROWS ML***\n",
      "[]\n"
     ]
    }
   ],
   "source": [
    "# DELETE COLUMNS WITH NAN\n",
    "print(\"========================================================================\")\n",
    "print(\"***BENIGN TRAFFIC***\")\n",
    "print(\"========================================================================\")\n",
    "print(\"***DIMENSIONS***\")\n",
    "numrows = len(benign_traffic)\n",
    "numcols = len(benign_traffic[0])\n",
    "print(\"Dimensions Rows: %s Columns: %s\" %(numrows,numcols))\n",
    "\n",
    "print(\"***NAN ROWS***\")\n",
    "nan_rows=np.argwhere(np.isnan(benign_traffic).any(axis=1))\n",
    "print(nan_rows)\n",
    "\n",
    "print(\"***** NAN Removal *****\")\n",
    "benign_traffic = benign_traffic[~np.isnan(benign_traffic).any(axis=1)]\n",
    "\n",
    "print(\"***DIMENSIONS***\")\n",
    "numrows_good = len(benign_traffic)\n",
    "numcols = len(benign_traffic[0])\n",
    "print(\"Dimensions Rows: %s Columns: %s\" %(numrows_good,numcols))\n",
    "\n",
    "print(\"***NAN ROWS***\")\n",
    "nan_rows=np.argwhere(np.isnan(benign_traffic).any(axis=1))\n",
    "print(nan_rows)\n",
    "\n",
    "print(\"========================================================================\")\n",
    "print(\"***MALICIOUS TRAFFIC***\")\n",
    "print(\"========================================================================\")\n",
    "print(\"***DIMENSIONS ML***\")\n",
    "malicious_dataset = malicious_traffic_dataset\n",
    "\n",
    "numrows_ml = len(malicious_dataset)\n",
    "numcols_ml = len(malicious_dataset[0])\n",
    "print(\"Dimensions ML Rows: %s Columns: %s\" %(numrows_ml,numcols_ml))\n",
    "\n",
    "print(\"***NAN ROWS ML***\")\n",
    "nan_rows_ml=np.argwhere(np.isnan(malicious_dataset).any(axis=1))\n",
    "print(nan_rows_ml)\n",
    "\n",
    "print(\"***** NAN Removal ML *****\")\n",
    "malicious_dataset = malicious_dataset[~np.isnan(malicious_dataset).any(axis=1)]\n",
    "\n",
    "print(\"***DIMENSIONS ML***\")\n",
    "numrows_bad = len(malicious_dataset)\n",
    "numcols_bad = len(malicious_dataset[0])\n",
    "print(\"Dimensions ML Rows: %s Columns: %s\" %(numrows_bad,numcols_bad))\n",
    "print(\"***NAN ROWS ML***\")\n",
    "nan_rows_ml=np.argwhere(np.isnan(malicious_dataset).any(axis=1))\n",
    "print(nan_rows_ml)"
   ]
  },
  {
   "cell_type": "code",
   "execution_count": 3,
   "metadata": {},
   "outputs": [
    {
     "data": {
      "text/plain": [
       "array([1.00000000e+00, 6.00000000e+01, 0.00000000e+00, 1.00000000e+00,\n",
       "       6.00000000e+01, 0.00000000e+00, 1.00000000e+00, 6.00000000e+01,\n",
       "       0.00000000e+00, 1.00000000e+00, 6.00000000e+01, 0.00000000e+00,\n",
       "       1.00000000e+00, 6.00000000e+01, 0.00000000e+00, 1.00000000e+00,\n",
       "       6.00000000e+01, 0.00000000e+00, 1.00000000e+00, 6.00000000e+01,\n",
       "       0.00000000e+00, 1.00000000e+00, 6.00000000e+01, 0.00000000e+00,\n",
       "       1.00000000e+00, 6.00000000e+01, 0.00000000e+00, 1.00000000e+00,\n",
       "       6.00000000e+01, 0.00000000e+00, 1.00000000e+00, 6.00000000e+01,\n",
       "       0.00000000e+00, 6.00000000e+01, 0.00000000e+00, 0.00000000e+00,\n",
       "       0.00000000e+00, 1.00000000e+00, 6.00000000e+01, 0.00000000e+00,\n",
       "       6.00000000e+01, 0.00000000e+00, 0.00000000e+00, 0.00000000e+00,\n",
       "       1.00000000e+00, 6.00000000e+01, 0.00000000e+00, 6.00000000e+01,\n",
       "       0.00000000e+00, 0.00000000e+00, 0.00000000e+00, 1.00000000e+00,\n",
       "       6.00000000e+01, 0.00000000e+00, 6.00000000e+01, 0.00000000e+00,\n",
       "       0.00000000e+00, 0.00000000e+00, 1.00000000e+00, 6.00000000e+01,\n",
       "       0.00000000e+00, 6.00000000e+01, 0.00000000e+00, 0.00000000e+00,\n",
       "       0.00000000e+00, 1.00000000e+00, 1.50566169e+09, 0.00000000e+00,\n",
       "       1.00000000e+00, 1.50566169e+09, 0.00000000e+00, 1.00000000e+00,\n",
       "       1.50566169e+09, 0.00000000e+00, 1.00000000e+00, 1.50566169e+09,\n",
       "       0.00000000e+00, 1.00000000e+00, 1.50566169e+09, 0.00000000e+00,\n",
       "       1.00000000e+00, 6.00000000e+01, 0.00000000e+00, 6.00000000e+01,\n",
       "       0.00000000e+00, 0.00000000e+00, 0.00000000e+00, 1.00000000e+00,\n",
       "       6.00000000e+01, 0.00000000e+00, 6.00000000e+01, 0.00000000e+00,\n",
       "       0.00000000e+00, 0.00000000e+00, 1.00000000e+00, 6.00000000e+01,\n",
       "       0.00000000e+00, 6.00000000e+01, 0.00000000e+00, 0.00000000e+00,\n",
       "       0.00000000e+00, 1.00000000e+00, 6.00000000e+01, 0.00000000e+00,\n",
       "       6.00000000e+01, 0.00000000e+00, 0.00000000e+00, 0.00000000e+00,\n",
       "       1.00000000e+00, 6.00000000e+01, 0.00000000e+00, 6.00000000e+01,\n",
       "       0.00000000e+00, 0.00000000e+00, 0.00000000e+00])"
      ]
     },
     "execution_count": 3,
     "metadata": {},
     "output_type": "execute_result"
    }
   ],
   "source": [
    "benign_traffic[0]"
   ]
  },
  {
   "cell_type": "code",
   "execution_count": 4,
   "metadata": {},
   "outputs": [],
   "source": [
    "# DELETE UNWANTED COLUMNS\n",
    "benign_traffic = np.delete(benign_traffic, [2,5,8,11,14,17,20,23,26,29,\\\n",
    "                                            34,35,41,42,48,49,55,56,62,63,\\\n",
    "                                            66,67,69,70,72,73,75,76,78,79,\\\n",
    "                                            84,85,91,92,98,99,105,106,112,113,], axis=1)\n",
    "malicious_dataset = np.delete(malicious_dataset, [2,5,8,11,14,17,20,23,26,29,\\\n",
    "                                            34,35,41,42,48,49,55,56,62,63,\\\n",
    "                                            66,67,69,70,72,73,75,76,78,79,\\\n",
    "                                            84,85,91,92,98,99,105,106,112,113,], axis=1)\n"
   ]
  },
  {
   "cell_type": "code",
   "execution_count": 5,
   "metadata": {},
   "outputs": [
    {
     "name": "stdout",
     "output_type": "stream",
     "text": [
      "***DIMENSIONS BENIGN***\n",
      "Dimensions Rows: 555932 Columns: 75\n",
      "***DIMENSIONS MALICIOUS***\n",
      "Dimensions Rows: 1229999 Columns: 75\n"
     ]
    }
   ],
   "source": [
    "print(\"***DIMENSIONS BENIGN***\")\n",
    "numrows_good = len(benign_traffic)\n",
    "numcols_good = len(benign_traffic[0])\n",
    "print(\"Dimensions Rows: %s Columns: %s\" %(numrows_good,numcols_good))\n",
    "print(\"***DIMENSIONS MALICIOUS***\")\n",
    "numrows_bad = len(malicious_dataset)\n",
    "numcols_bad = len(malicious_dataset[0])\n",
    "print(\"Dimensions Rows: %s Columns: %s\" %(numrows_bad,numcols_bad))"
   ]
  },
  {
   "cell_type": "code",
   "execution_count": 6,
   "metadata": {},
   "outputs": [
    {
     "name": "stdout",
     "output_type": "stream",
     "text": [
      "*** COMPLETE DATASET ***\n",
      "Dimensions Rows: 1785931 Columns: 75\n",
      "*** COMPLETE DATASET Labels ***\n",
      "Dimensions Rows: 1785931\n"
     ]
    }
   ],
   "source": [
    "# Define Labels\n",
    "y_benings = np.zeros(len(benign_traffic),dtype=int)\n",
    "y_malicious = np.ones(len(malicious_dataset),dtype=int)\n",
    "\n",
    "complete_dataset = np.concatenate((benign_traffic, malicious_dataset), 0)\n",
    "print(\"*** COMPLETE DATASET ***\")\n",
    "numrows = len(complete_dataset)\n",
    "numcols = len(complete_dataset[0])\n",
    "print(\"Dimensions Rows: %s Columns: %s\" %(numrows,numcols))\n",
    "complete_dataset_labels = np.concatenate((y_benings,y_malicious),0)\n",
    "print(\"*** COMPLETE DATASET Labels ***\")\n",
    "numrows = len(complete_dataset_labels)\n",
    "numcols = len(complete_dataset_labels)\n",
    "print(\"Dimensions Rows: %s\" %(numrows))"
   ]
  },
  {
   "cell_type": "code",
   "execution_count": 7,
   "metadata": {},
   "outputs": [],
   "source": [
    "# NORMALIZE DATASET\n",
    "scaler = MinMaxScaler(feature_range=(0, 1))\n",
    "dataX_ = scaler.fit_transform(complete_dataset)\n",
    "#dataX_ = scaler.fit_transform(np.reshape(complete_dataset, (numrows, numcols)))\n",
    "#                                                        (5000,100*75)\n",
    "X_ = dataX_\n",
    "#X_ = np.reshape(dataX_, (numrows, numcols))\n",
    "#X_ = np.reshape(dataX_, (5000, 100, 75))"
   ]
  },
  {
   "cell_type": "code",
   "execution_count": 8,
   "metadata": {},
   "outputs": [],
   "source": [
    "from sklearn import model_selection\n",
    "validation_size = 0.20\n",
    "seed = 7\n",
    "X_train, X_validation, Y_train, Y_validation = model_selection.train_test_split(X_, complete_dataset_labels, test_size=validation_size, random_state=seed)\n",
    "\n",
    "del X_\n",
    "del dataX_\n"
   ]
  },
  {
   "cell_type": "code",
   "execution_count": 9,
   "metadata": {},
   "outputs": [],
   "source": [
    "#benign_traffic = X_[:numrows_good, :]\n",
    "#malicious_dataset = X_[numrows_good:, :]\n",
    "\n",
    "# print(\"*** COMPLETE DATASET ***\")\n",
    "# numrows = len(benign_traffic)\n",
    "# numcols = len(benign_traffic[0])\n",
    "# print(\"Dimensions Rows: %s Columns: %s\" %(numrows,numcols))\n",
    "\n",
    "# print(\"*** COMPLETE DATASET ***\")\n",
    "# numrows = len(malicious_dataset)\n",
    "# numcols = len(malicious_dataset[0])\n",
    "# print(\"Dimensions Rows: %s Columns: %s\" %(numrows,numcols))\n",
    "\n",
    "# # Clear Variables\n",
    "# del X_\n",
    "# del dataX_\n"
   ]
  },
  {
   "cell_type": "code",
   "execution_count": 10,
   "metadata": {},
   "outputs": [],
   "source": [
    "# def rounder(x):\n",
    "#     if (x-int(x) >= 0.5):\n",
    "#         return np.ceil(x)\n",
    "#     else:\n",
    "#         return np.floor(x)\n",
    "\n",
    "# split1 = int(rounder(len(benign_traffic)*0.8))\n",
    "# split2 = int(rounder(len(malicious_dataset)*0.8))\n",
    "# current_bot_data = gafgyt_combo\n",
    "\n",
    "# print(split1)\n",
    "# print(split2)"
   ]
  },
  {
   "cell_type": "code",
   "execution_count": 11,
   "metadata": {},
   "outputs": [],
   "source": [
    "# def dimensions_data(x):\n",
    "#     numrows = len(x)\n",
    "#     numcols = len(x[0])\n",
    "#     print(\"Dimensions Rows: %s Columns: %s\" %(numrows,numcols))\n",
    "\n",
    "\n",
    "# benign_pre_train_x = benign_traffic[:split1, :]\n",
    "# print(\"*** DIMENSIONS benign_pre_train_x***\")\n",
    "# dimensions_data(benign_pre_train_x)\n",
    "\n",
    "# benign_pre_test_x = benign_traffic[split1:, :]\n",
    "# print(\"*** DIMENSIONS benign_pre_test_x***\")\n",
    "# dimensions_data(benign_pre_test_x)\n",
    "\n",
    "# benign_pre_train_y = y_benings[:split1, :]\n",
    "# print(\"*** DIMENSIONS benign_pre_train_y***\")\n",
    "# dimensions_data(benign_pre_train_y)\n",
    "\n",
    "# benign_pre_test_y = y_benings[split1:, :]\n",
    "# print(\"*** DIMENSIONS benign_pre_test_y***\")\n",
    "# dimensions_data(benign_pre_test_y)\n",
    "\n",
    "\n",
    "\n",
    "# malicious_pre_train_x = malicious_dataset[:split2, :]\n",
    "# print(\"*** DIMENSIONS malicious_pre_train_x***\")\n",
    "# dimensions_data(malicious_pre_train_x\n",
    "#                )\n",
    "# malicious_pre_test_x = malicious_dataset[split2:, :]\n",
    "# print(\"*** DIMENSIONS malicious_pre_test_x***\")\n",
    "# dimensions_data(malicious_pre_test_x)\n",
    "\n",
    "# malicious_pre_train_y = y_malicious[:split2, :]\n",
    "# print(\"*** DIMENSIONS malicious_pre_train_y***\")\n",
    "# dimensions_data(malicious_pre_train_y)\n",
    "\n",
    "# malicious_pre_test_y = y_malicious[split2:, :]\n",
    "# print(\"*** DIMENSIONS malicious_pre_test_y***\")\n",
    "# dimensions_data(malicious_pre_test_y)\n",
    "\n",
    "# train_x = np.concatenate((benign_pre_train_x, malicious_pre_train_x), 0)\n",
    "# print(\"*** DIMENSIONS - TRAIN_X ***\")\n",
    "# dimensions_data(train_x)\n",
    "    \n",
    "# test_x = np.concatenate((benign_pre_test_x, malicious_pre_test_x), 0)\n",
    "# print(\"*** DIMENSIONS TEXT_X ***\")\n",
    "# dimensions_data(test_x)\n",
    "\n",
    "# train_y = np.concatenate((benign_pre_train_y,malicious_pre_train_y),0)\n",
    "# print(\"*** DIMENSIONS TRAIN_Y ***\")\n",
    "# dimensions_data(train_y)\n",
    "\n",
    "# test_y = np.concatenate((benign_pre_test_y,malicious_pre_test_y),0)\n",
    "# print(\"*** DIMENSIONS TEST_Y***\")\n",
    "# dimensions_data(test_y)"
   ]
  },
  {
   "cell_type": "code",
   "execution_count": 12,
   "metadata": {},
   "outputs": [],
   "source": [
    "# print(benign_traffic[0:2])\n",
    "# numrows = len(benign_traffic)    # 3 rows in your example\n",
    "# numcols = len(benign_traffic[0]) # 2 columns in your example\n",
    "# print(\"Dimensions Rows: %s Columns: %s\" %(numrows,numcols))"
   ]
  },
  {
   "cell_type": "code",
   "execution_count": 13,
   "metadata": {},
   "outputs": [
    {
     "name": "stdout",
     "output_type": "stream",
     "text": [
      "(1428744, 75) (357187, 75)\n",
      "1428744 357187\n"
     ]
    }
   ],
   "source": [
    "print(np.shape(X_train), np.shape(X_validation))\n",
    "print(len(Y_train), len(Y_validation))\n",
    "#print(np.count_nonzero(X_train), np.count_nonzero(Y_train))"
   ]
  },
  {
   "cell_type": "code",
   "execution_count": 14,
   "metadata": {},
   "outputs": [
    {
     "name": "stdout",
     "output_type": "stream",
     "text": [
      "357187\n",
      "(1428744, 1, 75)\n",
      "(357187, 1, 75)\n"
     ]
    }
   ],
   "source": [
    "# Vectorize data\n",
    "print(len(Y_validation))\n",
    "#vector_train_x = X_train.reshape((85687, 10, 75))\n",
    "vector_train_x = X_train.reshape((len(X_train), 1, 75))\n",
    "print(vector_train_x.shape)\n",
    "#vector_test_x = X_validation.reshape((23802, 9, 75))\n",
    "vector_validation_x = X_validation.reshape((len(X_validation), 1, 75))\n",
    "print(vector_validation_x.shape)\n",
    "\n",
    "#vector_train_x = train_x.reshape(856871,75,np.newaxis)\n",
    "#vector_test_x = test_x.reshape(214217,75,np.newaxis)\n",
    "#print(vector_train_x[0])"
   ]
  },
  {
   "cell_type": "markdown",
   "metadata": {},
   "source": [
    "# LSTM MODEL"
   ]
  },
  {
   "cell_type": "code",
   "execution_count": 20,
   "metadata": {},
   "outputs": [
    {
     "name": "stdout",
     "output_type": "stream",
     "text": [
      "Model: \"sequential_3\"\n",
      "_________________________________________________________________\n",
      "Layer (type)                 Output Shape              Param #   \n",
      "=================================================================\n",
      "lstm_5 (LSTM)                (None, 1, 28)             11648     \n",
      "_________________________________________________________________\n",
      "dropout_5 (Dropout)          (None, 1, 28)             0         \n",
      "_________________________________________________________________\n",
      "lstm_6 (LSTM)                (None, 28)                6384      \n",
      "_________________________________________________________________\n",
      "dropout_6 (Dropout)          (None, 28)                0         \n",
      "_________________________________________________________________\n",
      "dense_5 (Dense)              (None, 28)                812       \n",
      "_________________________________________________________________\n",
      "dense_6 (Dense)              (None, 1)                 29        \n",
      "=================================================================\n",
      "Total params: 18,873\n",
      "Trainable params: 18,873\n",
      "Non-trainable params: 0\n",
      "_________________________________________________________________\n"
     ]
    }
   ],
   "source": [
    "from keras.layers import Dropout\n",
    "from keras.callbacks import EarlyStopping\n",
    "from sklearn import model_selection\n",
    "\n",
    "batch_size = 100000\n",
    "model = Sequential()\n",
    "model.add(LSTM(28, input_shape=(1,75), return_sequences=True))\n",
    "model.add(Dropout(0.5))\n",
    "model.add(LSTM(28))\n",
    "model.add(Dropout(0.5))\n",
    "model.add(Dense(28))\n",
    "model.add(Dense(1, activation=\"sigmoid\"))\n",
    "model.compile(loss='mean_squared_error', optimizer='adam', metrics=['acc'])\n",
    "early_stopping = EarlyStopping(monitor='val_loss', min_delta=0.0001, patience=0, verbose=0, mode='auto', baseline=None, restore_best_weights=False)\n",
    "\n",
    "model.summary()"
   ]
  },
  {
   "cell_type": "code",
   "execution_count": 21,
   "metadata": {},
   "outputs": [
    {
     "name": "stdout",
     "output_type": "stream",
     "text": [
      "Train on 1428744 samples, validate on 357187 samples\n",
      "Epoch 1/50\n",
      " - 6s - loss: 0.2380 - acc: 0.6468 - val_loss: 0.2194 - val_acc: 0.6871\n",
      "Epoch 2/50\n",
      " - 4s - loss: 0.2015 - acc: 0.6891 - val_loss: 0.1749 - val_acc: 0.6871\n",
      "Epoch 3/50\n",
      " - 4s - loss: 0.1615 - acc: 0.6891 - val_loss: 0.1370 - val_acc: 0.6871\n",
      "Epoch 4/50\n",
      " - 3s - loss: 0.1205 - acc: 0.7217 - val_loss: 0.0869 - val_acc: 0.9580\n",
      "Epoch 5/50\n",
      " - 4s - loss: 0.0653 - acc: 0.9725 - val_loss: 0.0317 - val_acc: 0.9996\n",
      "Epoch 6/50\n",
      " - 3s - loss: 0.0226 - acc: 0.9993 - val_loss: 0.0073 - val_acc: 0.9997\n",
      "Epoch 7/50\n",
      " - 4s - loss: 0.0073 - acc: 0.9995 - val_loss: 0.0021 - val_acc: 0.9998\n",
      "Epoch 8/50\n",
      " - 4s - loss: 0.0032 - acc: 0.9997 - val_loss: 9.2751e-04 - val_acc: 0.9998\n",
      "Epoch 9/50\n",
      " - 4s - loss: 0.0020 - acc: 0.9997 - val_loss: 5.3176e-04 - val_acc: 0.9999\n",
      "Epoch 10/50\n",
      " - 3s - loss: 0.0015 - acc: 0.9998 - val_loss: 3.5366e-04 - val_acc: 0.9999\n",
      "Epoch 11/50\n",
      " - 4s - loss: 0.0011 - acc: 0.9998 - val_loss: 2.6137e-04 - val_acc: 0.9999\n"
     ]
    },
    {
     "data": {
      "text/plain": [
       "<keras.callbacks.History at 0x7f9e044fb3c8>"
      ]
     },
     "execution_count": 21,
     "metadata": {},
     "output_type": "execute_result"
    }
   ],
   "source": [
    "model.fit(vector_train_x, Y_train, epochs=50, batch_size=batch_size, validation_data=(vector_validation_x, Y_validation), verbose=2, shuffle=True,callbacks=[early_stopping])\n"
   ]
  },
  {
   "cell_type": "markdown",
   "metadata": {},
   "source": [
    "### model.predict()"
   ]
  },
  {
   "cell_type": "code",
   "execution_count": null,
   "metadata": {},
   "outputs": [],
   "source": []
  }
 ],
 "metadata": {
  "anaconda-cloud": {},
  "kernelspec": {
   "display_name": "Python 3",
   "language": "python",
   "name": "python3"
  },
  "language_info": {
   "codemirror_mode": {
    "name": "ipython",
    "version": 3
   },
   "file_extension": ".py",
   "mimetype": "text/x-python",
   "name": "python",
   "nbconvert_exporter": "python",
   "pygments_lexer": "ipython3",
   "version": "3.5.2"
  }
 },
 "nbformat": 4,
 "nbformat_minor": 4
}
