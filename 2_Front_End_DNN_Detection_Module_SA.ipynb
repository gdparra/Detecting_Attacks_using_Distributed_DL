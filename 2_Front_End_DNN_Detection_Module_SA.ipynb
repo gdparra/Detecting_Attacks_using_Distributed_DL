{
 "cells": [
  {
   "cell_type": "markdown",
   "metadata": {},
   "source": [
    "# Tensorflow with Sentiment Analysis"
   ]
  },
  {
   "cell_type": "code",
   "execution_count": 3,
   "metadata": {},
   "outputs": [],
   "source": [
    "#Importing necessary librarys\n",
    "import tensorflow as tf\n",
    "import tensorflow_hub as hub\n",
    "import numpy as np\n",
    "import pandas as pd\n",
    "\n",
    "# Suppress warnings\n",
    "import warnings\n",
    "warnings.filterwarnings('ignore')"
   ]
  },
  {
   "cell_type": "markdown",
   "metadata": {},
   "source": [
    "# Loading Datasets with URLs and associated phish labels"
   ]
  },
  {
   "cell_type": "code",
   "execution_count": 4,
   "metadata": {},
   "outputs": [
    {
     "name": "stdout",
     "output_type": "stream",
     "text": [
      "Number of Samples in training:  7240\n",
      "Number of Samples in testing:  1820\n",
      "Training data looks like:\n",
      "\n"
     ]
    },
    {
     "data": {
      "text/html": [
       "<div>\n",
       "<style scoped>\n",
       "    .dataframe tbody tr th:only-of-type {\n",
       "        vertical-align: middle;\n",
       "    }\n",
       "\n",
       "    .dataframe tbody tr th {\n",
       "        vertical-align: top;\n",
       "    }\n",
       "\n",
       "    .dataframe thead th {\n",
       "        text-align: right;\n",
       "    }\n",
       "</style>\n",
       "<table border=\"1\" class=\"dataframe\">\n",
       "  <thead>\n",
       "    <tr style=\"text-align: right;\">\n",
       "      <th></th>\n",
       "      <th>URL</th>\n",
       "      <th>Result</th>\n",
       "    </tr>\n",
       "  </thead>\n",
       "  <tbody>\n",
       "    <tr>\n",
       "      <th>0</th>\n",
       "      <td>http://usps-parcel.duvrahomeimprovement.com/pa...</td>\n",
       "      <td>0</td>\n",
       "    </tr>\n",
       "    <tr>\n",
       "      <th>1</th>\n",
       "      <td>http://www.firefixo.tk/pdf/home/download/fe501...</td>\n",
       "      <td>0</td>\n",
       "    </tr>\n",
       "    <tr>\n",
       "      <th>2</th>\n",
       "      <td>http://louisck.net/</td>\n",
       "      <td>1</td>\n",
       "    </tr>\n",
       "    <tr>\n",
       "      <th>3</th>\n",
       "      <td>http://www.vic.cat</td>\n",
       "      <td>1</td>\n",
       "    </tr>\n",
       "    <tr>\n",
       "      <th>4</th>\n",
       "      <td>http://www.ycdc.gov.mm/</td>\n",
       "      <td>1</td>\n",
       "    </tr>\n",
       "  </tbody>\n",
       "</table>\n",
       "</div>"
      ],
      "text/plain": [
       "                                                 URL  Result\n",
       "0  http://usps-parcel.duvrahomeimprovement.com/pa...       0\n",
       "1  http://www.firefixo.tk/pdf/home/download/fe501...       0\n",
       "2                                http://louisck.net/       1\n",
       "3                                 http://www.vic.cat       1\n",
       "4                            http://www.ycdc.gov.mm/       1"
      ]
     },
     "execution_count": 4,
     "metadata": {},
     "output_type": "execute_result"
    }
   ],
   "source": [
    "train_data = pd.read_csv(\"Training_Urls.csv\")\n",
    "test_data = pd.read_csv(\"Testing_Urls.csv\")\n",
    "                         \n",
    "print('Number of Samples in training: ', len(train_data))\n",
    "print('Number of Samples in testing: ', len(test_data))\n",
    "print('Training data looks like:\\n')\n",
    "\n",
    "# Sample\n",
    "train_data.head(5)"
   ]
  },
  {
   "cell_type": "markdown",
   "metadata": {},
   "source": [
    "# One Example URL and its Classification [0 = Phishing, 1 = Legitimate]"
   ]
  },
  {
   "cell_type": "code",
   "execution_count": 5,
   "metadata": {},
   "outputs": [
    {
     "name": "stdout",
     "output_type": "stream",
     "text": [
      "Review:\n",
      "\n",
      " http://www.ycdc.gov.mm/\n",
      "\n",
      "\n",
      "Polarity: 1\n"
     ]
    }
   ],
   "source": [
    "print(\"Review:\\n\\n\",train_data.iloc[4].URL)\n",
    "print(\"\\n\\nPolarity:\",train_data.iloc[4].Result)"
   ]
  },
  {
   "cell_type": "markdown",
   "metadata": {},
   "source": [
    "# Setting Up the Inputs for Estimator "
   ]
  },
  {
   "cell_type": "code",
   "execution_count": 6,
   "metadata": {},
   "outputs": [],
   "source": [
    "#Training input\n",
    "train_input_fn = tf.estimator.inputs.pandas_input_fn(x=train_data, \n",
    "                                                     y=train_data[\"Result\"], \n",
    "                                                     num_epochs=None,\n",
    "                                                     shuffle=True)\n",
    "\n",
    "#Predicting (train) input\n",
    "predict_train_input_fn = tf.estimator.inputs.pandas_input_fn(x=train_data,\n",
    "                                                             y=train_data[\"Result\"],\n",
    "                                                             shuffle=False)\n",
    "\n",
    "#Predicting (test) input\n",
    "predict_test_input_fn = tf.estimator.inputs.pandas_input_fn(x=test_data, \n",
    "                                                            y=test_data[\"Result\"], \n",
    "                                                            shuffle=False)"
   ]
  },
  {
   "cell_type": "markdown",
   "metadata": {},
   "source": [
    "# Setting Up the Google to Vector module to be Applied on the Feature Column"
   ]
  },
  {
   "cell_type": "code",
   "execution_count": 7,
   "metadata": {},
   "outputs": [
    {
     "name": "stdout",
     "output_type": "stream",
     "text": [
      "INFO:tensorflow:Using /tmp/tfhub_modules to cache modules.\n"
     ]
    }
   ],
   "source": [
    "embedded_text_feature_column = hub.text_embedding_column(key=\"URL\", \n",
    "                                                         module_spec=\"https://tfhub.dev/google/nnlm-en-dim128/1\",\n",
    "                                                         trainable=True)"
   ]
  },
  {
   "cell_type": "markdown",
   "metadata": {},
   "source": [
    "# Setting Up the Estimator"
   ]
  },
  {
   "cell_type": "code",
   "execution_count": 8,
   "metadata": {},
   "outputs": [
    {
     "name": "stdout",
     "output_type": "stream",
     "text": [
      "INFO:tensorflow:Using default config.\n",
      "WARNING:tensorflow:Using temporary folder as model directory: /tmp/tmpbu943ekz\n",
      "INFO:tensorflow:Using config: {'_is_chief': True, '_save_checkpoints_steps': None, '_task_id': 0, '_service': None, '_session_config': None, '_global_id_in_cluster': 0, '_evaluation_master': '', '_save_checkpoints_secs': 600, '_task_type': 'worker', '_save_summary_steps': 100, '_keep_checkpoint_max': 5, '_keep_checkpoint_every_n_hours': 10000, '_cluster_spec': <tensorflow.python.training.server_lib.ClusterSpec object at 0x7f6d19960550>, '_tf_random_seed': None, '_num_worker_replicas': 1, '_num_ps_replicas': 0, '_master': '', '_model_dir': '/tmp/tmpbu943ekz', '_log_step_count_steps': 100}\n"
     ]
    }
   ],
   "source": [
    "estimator = tf.estimator.DNNClassifier(hidden_units=[1000, 128],\n",
    "                                       feature_columns=[embedded_text_feature_column],\n",
    "                                       n_classes=2,\n",
    "                                       activation_fn = tf.nn.relu,\n",
    "                                       optimizer=tf.train.AdagradOptimizer(learning_rate=0.001))"
   ]
  },
  {
   "cell_type": "markdown",
   "metadata": {},
   "source": [
    "# Training the DNN"
   ]
  },
  {
   "cell_type": "code",
   "execution_count": 9,
   "metadata": {},
   "outputs": [
    {
     "name": "stdout",
     "output_type": "stream",
     "text": [
      "INFO:tensorflow:Calling model_fn.\n",
      "INFO:tensorflow:Initialize variable dnn/input_from_feature_columns/input_layer/URL_hub_module_embedding/module/embeddings/part_0:0 from checkpoint b'/tmp/tfhub_modules/32f2b2259e1cc8ca58c876921748361283e73997/variables/variables' with embeddings\n",
      "INFO:tensorflow:Done calling model_fn.\n",
      "INFO:tensorflow:Create CheckpointSaverHook.\n",
      "INFO:tensorflow:Graph was finalized.\n",
      "INFO:tensorflow:Running local_init_op.\n",
      "INFO:tensorflow:Done running local_init_op.\n",
      "INFO:tensorflow:Saving checkpoints for 1 into /tmp/tmpbu943ekz/model.ckpt.\n",
      "INFO:tensorflow:step = 1, loss = 88.78236\n",
      "INFO:tensorflow:global_step/sec: 133.393\n",
      "INFO:tensorflow:step = 101, loss = 88.398285 (0.752 sec)\n",
      "INFO:tensorflow:global_step/sec: 149.783\n",
      "INFO:tensorflow:step = 201, loss = 88.1299 (0.668 sec)\n",
      "INFO:tensorflow:global_step/sec: 156.739\n",
      "INFO:tensorflow:step = 301, loss = 87.95284 (0.638 sec)\n",
      "INFO:tensorflow:global_step/sec: 161.637\n",
      "INFO:tensorflow:step = 401, loss = 87.19273 (0.618 sec)\n",
      "INFO:tensorflow:global_step/sec: 169.099\n",
      "INFO:tensorflow:step = 501, loss = 86.81859 (0.590 sec)\n",
      "INFO:tensorflow:global_step/sec: 169.696\n",
      "INFO:tensorflow:step = 601, loss = 86.64847 (0.589 sec)\n",
      "INFO:tensorflow:global_step/sec: 164.88\n",
      "INFO:tensorflow:step = 701, loss = 87.44322 (0.607 sec)\n",
      "INFO:tensorflow:global_step/sec: 169.06\n",
      "INFO:tensorflow:step = 801, loss = 83.460175 (0.593 sec)\n",
      "INFO:tensorflow:global_step/sec: 898.44\n",
      "INFO:tensorflow:step = 901, loss = 84.59636 (0.110 sec)\n",
      "INFO:tensorflow:Saving checkpoints for 1000 into /tmp/tmpbu943ekz/model.ckpt.\n",
      "INFO:tensorflow:Loss for final step: 78.717514.\n"
     ]
    },
    {
     "data": {
      "text/plain": [
       "<tensorflow.python.estimator.canned.dnn.DNNClassifier at 0x7f6d19973fd0>"
      ]
     },
     "execution_count": 9,
     "metadata": {},
     "output_type": "execute_result"
    }
   ],
   "source": [
    "estimator.train(input_fn=train_input_fn, steps=1000)"
   ]
  },
  {
   "cell_type": "markdown",
   "metadata": {},
   "source": [
    "# Evaluating the Model "
   ]
  },
  {
   "cell_type": "code",
   "execution_count": 10,
   "metadata": {},
   "outputs": [
    {
     "name": "stdout",
     "output_type": "stream",
     "text": [
      "Training set accuracy: 0.6743093729019165\n",
      "Test set accuracy: 0.5076923370361328\n"
     ]
    }
   ],
   "source": [
    "tf.logging.set_verbosity(tf.logging.ERROR)\n",
    "\n",
    "train_eval_result = estimator.evaluate(input_fn=predict_train_input_fn)\n",
    "test_eval_result = estimator.evaluate(input_fn=predict_test_input_fn)\n",
    "\n",
    "print (\"Training set accuracy: {accuracy}\".format(**train_eval_result))\n",
    "print (\"Test set accuracy: {accuracy}\".format(**test_eval_result))"
   ]
  },
  {
   "cell_type": "code",
   "execution_count": null,
   "metadata": {},
   "outputs": [],
   "source": []
  }
 ],
 "metadata": {
  "kernelspec": {
   "display_name": "Python 3",
   "language": "python",
   "name": "python3"
  },
  "language_info": {
   "codemirror_mode": {
    "name": "ipython",
    "version": 3
   },
   "file_extension": ".py",
   "mimetype": "text/x-python",
   "name": "python",
   "nbconvert_exporter": "python",
   "pygments_lexer": "ipython3",
   "version": "3.5.2"
  }
 },
 "nbformat": 4,
 "nbformat_minor": 2
}
