{
 "cells": [
  {
   "cell_type": "markdown",
   "metadata": {},
   "source": [
    "### Code"
   ]
  },
  {
   "cell_type": "code",
   "execution_count": 1,
   "metadata": {
    "collapsed": false,
    "jupyter": {
     "outputs_hidden": false
    }
   },
   "outputs": [
    {
     "name": "stderr",
     "output_type": "stream",
     "text": [
      "/home/ubuntu/.local/lib/python3.5/site-packages/tensorflow/python/framework/dtypes.py:516: FutureWarning: Passing (type, 1) or '1type' as a synonym of type is deprecated; in a future version of numpy, it will be understood as (type, (1,)) / '(1,)type'.\n",
      "  _np_qint8 = np.dtype([(\"qint8\", np.int8, 1)])\n",
      "/home/ubuntu/.local/lib/python3.5/site-packages/tensorflow/python/framework/dtypes.py:517: FutureWarning: Passing (type, 1) or '1type' as a synonym of type is deprecated; in a future version of numpy, it will be understood as (type, (1,)) / '(1,)type'.\n",
      "  _np_quint8 = np.dtype([(\"quint8\", np.uint8, 1)])\n",
      "/home/ubuntu/.local/lib/python3.5/site-packages/tensorflow/python/framework/dtypes.py:518: FutureWarning: Passing (type, 1) or '1type' as a synonym of type is deprecated; in a future version of numpy, it will be understood as (type, (1,)) / '(1,)type'.\n",
      "  _np_qint16 = np.dtype([(\"qint16\", np.int16, 1)])\n",
      "/home/ubuntu/.local/lib/python3.5/site-packages/tensorflow/python/framework/dtypes.py:519: FutureWarning: Passing (type, 1) or '1type' as a synonym of type is deprecated; in a future version of numpy, it will be understood as (type, (1,)) / '(1,)type'.\n",
      "  _np_quint16 = np.dtype([(\"quint16\", np.uint16, 1)])\n",
      "/home/ubuntu/.local/lib/python3.5/site-packages/tensorflow/python/framework/dtypes.py:520: FutureWarning: Passing (type, 1) or '1type' as a synonym of type is deprecated; in a future version of numpy, it will be understood as (type, (1,)) / '(1,)type'.\n",
      "  _np_qint32 = np.dtype([(\"qint32\", np.int32, 1)])\n",
      "/home/ubuntu/.local/lib/python3.5/site-packages/tensorflow/python/framework/dtypes.py:525: FutureWarning: Passing (type, 1) or '1type' as a synonym of type is deprecated; in a future version of numpy, it will be understood as (type, (1,)) / '(1,)type'.\n",
      "  np_resource = np.dtype([(\"resource\", np.ubyte, 1)])\n",
      "/home/ubuntu/.local/lib/python3.5/site-packages/tensorboard/compat/tensorflow_stub/dtypes.py:541: FutureWarning: Passing (type, 1) or '1type' as a synonym of type is deprecated; in a future version of numpy, it will be understood as (type, (1,)) / '(1,)type'.\n",
      "  _np_qint8 = np.dtype([(\"qint8\", np.int8, 1)])\n",
      "/home/ubuntu/.local/lib/python3.5/site-packages/tensorboard/compat/tensorflow_stub/dtypes.py:542: FutureWarning: Passing (type, 1) or '1type' as a synonym of type is deprecated; in a future version of numpy, it will be understood as (type, (1,)) / '(1,)type'.\n",
      "  _np_quint8 = np.dtype([(\"quint8\", np.uint8, 1)])\n",
      "/home/ubuntu/.local/lib/python3.5/site-packages/tensorboard/compat/tensorflow_stub/dtypes.py:543: FutureWarning: Passing (type, 1) or '1type' as a synonym of type is deprecated; in a future version of numpy, it will be understood as (type, (1,)) / '(1,)type'.\n",
      "  _np_qint16 = np.dtype([(\"qint16\", np.int16, 1)])\n",
      "/home/ubuntu/.local/lib/python3.5/site-packages/tensorboard/compat/tensorflow_stub/dtypes.py:544: FutureWarning: Passing (type, 1) or '1type' as a synonym of type is deprecated; in a future version of numpy, it will be understood as (type, (1,)) / '(1,)type'.\n",
      "  _np_quint16 = np.dtype([(\"quint16\", np.uint16, 1)])\n",
      "/home/ubuntu/.local/lib/python3.5/site-packages/tensorboard/compat/tensorflow_stub/dtypes.py:545: FutureWarning: Passing (type, 1) or '1type' as a synonym of type is deprecated; in a future version of numpy, it will be understood as (type, (1,)) / '(1,)type'.\n",
      "  _np_qint32 = np.dtype([(\"qint32\", np.int32, 1)])\n",
      "/home/ubuntu/.local/lib/python3.5/site-packages/tensorboard/compat/tensorflow_stub/dtypes.py:550: FutureWarning: Passing (type, 1) or '1type' as a synonym of type is deprecated; in a future version of numpy, it will be understood as (type, (1,)) / '(1,)type'.\n",
      "  np_resource = np.dtype([(\"resource\", np.ubyte, 1)])\n",
      "Using TensorFlow backend.\n"
     ]
    }
   ],
   "source": [
    "import tensorflow as tf\n",
    "#from tensorflow.examples.tutorials.mnist import input_data\n",
    "from tensorflow.python.ops import rnn, rnn_cell\n",
    "#mnist = input_data.read_data_sets('MNIST_data', one_hot=True)\n",
    "import numpy as np # Included\n",
    "import pandas as pd\n",
    "import csv\n",
    "import sys\n",
    "from keras.models import Sequential\n",
    "from keras.layers import Dense\n",
    "from keras.layers import LSTM\n",
    "from sklearn.preprocessing import MinMaxScaler\n",
    "from sklearn.metrics import mean_squared_error\n",
    "from sklearn.feature_extraction import DictVectorizer as DV\n",
    "from keras.losses import binary_crossentropy\n",
    "\n",
    "#np.set_printoptions(threshold=sys.maxsize)\n",
    "\n",
    "dir1=\"/home/ubuntu/dataset/\"\n",
    "#dir1=\"/Users/ejl334/Downloads/IoT Dataset by UC/Concatenated/Archive/\"\n",
    "\n",
    "from numpy import genfromtxt\n",
    "benign_traffic = genfromtxt(dir1+'benign_traffic.csv', delimiter=',')\n",
    "malicious_traffic_dataset = genfromtxt(dir1+'gafgyt_combo.csv', delimiter=',')"
   ]
  },
  {
   "cell_type": "code",
   "execution_count": 2,
   "metadata": {},
   "outputs": [
    {
     "name": "stdout",
     "output_type": "stream",
     "text": [
      "========================================================================\n",
      "***BENIGN TRAFFIC***\n",
      "========================================================================\n",
      "***DIMENSIONS***\n",
      "Dimensions Rows: 555941 Columns: 115\n",
      "***NAN ROWS***\n",
      "[[     0]\n",
      " [ 49549]\n",
      " [ 62663]\n",
      " [101764]\n",
      " [277005]\n",
      " [339160]\n",
      " [437675]\n",
      " [489826]\n",
      " [536412]]\n",
      "***** NAN Removal *****\n",
      "***DIMENSIONS***\n",
      "Dimensions Rows: 555932 Columns: 115\n",
      "***NAN ROWS***\n",
      "[]\n",
      "========================================================================\n",
      "***MALICIOUS TRAFFIC***\n",
      "========================================================================\n",
      "***DIMENSIONS ML***\n",
      "Dimensions ML Rows: 515165 Columns: 115\n",
      "***NAN ROWS ML***\n",
      "[[     0]\n",
      " [ 59719]\n",
      " [112732]\n",
      " [165747]\n",
      " [223900]\n",
      " [285281]\n",
      " [342812]\n",
      " [401482]\n",
      " [455766]]\n",
      "***** NAN Removal ML *****\n",
      "***DIMENSIONS ML***\n",
      "Dimensions ML Rows: 515156 Columns: 115\n",
      "***NAN ROWS ML***\n",
      "[]\n"
     ]
    }
   ],
   "source": [
    "# DELETE COLUMNS WITH NAN\n",
    "print(\"========================================================================\")\n",
    "print(\"***BENIGN TRAFFIC***\")\n",
    "print(\"========================================================================\")\n",
    "print(\"***DIMENSIONS***\")\n",
    "numrows = len(benign_traffic)\n",
    "numcols = len(benign_traffic[0])\n",
    "print(\"Dimensions Rows: %s Columns: %s\" %(numrows,numcols))\n",
    "\n",
    "print(\"***NAN ROWS***\")\n",
    "nan_rows=np.argwhere(np.isnan(benign_traffic).any(axis=1))\n",
    "print(nan_rows)\n",
    "\n",
    "print(\"***** NAN Removal *****\")\n",
    "benign_traffic = benign_traffic[~np.isnan(benign_traffic).any(axis=1)]\n",
    "\n",
    "print(\"***DIMENSIONS***\")\n",
    "numrows_good = len(benign_traffic)\n",
    "numcols = len(benign_traffic[0])\n",
    "print(\"Dimensions Rows: %s Columns: %s\" %(numrows_good,numcols))\n",
    "\n",
    "print(\"***NAN ROWS***\")\n",
    "nan_rows=np.argwhere(np.isnan(benign_traffic).any(axis=1))\n",
    "print(nan_rows)\n",
    "\n",
    "print(\"========================================================================\")\n",
    "print(\"***MALICIOUS TRAFFIC***\")\n",
    "print(\"========================================================================\")\n",
    "print(\"***DIMENSIONS ML***\")\n",
    "malicious_dataset = malicious_traffic_dataset\n",
    "\n",
    "numrows_ml = len(malicious_dataset)\n",
    "numcols_ml = len(malicious_dataset[0])\n",
    "print(\"Dimensions ML Rows: %s Columns: %s\" %(numrows_ml,numcols_ml))\n",
    "\n",
    "print(\"***NAN ROWS ML***\")\n",
    "nan_rows_ml=np.argwhere(np.isnan(malicious_dataset).any(axis=1))\n",
    "print(nan_rows_ml)\n",
    "\n",
    "print(\"***** NAN Removal ML *****\")\n",
    "malicious_dataset = malicious_dataset[~np.isnan(malicious_dataset).any(axis=1)]\n",
    "\n",
    "print(\"***DIMENSIONS ML***\")\n",
    "numrows_bad = len(malicious_dataset)\n",
    "numcols_bad = len(malicious_dataset[0])\n",
    "print(\"Dimensions ML Rows: %s Columns: %s\" %(numrows_bad,numcols_bad))\n",
    "print(\"***NAN ROWS ML***\")\n",
    "nan_rows_ml=np.argwhere(np.isnan(malicious_dataset).any(axis=1))\n",
    "print(nan_rows_ml)"
   ]
  },
  {
   "cell_type": "code",
   "execution_count": 3,
   "metadata": {},
   "outputs": [
    {
     "data": {
      "text/plain": [
       "array([1.00000000e+00, 6.00000000e+01, 0.00000000e+00, 1.00000000e+00,\n",
       "       6.00000000e+01, 0.00000000e+00, 1.00000000e+00, 6.00000000e+01,\n",
       "       0.00000000e+00, 1.00000000e+00, 6.00000000e+01, 0.00000000e+00,\n",
       "       1.00000000e+00, 6.00000000e+01, 0.00000000e+00, 1.00000000e+00,\n",
       "       6.00000000e+01, 0.00000000e+00, 1.00000000e+00, 6.00000000e+01,\n",
       "       0.00000000e+00, 1.00000000e+00, 6.00000000e+01, 0.00000000e+00,\n",
       "       1.00000000e+00, 6.00000000e+01, 0.00000000e+00, 1.00000000e+00,\n",
       "       6.00000000e+01, 0.00000000e+00, 1.00000000e+00, 6.00000000e+01,\n",
       "       0.00000000e+00, 6.00000000e+01, 0.00000000e+00, 0.00000000e+00,\n",
       "       0.00000000e+00, 1.00000000e+00, 6.00000000e+01, 0.00000000e+00,\n",
       "       6.00000000e+01, 0.00000000e+00, 0.00000000e+00, 0.00000000e+00,\n",
       "       1.00000000e+00, 6.00000000e+01, 0.00000000e+00, 6.00000000e+01,\n",
       "       0.00000000e+00, 0.00000000e+00, 0.00000000e+00, 1.00000000e+00,\n",
       "       6.00000000e+01, 0.00000000e+00, 6.00000000e+01, 0.00000000e+00,\n",
       "       0.00000000e+00, 0.00000000e+00, 1.00000000e+00, 6.00000000e+01,\n",
       "       0.00000000e+00, 6.00000000e+01, 0.00000000e+00, 0.00000000e+00,\n",
       "       0.00000000e+00, 1.00000000e+00, 1.50566169e+09, 0.00000000e+00,\n",
       "       1.00000000e+00, 1.50566169e+09, 0.00000000e+00, 1.00000000e+00,\n",
       "       1.50566169e+09, 0.00000000e+00, 1.00000000e+00, 1.50566169e+09,\n",
       "       0.00000000e+00, 1.00000000e+00, 1.50566169e+09, 0.00000000e+00,\n",
       "       1.00000000e+00, 6.00000000e+01, 0.00000000e+00, 6.00000000e+01,\n",
       "       0.00000000e+00, 0.00000000e+00, 0.00000000e+00, 1.00000000e+00,\n",
       "       6.00000000e+01, 0.00000000e+00, 6.00000000e+01, 0.00000000e+00,\n",
       "       0.00000000e+00, 0.00000000e+00, 1.00000000e+00, 6.00000000e+01,\n",
       "       0.00000000e+00, 6.00000000e+01, 0.00000000e+00, 0.00000000e+00,\n",
       "       0.00000000e+00, 1.00000000e+00, 6.00000000e+01, 0.00000000e+00,\n",
       "       6.00000000e+01, 0.00000000e+00, 0.00000000e+00, 0.00000000e+00,\n",
       "       1.00000000e+00, 6.00000000e+01, 0.00000000e+00, 6.00000000e+01,\n",
       "       0.00000000e+00, 0.00000000e+00, 0.00000000e+00])"
      ]
     },
     "execution_count": 3,
     "metadata": {},
     "output_type": "execute_result"
    }
   ],
   "source": [
    "benign_traffic[0]"
   ]
  },
  {
   "cell_type": "code",
   "execution_count": 4,
   "metadata": {},
   "outputs": [],
   "source": [
    "# DELETE UNWANTED COLUMNS\n",
    "benign_traffic = np.delete(benign_traffic, [2,5,8,11,14,17,20,23,26,29,\\\n",
    "                                            34,35,41,42,48,49,55,56,62,63,\\\n",
    "                                            66,67,69,70,72,73,75,76,78,79,\\\n",
    "                                            84,85,91,92,98,99,105,106,112,113,], axis=1)\n",
    "malicious_dataset = np.delete(malicious_dataset, [2,5,8,11,14,17,20,23,26,29,\\\n",
    "                                            34,35,41,42,48,49,55,56,62,63,\\\n",
    "                                            66,67,69,70,72,73,75,76,78,79,\\\n",
    "                                            84,85,91,92,98,99,105,106,112,113,], axis=1)\n"
   ]
  },
  {
   "cell_type": "code",
   "execution_count": 5,
   "metadata": {},
   "outputs": [
    {
     "name": "stdout",
     "output_type": "stream",
     "text": [
      "***DIMENSIONS BENIGN***\n",
      "Dimensions Rows: 555932 Columns: 75\n",
      "***DIMENSIONS MALICIOUS***\n",
      "Dimensions Rows: 515156 Columns: 75\n"
     ]
    }
   ],
   "source": [
    "print(\"***DIMENSIONS BENIGN***\")\n",
    "numrows_good = len(benign_traffic)\n",
    "numcols_good = len(benign_traffic[0])\n",
    "print(\"Dimensions Rows: %s Columns: %s\" %(numrows_good,numcols_good))\n",
    "print(\"***DIMENSIONS MALICIOUS***\")\n",
    "numrows_bad = len(malicious_dataset)\n",
    "numcols_bad = len(malicious_dataset[0])\n",
    "print(\"Dimensions Rows: %s Columns: %s\" %(numrows_bad,numcols_bad))"
   ]
  },
  {
   "cell_type": "code",
   "execution_count": 6,
   "metadata": {},
   "outputs": [
    {
     "name": "stdout",
     "output_type": "stream",
     "text": [
      "*** COMPLETE DATASET ***\n",
      "Dimensions Rows: 1071088 Columns: 75\n",
      "*** COMPLETE DATASET Labels ***\n",
      "Dimensions Rows: 1071088\n"
     ]
    }
   ],
   "source": [
    "# Define Labels\n",
    "y_benings = np.zeros(len(benign_traffic),dtype=int)\n",
    "y_malicious = np.ones(len(malicious_dataset),dtype=int)\n",
    "\n",
    "complete_dataset = np.concatenate((benign_traffic, malicious_dataset), 0)\n",
    "print(\"*** COMPLETE DATASET ***\")\n",
    "numrows = len(complete_dataset)\n",
    "numcols = len(complete_dataset[0])\n",
    "print(\"Dimensions Rows: %s Columns: %s\" %(numrows,numcols))\n",
    "complete_dataset_labels = np.concatenate((y_benings,y_malicious),0)\n",
    "print(\"*** COMPLETE DATASET Labels ***\")\n",
    "numrows = len(complete_dataset_labels)\n",
    "numcols = len(complete_dataset_labels)\n",
    "print(\"Dimensions Rows: %s\" %(numrows))"
   ]
  },
  {
   "cell_type": "code",
   "execution_count": 7,
   "metadata": {},
   "outputs": [],
   "source": [
    "# NORMALIZE DATASET\n",
    "scaler = MinMaxScaler(feature_range=(0, 1))\n",
    "dataX_ = scaler.fit_transform(complete_dataset)"
   ]
  },
  {
   "cell_type": "code",
   "execution_count": 8,
   "metadata": {},
   "outputs": [],
   "source": [
    "from sklearn import model_selection\n",
    "validation_size = 0.20\n",
    "seed = 7\n",
    "X_train, X_validation, Y_train, Y_validation = model_selection.train_test_split(dataX_, complete_dataset_labels, test_size=validation_size, random_state=seed)\n",
    "\n",
    "##### NEW #####\n",
    "#validation_size = 0.50\n",
    "#seed = 7\n",
    "#X_validation, X_test, Y_validation, Y_test = model_selection.train_test_split(X_validation, Y_validation, test_size=validation_size, random_state=seed)\n",
    "###############\n",
    "\n",
    "del dataX_"
   ]
  },
  {
   "cell_type": "code",
   "execution_count": 9,
   "metadata": {},
   "outputs": [
    {
     "name": "stdout",
     "output_type": "stream",
     "text": [
      "(856870, 75) (214218, 75)\n",
      "856870 214218\n"
     ]
    }
   ],
   "source": [
    "print(np.shape(X_train), np.shape(X_validation))#, np.shape(X_test))\n",
    "print(len(Y_train), len(Y_validation))#, len(Y_test))"
   ]
  },
  {
   "cell_type": "code",
   "execution_count": 10,
   "metadata": {},
   "outputs": [
    {
     "name": "stdout",
     "output_type": "stream",
     "text": [
      "214218\n",
      "(856870, 1, 75)\n",
      "(214218, 1, 75)\n"
     ]
    }
   ],
   "source": [
    "# Vectorize data\n",
    "print(len(Y_validation))\n",
    "vector_train_x = X_train.reshape((len(X_train), 1, 75))\n",
    "print(vector_train_x.shape)\n",
    "vector_validation_x = X_validation.reshape((len(X_validation), 1, 75))\n",
    "print(vector_validation_x.shape)\n",
    "#vector_test_x = X_test.reshape((len(X_test), 1, 75))\n",
    "#print(vector_test_x.shape)"
   ]
  },
  {
   "cell_type": "code",
   "execution_count": 11,
   "metadata": {},
   "outputs": [],
   "source": [
    "# Vectorize Data\n",
    "\n",
    "# vector_train_x = X_.reshape((len(X_), 1, 75))\n",
    "# print(vector_train_x.shape)"
   ]
  },
  {
   "cell_type": "markdown",
   "metadata": {},
   "source": [
    "# LSTM MODEL"
   ]
  },
  {
   "cell_type": "code",
   "execution_count": null,
   "metadata": {},
   "outputs": [
    {
     "name": "stdout",
     "output_type": "stream",
     "text": [
      "===================================================\n",
      "Length of Train: 685496   Length of Validation 171374\n",
      "\n",
      "\n",
      "Training on fold 1/10...\n",
      "\n",
      "\n",
      "Train on 685496 samples, validate on 171374 samples\n",
      "Epoch 1/30\n",
      " - 6s - loss: 0.6972 - acc: 0.4885 - val_loss: 0.6898 - val_acc: 0.5191\n",
      "Epoch 2/30\n",
      " - 1s - loss: 0.6846 - acc: 0.5555 - val_loss: 0.6765 - val_acc: 0.5191\n",
      "Epoch 3/30\n",
      " - 1s - loss: 0.6691 - acc: 0.6523 - val_loss: 0.6560 - val_acc: 0.8758\n",
      "Epoch 4/30\n",
      " - 2s - loss: 0.6438 - acc: 0.8268 - val_loss: 0.6211 - val_acc: 0.9897\n",
      "Epoch 5/30\n",
      " - 2s - loss: 0.6015 - acc: 0.9380 - val_loss: 0.5631 - val_acc: 0.9963\n",
      "Epoch 6/30\n",
      " - 2s - loss: 0.5337 - acc: 0.9771 - val_loss: 0.4736 - val_acc: 0.9978\n",
      "Epoch 7/30\n",
      " - 2s - loss: 0.4373 - acc: 0.9904 - val_loss: 0.3549 - val_acc: 0.9982\n",
      "Epoch 8/30\n",
      " - 1s - loss: 0.3214 - acc: 0.9955 - val_loss: 0.2313 - val_acc: 0.9984\n",
      "Epoch 9/30\n",
      " - 2s - loss: 0.2118 - acc: 0.9973 - val_loss: 0.1360 - val_acc: 0.9984\n",
      "Epoch 10/30\n",
      " - 1s - loss: 0.1306 - acc: 0.9978 - val_loss: 0.0785 - val_acc: 0.9983\n",
      "Epoch 11/30\n",
      " - 1s - loss: 0.0803 - acc: 0.9979 - val_loss: 0.0474 - val_acc: 0.9982\n",
      "Epoch 12/30\n",
      " - 2s - loss: 0.0520 - acc: 0.9979 - val_loss: 0.0310 - val_acc: 0.9982\n",
      "Epoch 13/30\n",
      " - 2s - loss: 0.0364 - acc: 0.9978 - val_loss: 0.0220 - val_acc: 0.9982\n",
      "Epoch 14/30\n",
      " - 2s - loss: 0.0272 - acc: 0.9979 - val_loss: 0.0169 - val_acc: 0.9982\n",
      "Epoch 15/30\n",
      " - 2s - loss: 0.0217 - acc: 0.9981 - val_loss: 0.0138 - val_acc: 0.9983\n",
      "Epoch 16/30\n",
      " - 1s - loss: 0.0180 - acc: 0.9982 - val_loss: 0.0118 - val_acc: 0.9984\n",
      "Epoch 17/30\n",
      " - 1s - loss: 0.0156 - acc: 0.9983 - val_loss: 0.0104 - val_acc: 0.9985\n",
      "Epoch 18/30\n",
      " - 2s - loss: 0.0139 - acc: 0.9985 - val_loss: 0.0093 - val_acc: 0.9987\n",
      "Epoch 19/30\n",
      " - 2s - loss: 0.0125 - acc: 0.9986 - val_loss: 0.0086 - val_acc: 0.9988\n",
      "Epoch 20/30\n",
      " - 2s - loss: 0.0114 - acc: 0.9987 - val_loss: 0.0079 - val_acc: 0.9989\n",
      "Epoch 21/30\n",
      " - 2s - loss: 0.0105 - acc: 0.9988 - val_loss: 0.0074 - val_acc: 0.9990\n",
      "Epoch 22/30\n",
      " - 2s - loss: 0.0097 - acc: 0.9989 - val_loss: 0.0069 - val_acc: 0.9990\n",
      "Epoch 23/30\n",
      " - 2s - loss: 0.0092 - acc: 0.9989 - val_loss: 0.0065 - val_acc: 0.9991\n",
      "Epoch 24/30\n",
      " - 2s - loss: 0.0086 - acc: 0.9991 - val_loss: 0.0061 - val_acc: 0.9992\n",
      "Epoch 25/30\n",
      " - 2s - loss: 0.0081 - acc: 0.9991 - val_loss: 0.0056 - val_acc: 0.9992\n",
      "Epoch 26/30\n",
      " - 2s - loss: 0.0075 - acc: 0.9991 - val_loss: 0.0052 - val_acc: 0.9993\n",
      "Epoch 27/30\n",
      " - 2s - loss: 0.0069 - acc: 0.9992 - val_loss: 0.0046 - val_acc: 0.9994\n",
      "Epoch 28/30\n",
      " - 2s - loss: 0.0064 - acc: 0.9992 - val_loss: 0.0041 - val_acc: 0.9994\n",
      "Epoch 29/30\n",
      " - 2s - loss: 0.0058 - acc: 0.9993 - val_loss: 0.0035 - val_acc: 0.9995\n",
      "Epoch 30/30\n",
      " - 2s - loss: 0.0053 - acc: 0.9994 - val_loss: 0.0030 - val_acc: 0.9996\n",
      "acc: 99.96%\n",
      "===================================================\n",
      "Length of Train: 685496   Length of Validation 171374\n",
      "\n",
      "\n",
      "Training on fold 2/10...\n",
      "\n",
      "\n",
      "Train on 685496 samples, validate on 171374 samples\n",
      "Epoch 1/30\n",
      " - 6s - loss: 0.6924 - acc: 0.5147 - val_loss: 0.6863 - val_acc: 0.5191\n",
      "Epoch 2/30\n",
      " - 2s - loss: 0.6811 - acc: 0.5361 - val_loss: 0.6727 - val_acc: 0.5191\n",
      "Epoch 3/30\n",
      " - 2s - loss: 0.6643 - acc: 0.6482 - val_loss: 0.6496 - val_acc: 0.9116\n",
      "Epoch 4/30\n",
      " - 2s - loss: 0.6348 - acc: 0.8621 - val_loss: 0.6085 - val_acc: 0.9926\n",
      "Epoch 5/30\n",
      " - 2s - loss: 0.5841 - acc: 0.9654 - val_loss: 0.5393 - val_acc: 0.9962\n",
      "Epoch 6/30\n",
      " - 2s - loss: 0.5037 - acc: 0.9884 - val_loss: 0.4350 - val_acc: 0.9974\n",
      "Epoch 7/30\n",
      " - 2s - loss: 0.3931 - acc: 0.9944 - val_loss: 0.3046 - val_acc: 0.9978\n",
      "Epoch 8/30\n",
      " - 2s - loss: 0.2707 - acc: 0.9964 - val_loss: 0.1811 - val_acc: 0.9979\n",
      "Epoch 9/30\n",
      " - 2s - loss: 0.1654 - acc: 0.9971 - val_loss: 0.0966 - val_acc: 0.9980\n",
      "Epoch 10/30\n",
      " - 2s - loss: 0.0957 - acc: 0.9973 - val_loss: 0.0519 - val_acc: 0.9979\n",
      "Epoch 11/30\n",
      " - 2s - loss: 0.0575 - acc: 0.9974 - val_loss: 0.0308 - val_acc: 0.9979\n",
      "Epoch 12/30\n",
      " - 2s - loss: 0.0379 - acc: 0.9975 - val_loss: 0.0207 - val_acc: 0.9980\n",
      "Epoch 13/30\n",
      " - 2s - loss: 0.0276 - acc: 0.9977 - val_loss: 0.0155 - val_acc: 0.9981\n",
      "Epoch 14/30\n",
      " - 2s - loss: 0.0218 - acc: 0.9978 - val_loss: 0.0126 - val_acc: 0.9983\n",
      "Epoch 15/30\n",
      " - 2s - loss: 0.0182 - acc: 0.9981 - val_loss: 0.0107 - val_acc: 0.9984\n",
      "Epoch 16/30\n",
      " - 2s - loss: 0.0158 - acc: 0.9983 - val_loss: 0.0095 - val_acc: 0.9986\n",
      "Epoch 17/30\n",
      " - 2s - loss: 0.0141 - acc: 0.9984 - val_loss: 0.0086 - val_acc: 0.9987\n",
      "Epoch 18/30\n",
      " - 2s - loss: 0.0129 - acc: 0.9985 - val_loss: 0.0079 - val_acc: 0.9988\n",
      "Epoch 19/30\n",
      " - 2s - loss: 0.0118 - acc: 0.9986 - val_loss: 0.0073 - val_acc: 0.9989\n",
      "Epoch 20/30\n",
      " - 2s - loss: 0.0109 - acc: 0.9987 - val_loss: 0.0069 - val_acc: 0.9990\n",
      "Epoch 21/30\n",
      " - 2s - loss: 0.0102 - acc: 0.9988 - val_loss: 0.0064 - val_acc: 0.9991\n",
      "Epoch 22/30\n",
      " - 2s - loss: 0.0096 - acc: 0.9989 - val_loss: 0.0061 - val_acc: 0.9991\n",
      "Epoch 23/30\n",
      " - 2s - loss: 0.0090 - acc: 0.9989 - val_loss: 0.0057 - val_acc: 0.9992\n",
      "Epoch 24/30\n",
      " - 2s - loss: 0.0085 - acc: 0.9990 - val_loss: 0.0054 - val_acc: 0.9992\n",
      "Epoch 25/30\n",
      " - 2s - loss: 0.0079 - acc: 0.9990 - val_loss: 0.0051 - val_acc: 0.9993\n",
      "Epoch 26/30\n",
      " - 2s - loss: 0.0075 - acc: 0.9991 - val_loss: 0.0047 - val_acc: 0.9993\n",
      "Epoch 27/30\n",
      " - 2s - loss: 0.0070 - acc: 0.9991 - val_loss: 0.0043 - val_acc: 0.9994\n",
      "Epoch 28/30\n",
      " - 2s - loss: 0.0065 - acc: 0.9992 - val_loss: 0.0039 - val_acc: 0.9994\n",
      "Epoch 29/30\n",
      " - 2s - loss: 0.0059 - acc: 0.9993 - val_loss: 0.0035 - val_acc: 0.9994\n",
      "Epoch 30/30\n",
      " - 2s - loss: 0.0053 - acc: 0.9994 - val_loss: 0.0030 - val_acc: 0.9995\n",
      "acc: 99.95%\n",
      "===================================================\n",
      "Length of Train: 685496   Length of Validation 171374\n",
      "\n",
      "\n",
      "Training on fold 3/10...\n",
      "\n",
      "\n",
      "Train on 685496 samples, validate on 171374 samples\n",
      "Epoch 1/30\n",
      " - 6s - loss: 0.6906 - acc: 0.5483 - val_loss: 0.6818 - val_acc: 0.5191\n",
      "Epoch 2/30\n",
      " - 1s - loss: 0.6740 - acc: 0.6235 - val_loss: 0.6612 - val_acc: 0.6730\n",
      "Epoch 3/30\n",
      " - 1s - loss: 0.6484 - acc: 0.7914 - val_loss: 0.6259 - val_acc: 0.9804\n",
      "Epoch 4/30\n",
      " - 1s - loss: 0.6046 - acc: 0.9358 - val_loss: 0.5660 - val_acc: 0.9966\n",
      "Epoch 5/30\n",
      " - 1s - loss: 0.5343 - acc: 0.9796 - val_loss: 0.4730 - val_acc: 0.9981\n",
      "Epoch 6/30\n",
      " - 1s - loss: 0.4334 - acc: 0.9911 - val_loss: 0.3491 - val_acc: 0.9984\n",
      "Epoch 7/30\n",
      " - 1s - loss: 0.3129 - acc: 0.9951 - val_loss: 0.2202 - val_acc: 0.9985\n",
      "Epoch 8/30\n",
      " - 1s - loss: 0.2002 - acc: 0.9966 - val_loss: 0.1220 - val_acc: 0.9984\n",
      "Epoch 9/30\n",
      " - 2s - loss: 0.1179 - acc: 0.9972 - val_loss: 0.0652 - val_acc: 0.9984\n",
      "Epoch 10/30\n",
      " - 2s - loss: 0.0699 - acc: 0.9974 - val_loss: 0.0371 - val_acc: 0.9983\n",
      "Epoch 11/30\n",
      " - 1s - loss: 0.0443 - acc: 0.9975 - val_loss: 0.0236 - val_acc: 0.9983\n",
      "Epoch 12/30\n",
      " - 2s - loss: 0.0310 - acc: 0.9977 - val_loss: 0.0168 - val_acc: 0.9984\n",
      "Epoch 13/30\n",
      " - 2s - loss: 0.0237 - acc: 0.9979 - val_loss: 0.0131 - val_acc: 0.9985\n",
      "Epoch 14/30\n",
      " - 1s - loss: 0.0192 - acc: 0.9981 - val_loss: 0.0109 - val_acc: 0.9986\n",
      "Epoch 15/30\n",
      " - 1s - loss: 0.0164 - acc: 0.9983 - val_loss: 0.0094 - val_acc: 0.9988\n",
      "Epoch 16/30\n",
      " - 2s - loss: 0.0146 - acc: 0.9983 - val_loss: 0.0084 - val_acc: 0.9989\n",
      "Epoch 17/30\n",
      " - 1s - loss: 0.0131 - acc: 0.9985 - val_loss: 0.0076 - val_acc: 0.9989\n",
      "Epoch 18/30\n",
      " - 2s - loss: 0.0120 - acc: 0.9986 - val_loss: 0.0071 - val_acc: 0.9990\n",
      "Epoch 19/30\n",
      " - 1s - loss: 0.0110 - acc: 0.9987 - val_loss: 0.0066 - val_acc: 0.9991\n",
      "Epoch 20/30\n",
      " - 1s - loss: 0.0103 - acc: 0.9988 - val_loss: 0.0062 - val_acc: 0.9992\n",
      "Epoch 21/30\n",
      " - 2s - loss: 0.0097 - acc: 0.9989 - val_loss: 0.0058 - val_acc: 0.9992\n",
      "Epoch 22/30\n",
      " - 2s - loss: 0.0093 - acc: 0.9989 - val_loss: 0.0055 - val_acc: 0.9993\n",
      "Epoch 23/30\n",
      " - 2s - loss: 0.0087 - acc: 0.9989 - val_loss: 0.0053 - val_acc: 0.9993\n",
      "Epoch 24/30\n",
      " - 2s - loss: 0.0083 - acc: 0.9990 - val_loss: 0.0050 - val_acc: 0.9994\n",
      "Epoch 25/30\n",
      " - 1s - loss: 0.0079 - acc: 0.9991 - val_loss: 0.0048 - val_acc: 0.9994\n",
      "Epoch 26/30\n",
      " - 2s - loss: 0.0075 - acc: 0.9991 - val_loss: 0.0045 - val_acc: 0.9994\n",
      "Epoch 27/30\n",
      " - 1s - loss: 0.0071 - acc: 0.9991 - val_loss: 0.0043 - val_acc: 0.9994\n",
      "Epoch 28/30\n",
      " - 2s - loss: 0.0068 - acc: 0.9992 - val_loss: 0.0041 - val_acc: 0.9994\n",
      "Epoch 29/30\n",
      " - 2s - loss: 0.0064 - acc: 0.9992 - val_loss: 0.0038 - val_acc: 0.9995\n",
      "Epoch 30/30\n",
      " - 2s - loss: 0.0060 - acc: 0.9992 - val_loss: 0.0035 - val_acc: 0.9995\n",
      "acc: 99.95%\n",
      "===================================================\n",
      "Length of Train: 685496   Length of Validation 171374\n",
      "\n",
      "\n",
      "Training on fold 4/10...\n",
      "\n",
      "\n",
      "Train on 685496 samples, validate on 171374 samples\n",
      "Epoch 1/30\n",
      " - 7s - loss: 0.6890 - acc: 0.6378 - val_loss: 0.6812 - val_acc: 0.5360\n",
      "Epoch 2/30\n",
      " - 2s - loss: 0.6745 - acc: 0.7098 - val_loss: 0.6632 - val_acc: 0.8654\n",
      "Epoch 3/30\n",
      " - 2s - loss: 0.6523 - acc: 0.8102 - val_loss: 0.6330 - val_acc: 0.9770\n",
      "Epoch 4/30\n",
      " - 2s - loss: 0.6149 - acc: 0.9207 - val_loss: 0.5819 - val_acc: 0.9954\n",
      "Epoch 5/30\n",
      " - 2s - loss: 0.5545 - acc: 0.9739 - val_loss: 0.5017 - val_acc: 0.9980\n",
      "Epoch 6/30\n",
      " - 2s - loss: 0.4663 - acc: 0.9904 - val_loss: 0.3914 - val_acc: 0.9984\n",
      "Epoch 7/30\n",
      " - 2s - loss: 0.3559 - acc: 0.9955 - val_loss: 0.2680 - val_acc: 0.9986\n",
      "Epoch 8/30\n",
      " - 2s - loss: 0.2438 - acc: 0.9972 - val_loss: 0.1629 - val_acc: 0.9986\n",
      "Epoch 9/30\n",
      " - 2s - loss: 0.1536 - acc: 0.9978 - val_loss: 0.0937 - val_acc: 0.9984\n",
      "Epoch 10/30\n",
      " - 2s - loss: 0.0943 - acc: 0.9980 - val_loss: 0.0549 - val_acc: 0.9983\n",
      "Epoch 11/30\n",
      " - 2s - loss: 0.0597 - acc: 0.9980 - val_loss: 0.0344 - val_acc: 0.9982\n",
      "Epoch 12/30\n",
      " - 2s - loss: 0.0405 - acc: 0.9980 - val_loss: 0.0235 - val_acc: 0.9982\n",
      "Epoch 13/30\n",
      " - 2s - loss: 0.0296 - acc: 0.9980 - val_loss: 0.0175 - val_acc: 0.9983\n",
      "Epoch 14/30\n",
      " - 2s - loss: 0.0232 - acc: 0.9982 - val_loss: 0.0139 - val_acc: 0.9984\n",
      "Epoch 15/30\n",
      " - 2s - loss: 0.0191 - acc: 0.9983 - val_loss: 0.0117 - val_acc: 0.9985\n",
      "Epoch 16/30\n",
      " - 2s - loss: 0.0164 - acc: 0.9984 - val_loss: 0.0101 - val_acc: 0.9986\n",
      "Epoch 17/30\n",
      " - 2s - loss: 0.0144 - acc: 0.9985 - val_loss: 0.0090 - val_acc: 0.9987\n",
      "Epoch 18/30\n",
      " - 2s - loss: 0.0130 - acc: 0.9986 - val_loss: 0.0082 - val_acc: 0.9988\n",
      "Epoch 19/30\n",
      " - 2s - loss: 0.0118 - acc: 0.9988 - val_loss: 0.0076 - val_acc: 0.9988\n",
      "Epoch 20/30\n",
      " - 2s - loss: 0.0109 - acc: 0.9989 - val_loss: 0.0070 - val_acc: 0.9990\n",
      "Epoch 21/30\n",
      " - 2s - loss: 0.0101 - acc: 0.9989 - val_loss: 0.0066 - val_acc: 0.9990\n",
      "Epoch 22/30\n",
      " - 2s - loss: 0.0094 - acc: 0.9990 - val_loss: 0.0061 - val_acc: 0.9992\n",
      "Epoch 23/30\n",
      " - 2s - loss: 0.0088 - acc: 0.9990 - val_loss: 0.0057 - val_acc: 0.9992\n",
      "Epoch 24/30\n",
      " - 2s - loss: 0.0083 - acc: 0.9991 - val_loss: 0.0053 - val_acc: 0.9993\n",
      "Epoch 25/30\n",
      " - 2s - loss: 0.0076 - acc: 0.9992 - val_loss: 0.0048 - val_acc: 0.9993\n",
      "Epoch 26/30\n",
      " - 2s - loss: 0.0071 - acc: 0.9992 - val_loss: 0.0043 - val_acc: 0.9993\n",
      "Epoch 27/30\n",
      " - 2s - loss: 0.0065 - acc: 0.9993 - val_loss: 0.0038 - val_acc: 0.9994\n",
      "Epoch 28/30\n",
      " - 2s - loss: 0.0059 - acc: 0.9994 - val_loss: 0.0033 - val_acc: 0.9995\n",
      "Epoch 29/30\n",
      " - 2s - loss: 0.0053 - acc: 0.9995 - val_loss: 0.0030 - val_acc: 0.9997\n",
      "Epoch 30/30\n",
      " - 2s - loss: 0.0049 - acc: 0.9995 - val_loss: 0.0027 - val_acc: 0.9997\n",
      "acc: 99.97%\n",
      "===================================================\n",
      "Length of Train: 685496   Length of Validation 171374\n",
      "\n",
      "\n",
      "Training on fold 5/10...\n",
      "\n",
      "\n",
      "Train on 685496 samples, validate on 171374 samples\n",
      "Epoch 1/30\n",
      " - 7s - loss: 0.6810 - acc: 0.7852 - val_loss: 0.6705 - val_acc: 0.9288\n",
      "Epoch 2/30\n",
      " - 2s - loss: 0.6609 - acc: 0.8129 - val_loss: 0.6447 - val_acc: 0.9694\n",
      "Epoch 3/30\n",
      " - 2s - loss: 0.6296 - acc: 0.8859 - val_loss: 0.6028 - val_acc: 0.9925\n",
      "Epoch 4/30\n",
      " - 2s - loss: 0.5795 - acc: 0.9536 - val_loss: 0.5361 - val_acc: 0.9965\n",
      "Epoch 5/30\n"
     ]
    }
   ],
   "source": [
    "from keras.layers import Dropout\n",
    "from keras.callbacks import EarlyStopping\n",
    "from sklearn import model_selection\n",
    "from sklearn.model_selection import StratifiedKFold\n",
    "from sklearn import model_selection\n",
    "\n",
    "seed=7\n",
    "np.random.seed(seed)\n",
    "cvscores = []\n",
    "kfold = StratifiedKFold(n_splits=5, shuffle=True, random_state=seed)\n",
    "#print(vector_train_x.shape)\n",
    "for index, (train, validation) in enumerate(kfold.split(vector_train_x, Y_train)):\n",
    "    \n",
    "    \n",
    "    print(\"===================================================\")\n",
    "    print(\"Length of Train: %s   Length of Validation %s\" %(len(train),len(validation)))\n",
    "    print(\"\\n\\nTraining on fold \" + str(index+1) + \"/10...\\n\\n\")\n",
    "    \n",
    "    batch_size = 100000\n",
    "    model = Sequential()\n",
    "    model.add(LSTM(28, input_shape=(1,75), return_sequences=True, name=\"LSTM_0\"))\n",
    "    model.add(Dropout(0.5, name=\"Dropout_0\"))\n",
    "    model.add(LSTM(28, name=\"LSTM_1\"))\n",
    "    model.add(Dropout(0.5, name=\"Dropout_1\"))\n",
    "    model.add(Dense(28, name=\"Dense_0\"))\n",
    "    model.add(Dense(1, activation=\"sigmoid\", name=\"Dense_1\")) #activation=\"tanh\"\n",
    "    model.compile(loss='binary_crossentropy', optimizer='adam', metrics=['acc'])\n",
    "    early_stopping = EarlyStopping(monitor='val_loss', min_delta=0.0001, patience=0, verbose=0, mode='auto', baseline=None, restore_best_weights=False)\n",
    "#    model.summary()\n",
    "#    model.fit(vector_train_x[train], complete_dataset_labels[train], epochs=20, batch_size=batch_size, verbose=2, shuffle=True,callbacks=[early_stopping],validation_data=(vector_validation_x, Y_validation)) #\n",
    "    history = model.fit(vector_train_x[train], Y_train[train], epochs=30, batch_size=batch_size, verbose=2, shuffle=True,validation_data=(vector_train_x[validation], Y_train[validation]),callbacks=[early_stopping]) #\n",
    "    scores = model.evaluate(vector_train_x[validation], Y_train[validation], verbose=0)\n",
    "    print(\"%s: %.2f%%\" % (model.metrics_names[1], scores[1]*100))\n",
    "    cvscores.append(scores[1] * 100)\n",
    "\n",
    "print(\"%.2f%% (+/- %.2f%%)\" % (np.mean(cvscores), np.std(cvscores)))\n",
    "    \n",
    "from keras.models import load_model\n",
    "model.save(dir1+'gafgyt_combo_model.h5')"
   ]
  },
  {
   "cell_type": "code",
   "execution_count": null,
   "metadata": {},
   "outputs": [],
   "source": [
    "model.summary()"
   ]
  },
  {
   "cell_type": "code",
   "execution_count": 15,
   "metadata": {},
   "outputs": [
    {
     "name": "stdout",
     "output_type": "stream",
     "text": [
      "[99.91772380874579, 99.93464586226615, 90.19396174448866, 99.93931401496144, 90.41744955477493]\n"
     ]
    }
   ],
   "source": [
    "print(cvscores)"
   ]
  },
  {
   "cell_type": "markdown",
   "metadata": {},
   "source": [
    "# Prediction"
   ]
  },
  {
   "cell_type": "code",
   "execution_count": 16,
   "metadata": {},
   "outputs": [
    {
     "name": "stdout",
     "output_type": "stream",
     "text": [
      "[-0.15286294  0.9998977  -0.65410185 ... -0.44789407  0.9998428\n",
      " -0.2857053 ]\n",
      "FPR: [0.       0.       0.       ... 0.999973 0.999991 1.      ]\n",
      " TPR: [0.00000000e+00 1.93965726e-05 3.87931453e-05 ... 1.00000000e+00\n",
      " 1.00000000e+00 1.00000000e+00]\n",
      " Treasholds: [ 1.9999509   0.99995095  0.99995047 ... -0.6813981  -0.68209773\n",
      " -0.68269235]\n"
     ]
    }
   ],
   "source": [
    "from sklearn.metrics import roc_curve\n",
    "y_pred_keras = model.predict(vector_validation_x).ravel()\n",
    "print(y_pred_keras)\n",
    "fpr_keras, tpr_keras, thresholds_keras = roc_curve(Y_validation, y_pred_keras)\n",
    "print(\"FPR: %s\\n TPR: %s\\n Treasholds: %s\" %(fpr_keras, tpr_keras, thresholds_keras))"
   ]
  },
  {
   "cell_type": "markdown",
   "metadata": {},
   "source": [
    "# AUC"
   ]
  },
  {
   "cell_type": "code",
   "execution_count": 17,
   "metadata": {},
   "outputs": [],
   "source": [
    "from sklearn.metrics import auc\n",
    "auc_keras = auc(fpr_keras, tpr_keras)"
   ]
  },
  {
   "cell_type": "markdown",
   "metadata": {},
   "source": [
    "# Plot"
   ]
  },
  {
   "cell_type": "code",
   "execution_count": 18,
   "metadata": {},
   "outputs": [
    {
     "data": {
      "image/png": "[encoded data removed]",
      "text/plain": [
       "<Figure size 432x288 with 1 Axes>"
      ]
     },
     "metadata": {
      "needs_background": "light"
     },
     "output_type": "display_data"
    },
    {
     "data": {
      "image/png": "[encoded data removed]",
      "text/plain": [
       "<Figure size 432x288 with 1 Axes>"
      ]
     },
     "metadata": {
      "needs_background": "light"
     },
     "output_type": "display_data"
    }
   ],
   "source": [
    "import matplotlib.pyplot as plt\n",
    "\n",
    "%matplotlib inline\n",
    "plt.figure(1)\n",
    "plt.plot([0, 1], [0, 1], 'k--')\n",
    "plt.plot(fpr_keras, tpr_keras, label='Keras (area = {:.3f})'.format(auc_keras))\n",
    "#plt.plot(fpr_rf, tpr_rf, label='RF (area = {:.3f})'.format(auc_rf))\n",
    "plt.xlabel('False positive rate')\n",
    "plt.ylabel('True positive rate')\n",
    "plt.title('ROC curve')\n",
    "plt.legend(loc='best')\n",
    "plt.grid(which='major', linestyle='--', linewidth='0.5', color='black')\n",
    "plt.show()\n",
    "# Zoom in view of the upper left corner.\n",
    "plt.figure(2)\n",
    "plt.xlim(0, 0.2)\n",
    "plt.ylim(0.8, 1)\n",
    "plt.plot([0, 1], [0, 1], 'k--')\n",
    "plt.plot(fpr_keras, tpr_keras, label='Keras (area = {:.3f})'.format(auc_keras))\n",
    "#plt.plot(fpr_rf, tpr_rf, label='RF (area = {:.3f})'.format(auc_rf))\n",
    "plt.xlabel('False positive rate')\n",
    "plt.ylabel('True positive rate')\n",
    "plt.title('ROC curve (zoomed in at top left)')\n",
    "plt.legend(loc='best')\n",
    "plt.grid(which='minor', linestyle=':', linewidth='0.5', color='black')\n",
    "plt.show()"
   ]
  },
  {
   "cell_type": "code",
   "execution_count": 19,
   "metadata": {},
   "outputs": [
    {
     "data": {
      "image/png": "[encoded data removed]",
      "text/plain": [
       "<Figure size 432x288 with 1 Axes>"
      ]
     },
     "metadata": {
      "needs_background": "light"
     },
     "output_type": "display_data"
    },
    {
     "data": {
      "image/png": "[encoded data removed]",
      "text/plain": [
       "<Figure size 432x288 with 1 Axes>"
      ]
     },
     "metadata": {
      "needs_background": "light"
     },
     "output_type": "display_data"
    }
   ],
   "source": [
    "# Plot training & validation accuracy values\n",
    "plt.plot(history.history['acc'],color=\"black\")\n",
    "#plt.plot(history.history['val_acc'])\n",
    "plt.title('Model Accuracy')\n",
    "plt.ylabel('Accuracy')\n",
    "plt.xlabel('Epoch')\n",
    "plt.legend(['Train'], loc='upper left') #'Test'\n",
    "plt.grid(which='major', linestyle='--', linewidth='0.5', color='black')\n",
    "plt.savefig('Accuracy.png')\n",
    "plt.show()\n",
    "\n",
    "\n",
    "# Plot training & validation loss values\n",
    "plt.plot(history.history['loss'],color=\"black\")\n",
    "#plt.plot(history.history['val_loss'])\n",
    "plt.title('Model Loss')\n",
    "plt.ylabel('Loss')\n",
    "plt.xlabel('Epoch')\n",
    "plt.legend(['Train', 'Test'], loc='lower left')\n",
    "plt.grid(which='major', linestyle='--', linewidth='0.5', color='black')\n",
    "plt.savefig('Loss.png')\n",
    "plt.show()\n"
   ]
  },
  {
   "cell_type": "code",
   "execution_count": 20,
   "metadata": {},
   "outputs": [
    {
     "data": {
      "image/png": "[encoded data removed]",
      "text/plain": [
       "<IPython.core.display.Image object>"
      ]
     },
     "execution_count": 20,
     "metadata": {},
     "output_type": "execute_result"
    }
   ],
   "source": [
    "from keras.utils import plot_model\n",
    "plot_model(model, to_file='model.png')"
   ]
  },
  {
   "cell_type": "code",
   "execution_count": 22,
   "metadata": {},
   "outputs": [
    {
     "name": "stdout",
     "output_type": "stream",
     "text": [
      "[-0.15286294  0.9998977  -0.65410185  0.99964106]\n",
      "Confusion Matrix\n"
     ]
    },
    {
     "ename": "ValueError",
     "evalue": "Classification metrics can't handle a mix of binary and continuous targets",
     "output_type": "error",
     "traceback": [
      "\u001b[0;31m---------------------------------------------------------------------------\u001b[0m",
      "\u001b[0;31mValueError\u001b[0m                                Traceback (most recent call last)",
      "\u001b[0;32m<ipython-input-22-3e9a5dbea1ad>\u001b[0m in \u001b[0;36m<module>\u001b[0;34m\u001b[0m\n\u001b[1;32m      7\u001b[0m \u001b[0;31m#print(y_pred_keras_logits[0:4])\u001b[0m\u001b[0;34m\u001b[0m\u001b[0;34m\u001b[0m\u001b[0m\n\u001b[1;32m      8\u001b[0m \u001b[0mprint\u001b[0m\u001b[0;34m(\u001b[0m\u001b[0;34m'Confusion Matrix'\u001b[0m\u001b[0;34m)\u001b[0m\u001b[0;34m\u001b[0m\u001b[0m\n\u001b[0;32m----> 9\u001b[0;31m \u001b[0mprint\u001b[0m\u001b[0;34m(\u001b[0m\u001b[0mconfusion_matrix\u001b[0m\u001b[0;34m(\u001b[0m\u001b[0mY_validation\u001b[0m\u001b[0;34m,\u001b[0m \u001b[0my_pred_keras\u001b[0m\u001b[0;34m)\u001b[0m\u001b[0;34m)\u001b[0m\u001b[0;34m\u001b[0m\u001b[0m\n\u001b[0m\u001b[1;32m     10\u001b[0m \u001b[0mprint\u001b[0m\u001b[0;34m(\u001b[0m\u001b[0;34m'Classification Report'\u001b[0m\u001b[0;34m)\u001b[0m\u001b[0;34m\u001b[0m\u001b[0m\n\u001b[1;32m     11\u001b[0m \u001b[0mtarget_names\u001b[0m \u001b[0;34m=\u001b[0m \u001b[0;34m[\u001b[0m\u001b[0;34m'Good'\u001b[0m\u001b[0;34m,\u001b[0m \u001b[0;34m'Bad'\u001b[0m\u001b[0;34m]\u001b[0m\u001b[0;34m\u001b[0m\u001b[0m\n",
      "\u001b[0;32m~/.local/lib/python3.5/site-packages/sklearn/metrics/classification.py\u001b[0m in \u001b[0;36mconfusion_matrix\u001b[0;34m(y_true, y_pred, labels, sample_weight)\u001b[0m\n\u001b[1;32m    251\u001b[0m \u001b[0;34m\u001b[0m\u001b[0m\n\u001b[1;32m    252\u001b[0m     \"\"\"\n\u001b[0;32m--> 253\u001b[0;31m     \u001b[0my_type\u001b[0m\u001b[0;34m,\u001b[0m \u001b[0my_true\u001b[0m\u001b[0;34m,\u001b[0m \u001b[0my_pred\u001b[0m \u001b[0;34m=\u001b[0m \u001b[0m_check_targets\u001b[0m\u001b[0;34m(\u001b[0m\u001b[0my_true\u001b[0m\u001b[0;34m,\u001b[0m \u001b[0my_pred\u001b[0m\u001b[0;34m)\u001b[0m\u001b[0;34m\u001b[0m\u001b[0m\n\u001b[0m\u001b[1;32m    254\u001b[0m     \u001b[0;32mif\u001b[0m \u001b[0my_type\u001b[0m \u001b[0;32mnot\u001b[0m \u001b[0;32min\u001b[0m \u001b[0;34m(\u001b[0m\u001b[0;34m\"binary\"\u001b[0m\u001b[0;34m,\u001b[0m \u001b[0;34m\"multiclass\"\u001b[0m\u001b[0;34m)\u001b[0m\u001b[0;34m:\u001b[0m\u001b[0;34m\u001b[0m\u001b[0m\n\u001b[1;32m    255\u001b[0m         \u001b[0;32mraise\u001b[0m \u001b[0mValueError\u001b[0m\u001b[0;34m(\u001b[0m\u001b[0;34m\"%s is not supported\"\u001b[0m \u001b[0;34m%\u001b[0m \u001b[0my_type\u001b[0m\u001b[0;34m)\u001b[0m\u001b[0;34m\u001b[0m\u001b[0m\n",
      "\u001b[0;32m~/.local/lib/python3.5/site-packages/sklearn/metrics/classification.py\u001b[0m in \u001b[0;36m_check_targets\u001b[0;34m(y_true, y_pred)\u001b[0m\n\u001b[1;32m     79\u001b[0m     \u001b[0;32mif\u001b[0m \u001b[0mlen\u001b[0m\u001b[0;34m(\u001b[0m\u001b[0my_type\u001b[0m\u001b[0;34m)\u001b[0m \u001b[0;34m>\u001b[0m \u001b[0;36m1\u001b[0m\u001b[0;34m:\u001b[0m\u001b[0;34m\u001b[0m\u001b[0m\n\u001b[1;32m     80\u001b[0m         raise ValueError(\"Classification metrics can't handle a mix of {0} \"\n\u001b[0;32m---> 81\u001b[0;31m                          \"and {1} targets\".format(type_true, type_pred))\n\u001b[0m\u001b[1;32m     82\u001b[0m \u001b[0;34m\u001b[0m\u001b[0m\n\u001b[1;32m     83\u001b[0m     \u001b[0;31m# We can't have more than one value on y_type => The set is no more needed\u001b[0m\u001b[0;34m\u001b[0m\u001b[0;34m\u001b[0m\u001b[0m\n",
      "\u001b[0;31mValueError\u001b[0m: Classification metrics can't handle a mix of binary and continuous targets"
     ]
    }
   ],
   "source": [
    "from sklearn.metrics import classification_report, confusion_matrix\n",
    "\n",
    "print(y_pred_keras[0:4])\n",
    "\n",
    "#y_pred_keras_logits = [np.round(i) for i in y_pred_keras]\n",
    "\n",
    "#print(y_pred_keras_logits[0:4])\n",
    "print('Confusion Matrix')\n",
    "print(confusion_matrix(Y_validation, y_pred_keras))\n",
    "print('Classification Report')\n",
    "target_names = ['Good', 'Bad']\n",
    "print(classification_report(Y_validation, y_pred_keras, target_names=target_names))"
   ]
  },
  {
   "cell_type": "code",
   "execution_count": null,
   "metadata": {},
   "outputs": [],
   "source": []
  }
 ],
 "metadata": {
  "anaconda-cloud": {},
  "kernelspec": {
   "display_name": "Python 3",
   "language": "python",
   "name": "python3"
  },
  "language_info": {
   "codemirror_mode": {
    "name": "ipython",
    "version": 3
   },
   "file_extension": ".py",
   "mimetype": "text/x-python",
   "name": "python",
   "nbconvert_exporter": "python",
   "pygments_lexer": "ipython3",
   "version": "3.5.2"
  }
 },
 "nbformat": 4,
 "nbformat_minor": 4
}
