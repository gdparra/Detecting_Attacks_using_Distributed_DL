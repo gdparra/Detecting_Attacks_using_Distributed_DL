{
 "cells": [
  {
   "cell_type": "markdown",
   "metadata": {},
   "source": [
    "### Code"
   ]
  },
  {
   "cell_type": "code",
   "execution_count": 1,
   "metadata": {},
   "outputs": [
    {
     "name": "stderr",
     "output_type": "stream",
     "text": [
      "/home/ubuntu/.local/lib/python3.5/site-packages/tensorflow/python/framework/dtypes.py:516: FutureWarning: Passing (type, 1) or '1type' as a synonym of type is deprecated; in a future version of numpy, it will be understood as (type, (1,)) / '(1,)type'.\n",
      "  _np_qint8 = np.dtype([(\"qint8\", np.int8, 1)])\n",
      "/home/ubuntu/.local/lib/python3.5/site-packages/tensorflow/python/framework/dtypes.py:517: FutureWarning: Passing (type, 1) or '1type' as a synonym of type is deprecated; in a future version of numpy, it will be understood as (type, (1,)) / '(1,)type'.\n",
      "  _np_quint8 = np.dtype([(\"quint8\", np.uint8, 1)])\n",
      "/home/ubuntu/.local/lib/python3.5/site-packages/tensorflow/python/framework/dtypes.py:518: FutureWarning: Passing (type, 1) or '1type' as a synonym of type is deprecated; in a future version of numpy, it will be understood as (type, (1,)) / '(1,)type'.\n",
      "  _np_qint16 = np.dtype([(\"qint16\", np.int16, 1)])\n",
      "/home/ubuntu/.local/lib/python3.5/site-packages/tensorflow/python/framework/dtypes.py:519: FutureWarning: Passing (type, 1) or '1type' as a synonym of type is deprecated; in a future version of numpy, it will be understood as (type, (1,)) / '(1,)type'.\n",
      "  _np_quint16 = np.dtype([(\"quint16\", np.uint16, 1)])\n",
      "/home/ubuntu/.local/lib/python3.5/site-packages/tensorflow/python/framework/dtypes.py:520: FutureWarning: Passing (type, 1) or '1type' as a synonym of type is deprecated; in a future version of numpy, it will be understood as (type, (1,)) / '(1,)type'.\n",
      "  _np_qint32 = np.dtype([(\"qint32\", np.int32, 1)])\n",
      "/home/ubuntu/.local/lib/python3.5/site-packages/tensorflow/python/framework/dtypes.py:525: FutureWarning: Passing (type, 1) or '1type' as a synonym of type is deprecated; in a future version of numpy, it will be understood as (type, (1,)) / '(1,)type'.\n",
      "  np_resource = np.dtype([(\"resource\", np.ubyte, 1)])\n",
      "/home/ubuntu/.local/lib/python3.5/site-packages/tensorboard/compat/tensorflow_stub/dtypes.py:541: FutureWarning: Passing (type, 1) or '1type' as a synonym of type is deprecated; in a future version of numpy, it will be understood as (type, (1,)) / '(1,)type'.\n",
      "  _np_qint8 = np.dtype([(\"qint8\", np.int8, 1)])\n",
      "/home/ubuntu/.local/lib/python3.5/site-packages/tensorboard/compat/tensorflow_stub/dtypes.py:542: FutureWarning: Passing (type, 1) or '1type' as a synonym of type is deprecated; in a future version of numpy, it will be understood as (type, (1,)) / '(1,)type'.\n",
      "  _np_quint8 = np.dtype([(\"quint8\", np.uint8, 1)])\n",
      "/home/ubuntu/.local/lib/python3.5/site-packages/tensorboard/compat/tensorflow_stub/dtypes.py:543: FutureWarning: Passing (type, 1) or '1type' as a synonym of type is deprecated; in a future version of numpy, it will be understood as (type, (1,)) / '(1,)type'.\n",
      "  _np_qint16 = np.dtype([(\"qint16\", np.int16, 1)])\n",
      "/home/ubuntu/.local/lib/python3.5/site-packages/tensorboard/compat/tensorflow_stub/dtypes.py:544: FutureWarning: Passing (type, 1) or '1type' as a synonym of type is deprecated; in a future version of numpy, it will be understood as (type, (1,)) / '(1,)type'.\n",
      "  _np_quint16 = np.dtype([(\"quint16\", np.uint16, 1)])\n",
      "/home/ubuntu/.local/lib/python3.5/site-packages/tensorboard/compat/tensorflow_stub/dtypes.py:545: FutureWarning: Passing (type, 1) or '1type' as a synonym of type is deprecated; in a future version of numpy, it will be understood as (type, (1,)) / '(1,)type'.\n",
      "  _np_qint32 = np.dtype([(\"qint32\", np.int32, 1)])\n",
      "/home/ubuntu/.local/lib/python3.5/site-packages/tensorboard/compat/tensorflow_stub/dtypes.py:550: FutureWarning: Passing (type, 1) or '1type' as a synonym of type is deprecated; in a future version of numpy, it will be understood as (type, (1,)) / '(1,)type'.\n",
      "  np_resource = np.dtype([(\"resource\", np.ubyte, 1)])\n",
      "Using TensorFlow backend.\n"
     ]
    }
   ],
   "source": [
    "import tensorflow as tf\n",
    "#from tensorflow.examples.tutorials.mnist import input_data\n",
    "from tensorflow.python.ops import rnn, rnn_cell\n",
    "#mnist = input_data.read_data_sets('MNIST_data', one_hot=True)\n",
    "import numpy as np # Included\n",
    "import pandas as pd\n",
    "import csv\n",
    "import sys\n",
    "from keras.models import Sequential\n",
    "from keras.layers import Dense\n",
    "from keras.layers import LSTM\n",
    "from sklearn.preprocessing import MinMaxScaler\n",
    "from sklearn.metrics import mean_squared_error\n",
    "from sklearn.feature_extraction import DictVectorizer as DV\n",
    "from keras.losses import binary_crossentropy\n",
    "\n",
    "#np.set_printoptions(threshold=sys.maxsize)\n",
    "\n",
    "dir1=\"/home/ubuntu/dataset/\"\n",
    "#dir1=\"/Users/ejl334/Downloads/IoT Dataset by UC/Concatenated/Archive/\"\n",
    "\n",
    "from numpy import genfromtxt\n",
    "benign_traffic = genfromtxt(dir1+'benign_traffic.csv', delimiter=',')\n",
    "malicious_traffic_dataset = genfromtxt(dir1+'all_malicious.csv', delimiter=',')"
   ]
  },
  {
   "cell_type": "code",
   "execution_count": 2,
   "metadata": {},
   "outputs": [
    {
     "name": "stdout",
     "output_type": "stream",
     "text": [
      "========================================================================\n",
      "***BENIGN TRAFFIC***\n",
      "========================================================================\n",
      "***DIMENSIONS***\n",
      "Dimensions Rows: 555941 Columns: 115\n",
      "***NAN ROWS***\n",
      "[[     0]\n",
      " [ 49549]\n",
      " [ 62663]\n",
      " [101764]\n",
      " [277005]\n",
      " [339160]\n",
      " [437675]\n",
      " [489826]\n",
      " [536412]]\n",
      "***** NAN Removal *****\n",
      "***DIMENSIONS***\n",
      "Dimensions Rows: 555932 Columns: 115\n",
      "***NAN ROWS***\n",
      "[]\n",
      "========================================================================\n",
      "***MALICIOUS TRAFFIC***\n",
      "========================================================================\n",
      "***DIMENSIONS ML***\n",
      "Dimensions ML Rows: 6506754 Columns: 115\n",
      "***NAN ROWS ML***\n",
      "[[      0]\n",
      " [  59719]\n",
      " [ 112732]\n",
      " [ 165747]\n",
      " [ 223900]\n",
      " [ 285281]\n",
      " [ 342812]\n",
      " [ 401482]\n",
      " [ 455766]\n",
      " [ 515165]\n",
      " [ 544234]\n",
      " [ 574547]\n",
      " [ 604345]\n",
      " [ 632695]\n",
      " [ 663594]\n",
      " [ 692663]\n",
      " [ 720969]\n",
      " [ 749549]\n",
      " [ 776963]\n",
      " [ 806813]\n",
      " [ 834308]\n",
      " [ 862429]\n",
      " [ 890289]\n",
      " [ 919587]\n",
      " [ 947985]\n",
      " [ 975684]\n",
      " [1003510]\n",
      " [1032083]\n",
      " [1124225]\n",
      " [1219247]\n",
      " [1320784]\n",
      " [1413366]\n",
      " [1517877]\n",
      " [1607265]\n",
      " [1705049]\n",
      " [1793866]\n",
      " [1891942]\n",
      " [1997817]\n",
      " [2102609]\n",
      " [2206543]\n",
      " [2312326]\n",
      " [2416338]\n",
      " [2520997]\n",
      " [2631615]\n",
      " [2735336]\n",
      " [2838317]\n",
      " [2940513]\n",
      " [3053799]\n",
      " [3144923]\n",
      " [3205478]\n",
      " [3263476]\n",
      " [3374957]\n",
      " [3482145]\n",
      " [3589831]\n",
      " [3633024]\n",
      " [3736646]\n",
      " [3833428]\n",
      " [3930525]\n",
      " [3976456]\n",
      " [4020131]\n",
      " [4142705]\n",
      " [4259513]\n",
      " [4377642]\n",
      " [4443389]\n",
      " [4505241]\n",
      " [4630957]\n",
      " [4753437]\n",
      " [4991103]\n",
      " [5142585]\n",
      " [5359620]\n",
      " [5515869]\n",
      " [5674478]\n",
      " [5826358]\n",
      " [5983443]\n",
      " [6065426]\n",
      " [6152795]\n",
      " [6233604]\n",
      " [6290286]\n",
      " [6344072]\n",
      " [6422317]]\n",
      "***** NAN Removal ML *****\n",
      "***DIMENSIONS ML***\n",
      "Dimensions ML Rows: 6506674 Columns: 115\n",
      "***NAN ROWS ML***\n",
      "[]\n"
     ]
    }
   ],
   "source": [
    "# DELETE COLUMNS WITH NAN\n",
    "print(\"========================================================================\")\n",
    "print(\"***BENIGN TRAFFIC***\")\n",
    "print(\"========================================================================\")\n",
    "print(\"***DIMENSIONS***\")\n",
    "numrows = len(benign_traffic)\n",
    "numcols = len(benign_traffic[0])\n",
    "print(\"Dimensions Rows: %s Columns: %s\" %(numrows,numcols))\n",
    "\n",
    "print(\"***NAN ROWS***\")\n",
    "nan_rows=np.argwhere(np.isnan(benign_traffic).any(axis=1))\n",
    "print(nan_rows)\n",
    "\n",
    "print(\"***** NAN Removal *****\")\n",
    "benign_traffic = benign_traffic[~np.isnan(benign_traffic).any(axis=1)]\n",
    "\n",
    "print(\"***DIMENSIONS***\")\n",
    "numrows_good = len(benign_traffic)\n",
    "numcols = len(benign_traffic[0])\n",
    "print(\"Dimensions Rows: %s Columns: %s\" %(numrows_good,numcols))\n",
    "\n",
    "print(\"***NAN ROWS***\")\n",
    "nan_rows=np.argwhere(np.isnan(benign_traffic).any(axis=1))\n",
    "print(nan_rows)\n",
    "\n",
    "print(\"========================================================================\")\n",
    "print(\"***MALICIOUS TRAFFIC***\")\n",
    "print(\"========================================================================\")\n",
    "print(\"***DIMENSIONS ML***\")\n",
    "malicious_dataset = malicious_traffic_dataset\n",
    "\n",
    "numrows_ml = len(malicious_dataset)\n",
    "numcols_ml = len(malicious_dataset[0])\n",
    "print(\"Dimensions ML Rows: %s Columns: %s\" %(numrows_ml,numcols_ml))\n",
    "\n",
    "print(\"***NAN ROWS ML***\")\n",
    "nan_rows_ml=np.argwhere(np.isnan(malicious_dataset).any(axis=1))\n",
    "print(nan_rows_ml)\n",
    "\n",
    "print(\"***** NAN Removal ML *****\")\n",
    "malicious_dataset = malicious_dataset[~np.isnan(malicious_dataset).any(axis=1)]\n",
    "\n",
    "print(\"***DIMENSIONS ML***\")\n",
    "numrows_bad = len(malicious_dataset)\n",
    "numcols_bad = len(malicious_dataset[0])\n",
    "print(\"Dimensions ML Rows: %s Columns: %s\" %(numrows_bad,numcols_bad))\n",
    "print(\"***NAN ROWS ML***\")\n",
    "nan_rows_ml=np.argwhere(np.isnan(malicious_dataset).any(axis=1))\n",
    "print(nan_rows_ml)"
   ]
  },
  {
   "cell_type": "code",
   "execution_count": 3,
   "metadata": {},
   "outputs": [
    {
     "data": {
      "text/plain": [
       "array([1.00000000e+00, 6.00000000e+01, 0.00000000e+00, 1.00000000e+00,\n",
       "       6.00000000e+01, 0.00000000e+00, 1.00000000e+00, 6.00000000e+01,\n",
       "       0.00000000e+00, 1.00000000e+00, 6.00000000e+01, 0.00000000e+00,\n",
       "       1.00000000e+00, 6.00000000e+01, 0.00000000e+00, 1.00000000e+00,\n",
       "       6.00000000e+01, 0.00000000e+00, 1.00000000e+00, 6.00000000e+01,\n",
       "       0.00000000e+00, 1.00000000e+00, 6.00000000e+01, 0.00000000e+00,\n",
       "       1.00000000e+00, 6.00000000e+01, 0.00000000e+00, 1.00000000e+00,\n",
       "       6.00000000e+01, 0.00000000e+00, 1.00000000e+00, 6.00000000e+01,\n",
       "       0.00000000e+00, 6.00000000e+01, 0.00000000e+00, 0.00000000e+00,\n",
       "       0.00000000e+00, 1.00000000e+00, 6.00000000e+01, 0.00000000e+00,\n",
       "       6.00000000e+01, 0.00000000e+00, 0.00000000e+00, 0.00000000e+00,\n",
       "       1.00000000e+00, 6.00000000e+01, 0.00000000e+00, 6.00000000e+01,\n",
       "       0.00000000e+00, 0.00000000e+00, 0.00000000e+00, 1.00000000e+00,\n",
       "       6.00000000e+01, 0.00000000e+00, 6.00000000e+01, 0.00000000e+00,\n",
       "       0.00000000e+00, 0.00000000e+00, 1.00000000e+00, 6.00000000e+01,\n",
       "       0.00000000e+00, 6.00000000e+01, 0.00000000e+00, 0.00000000e+00,\n",
       "       0.00000000e+00, 1.00000000e+00, 1.50566169e+09, 0.00000000e+00,\n",
       "       1.00000000e+00, 1.50566169e+09, 0.00000000e+00, 1.00000000e+00,\n",
       "       1.50566169e+09, 0.00000000e+00, 1.00000000e+00, 1.50566169e+09,\n",
       "       0.00000000e+00, 1.00000000e+00, 1.50566169e+09, 0.00000000e+00,\n",
       "       1.00000000e+00, 6.00000000e+01, 0.00000000e+00, 6.00000000e+01,\n",
       "       0.00000000e+00, 0.00000000e+00, 0.00000000e+00, 1.00000000e+00,\n",
       "       6.00000000e+01, 0.00000000e+00, 6.00000000e+01, 0.00000000e+00,\n",
       "       0.00000000e+00, 0.00000000e+00, 1.00000000e+00, 6.00000000e+01,\n",
       "       0.00000000e+00, 6.00000000e+01, 0.00000000e+00, 0.00000000e+00,\n",
       "       0.00000000e+00, 1.00000000e+00, 6.00000000e+01, 0.00000000e+00,\n",
       "       6.00000000e+01, 0.00000000e+00, 0.00000000e+00, 0.00000000e+00,\n",
       "       1.00000000e+00, 6.00000000e+01, 0.00000000e+00, 6.00000000e+01,\n",
       "       0.00000000e+00, 0.00000000e+00, 0.00000000e+00])"
      ]
     },
     "execution_count": 3,
     "metadata": {},
     "output_type": "execute_result"
    }
   ],
   "source": [
    "benign_traffic[0]"
   ]
  },
  {
   "cell_type": "code",
   "execution_count": 4,
   "metadata": {},
   "outputs": [],
   "source": [
    "# DELETE UNWANTED COLUMNS\n",
    "benign_traffic = np.delete(benign_traffic, [2,5,8,11,14,17,20,23,26,29,\\\n",
    "                                            34,35,41,42,48,49,55,56,62,63,\\\n",
    "                                            66,67,69,70,72,73,75,76,78,79,\\\n",
    "                                            84,85,91,92,98,99,105,106,112,113,], axis=1)\n",
    "malicious_dataset = np.delete(malicious_dataset, [2,5,8,11,14,17,20,23,26,29,\\\n",
    "                                            34,35,41,42,48,49,55,56,62,63,\\\n",
    "                                            66,67,69,70,72,73,75,76,78,79,\\\n",
    "                                            84,85,91,92,98,99,105,106,112,113,], axis=1)\n"
   ]
  },
  {
   "cell_type": "code",
   "execution_count": 5,
   "metadata": {},
   "outputs": [
    {
     "name": "stdout",
     "output_type": "stream",
     "text": [
      "***DIMENSIONS BENIGN***\n",
      "Dimensions Rows: 555932 Columns: 75\n",
      "***DIMENSIONS MALICIOUS***\n",
      "Dimensions Rows: 6506674 Columns: 75\n"
     ]
    }
   ],
   "source": [
    "print(\"***DIMENSIONS BENIGN***\")\n",
    "numrows_good = len(benign_traffic)\n",
    "numcols_good = len(benign_traffic[0])\n",
    "print(\"Dimensions Rows: %s Columns: %s\" %(numrows_good,numcols_good))\n",
    "print(\"***DIMENSIONS MALICIOUS***\")\n",
    "numrows_bad = len(malicious_dataset)\n",
    "numcols_bad = len(malicious_dataset[0])\n",
    "print(\"Dimensions Rows: %s Columns: %s\" %(numrows_bad,numcols_bad))"
   ]
  },
  {
   "cell_type": "code",
   "execution_count": 6,
   "metadata": {},
   "outputs": [
    {
     "name": "stdout",
     "output_type": "stream",
     "text": [
      "*** COMPLETE DATASET ***\n",
      "Dimensions Rows: 7062606 Columns: 75\n",
      "*** COMPLETE DATASET Labels ***\n",
      "Dimensions Rows: 7062606\n"
     ]
    }
   ],
   "source": [
    "# Define Labels\n",
    "y_benings = np.zeros(len(benign_traffic),dtype=int)\n",
    "y_malicious = np.ones(len(malicious_dataset),dtype=int)\n",
    "\n",
    "complete_dataset = np.concatenate((benign_traffic, malicious_dataset), 0)\n",
    "print(\"*** COMPLETE DATASET ***\")\n",
    "numrows = len(complete_dataset)\n",
    "numcols = len(complete_dataset[0])\n",
    "print(\"Dimensions Rows: %s Columns: %s\" %(numrows,numcols))\n",
    "complete_dataset_labels = np.concatenate((y_benings,y_malicious),0)\n",
    "print(\"*** COMPLETE DATASET Labels ***\")\n",
    "numrows = len(complete_dataset_labels)\n",
    "numcols = len(complete_dataset_labels)\n",
    "print(\"Dimensions Rows: %s\" %(numrows))"
   ]
  },
  {
   "cell_type": "code",
   "execution_count": 7,
   "metadata": {},
   "outputs": [],
   "source": [
    "# NORMALIZE DATASET\n",
    "scaler = MinMaxScaler(feature_range=(0, 1))\n",
    "dataX_ = scaler.fit_transform(complete_dataset)"
   ]
  },
  {
   "cell_type": "code",
   "execution_count": 8,
   "metadata": {},
   "outputs": [],
   "source": [
    "from sklearn import model_selection\n",
    "validation_size = 0.20\n",
    "seed = 7\n",
    "X_train, X_validation, Y_train, Y_validation = model_selection.train_test_split(dataX_, complete_dataset_labels, test_size=validation_size, random_state=seed)\n",
    "\n",
    "##### NEW #####\n",
    "#validation_size = 0.50\n",
    "#seed = 7\n",
    "#X_validation, X_test, Y_validation, Y_test = model_selection.train_test_split(X_validation, Y_validation, test_size=validation_size, random_state=seed)\n",
    "###############\n",
    "\n",
    "del dataX_"
   ]
  },
  {
   "cell_type": "code",
   "execution_count": 10,
   "metadata": {},
   "outputs": [
    {
     "name": "stdout",
     "output_type": "stream",
     "text": [
      "(5650084, 75) (1412522, 75)\n",
      "5650084 1412522\n"
     ]
    }
   ],
   "source": [
    "print(np.shape(X_train), np.shape(X_validation))#, np.shape(X_test))\n",
    "print(len(Y_train), len(Y_validation))#, len(Y_test))"
   ]
  },
  {
   "cell_type": "code",
   "execution_count": 11,
   "metadata": {},
   "outputs": [
    {
     "name": "stdout",
     "output_type": "stream",
     "text": [
      "1412522\n",
      "(5650084, 1, 75)\n",
      "(1412522, 1, 75)\n"
     ]
    }
   ],
   "source": [
    "# Vectorize data\n",
    "print(len(Y_validation))\n",
    "vector_train_x = X_train.reshape((len(X_train), 1, 75))\n",
    "print(vector_train_x.shape)\n",
    "vector_validation_x = X_validation.reshape((len(X_validation), 1, 75))\n",
    "print(vector_validation_x.shape)\n",
    "#vector_test_x = X_test.reshape((len(X_test), 1, 75))\n",
    "#print(vector_test_x.shape)"
   ]
  },
  {
   "cell_type": "code",
   "execution_count": 12,
   "metadata": {},
   "outputs": [],
   "source": [
    "# Vectorize Data\n",
    "\n",
    "# vector_train_x = X_.reshape((len(X_), 1, 75))\n",
    "# print(vector_train_x.shape)"
   ]
  },
  {
   "cell_type": "markdown",
   "metadata": {},
   "source": [
    "# LSTM MODEL"
   ]
  },
  {
   "cell_type": "code",
   "execution_count": 13,
   "metadata": {},
   "outputs": [],
   "source": [
    "from keras.layers import Dropout\n",
    "from keras.callbacks import EarlyStopping\n",
    "from sklearn import model_selection\n",
    "from sklearn.model_selection import StratifiedKFold\n",
    "from sklearn import model_selection\n",
    "from sklearn.metrics import roc_curve, auc\n",
    "from scipy import interp\n",
    "import matplotlib.pyplot as plt\n",
    "\n",
    "seed=7\n",
    "np.random.seed(seed)\n",
    "cvscores = []\n",
    "kfold = StratifiedKFold(n_splits=10, shuffle=True, random_state=seed)\n",
    "#print(vector_train_x.shape)\n",
    "\n",
    "\n",
    "tprs = []\n",
    "aucs = []\n",
    "mean_fpr = np.linspace(0, 1, 100)\n",
    "i=0\n",
    "\n",
    "for index, (train, validation) in enumerate(kfold.split(vector_train_x, Y_train)):\n",
    "    \n",
    "    \n",
    "    print(\"===================================================\")\n",
    "    print(\"Length of Train: %s   Length of Validation %s\" %(len(train),len(validation)))\n",
    "    print(\"\\n\\nTraining on fold \" + str(index+1) + \"/10...\\n\\n\")\n",
    "    \n",
    "    batch_size = 100000\n",
    "    model = Sequential()\n",
    "    model.add(LSTM(28, input_shape=(1,75), return_sequences=True, name=\"LSTM_0\"))\n",
    "    model.add(Dropout(0.5, name=\"Dropout_0\"))\n",
    "    model.add(LSTM(28, name=\"LSTM_1\"))\n",
    "    model.add(Dropout(0.5, name=\"Dropout_1\"))\n",
    "    model.add(Dense(28, name=\"Dense_0\"))\n",
    "    model.add(Dense(1, activation=\"tanh\", name=\"Dense_1\")) #activation=\"tanh\"\n",
    "    model.compile(loss='binary_crossentropy', optimizer='adam', metrics=['acc'])\n",
    "    early_stopping = EarlyStopping(monitor='val_loss', min_delta=0.003, patience=0, verbose=0, mode='auto', baseline=None, restore_best_weights=False)\n",
    "#    model.summary()\n",
    "#    model.fit(vector_train_x[train], complete_dataset_labels[train], epochs=20, batch_size=batch_size, verbose=2, shuffle=True,callbacks=[early_stopping],validation_data=(vector_validation_x, Y_validation)) #\n",
    "    history = model.fit(vector_train_x[train], Y_train[train], epochs=30, batch_size=batch_size, verbose=2, shuffle=True,validation_data=(vector_train_x[validation], Y_train[validation]),callbacks=[early_stopping]) #\n",
    "    scores = model.evaluate(vector_train_x[validation], Y_train[validation], verbose=0)\n",
    "    predictions = model.predict(vector_train_x[validation])\n",
    "    print(\"%s: %.2f%%\" % (model.metrics_names[1], scores[1]*100))\n",
    "    cvscores.append(scores[1] * 100)\n",
    "    #print(\"Scores\")\n",
    "    #print(print(scores))\n",
    "    \n",
    "    fpr, tpr, thresholds = roc_curve(Y_train[validation], predictions)\n",
    "    tprs.append(interp(mean_fpr, fpr, tpr))\n",
    "    tprs[-1][0] = 0.0\n",
    "    roc_auc = auc(fpr, tpr)\n",
    "    aucs.append(roc_auc)\n",
    "    i += 1\n",
    "    plt.plot(fpr, tpr, lw=1, alpha=0.3,\n",
    "             label='ROC fold %d (AUC = %0.2f)' % (i, roc_auc))\n",
    "    \n",
    "\n",
    "print(\"%.2f%% (+/- %.2f%%)\" % (np.mean(cvscores), np.std(cvscores)))"
   ]
  },
  {
   "cell_type": "code",
   "execution_count": 31,
   "metadata": {},
   "outputs": [
    {
     "data": {
      "image/png": "[encoded data removed]",
      "text/plain": [
       "<Figure size 432x288 with 1 Axes>"
      ]
     },
     "metadata": {
      "needs_background": "light"
     },
     "output_type": "display_data"
    }
   ],
   "source": [
    "    \n",
    "from keras.models import load_model\n",
    "model.save(dir1+'mirai_udpplain_model.h5')\n",
    "\n",
    "\n",
    "%matplotlib inline\n",
    "#########################################################################\n",
    "# Plot ROC\n",
    "plt.plot([0, 1], [0, 1], linestyle='--', lw=2, color='r',\n",
    "         label='Chance', alpha=.8)\n",
    "\n",
    "mean_tpr = np.mean(tprs, axis=0)\n",
    "mean_tpr[-1] = 1.0\n",
    "mean_auc = auc(mean_fpr, mean_tpr)\n",
    "std_auc = np.std(aucs)\n",
    "plt.plot(mean_fpr, mean_tpr, color='b',\n",
    "         label=r'Mean ROC (AUC = %0.2f $\\pm$ %0.2f)' % (mean_auc, std_auc),\n",
    "         lw=2, alpha=.8)\n",
    "\n",
    "std_tpr = np.std(tprs, axis=0)\n",
    "tprs_upper = np.minimum(mean_tpr + std_tpr, 1)\n",
    "tprs_lower = np.maximum(mean_tpr - std_tpr, 0)\n",
    "plt.fill_between(mean_fpr, tprs_lower, tprs_upper, color='grey', alpha=.2,\n",
    "                 label=r'$\\pm$ 1 std. dev.')\n",
    "\n",
    "plt.xlim([-0.05, 1.05])\n",
    "plt.ylim([-0.05, 1.05])\n",
    "plt.xlabel('False Positive Rate')\n",
    "plt.ylabel('True Positive Rate')\n",
    "plt.title('Receiver Pperating Characteristic')\n",
    "plt.legend(loc=\"lower right\")\n",
    "plt.grid(which='major', linestyle='--', linewidth='0.5', color='black')\n",
    "#plt.grid(which='minor', linestyle=':', linewidth='0.5', color='black')\n",
    "plt.savefig('ROC_all_malicious.png')\n",
    "plt.show()"
   ]
  },
  {
   "cell_type": "code",
   "execution_count": 20,
   "metadata": {},
   "outputs": [
    {
     "name": "stdout",
     "output_type": "stream",
     "text": [
      "Model: \"sequential_10\"\n",
      "_________________________________________________________________\n",
      "Layer (type)                 Output Shape              Param #   \n",
      "=================================================================\n",
      "LSTM_0 (LSTM)                (None, 1, 28)             11648     \n",
      "_________________________________________________________________\n",
      "Dropout_0 (Dropout)          (None, 1, 28)             0         \n",
      "_________________________________________________________________\n",
      "LSTM_1 (LSTM)                (None, 28)                6384      \n",
      "_________________________________________________________________\n",
      "Dropout_1 (Dropout)          (None, 28)                0         \n",
      "_________________________________________________________________\n",
      "Dense_0 (Dense)              (None, 28)                812       \n",
      "_________________________________________________________________\n",
      "Dense_1 (Dense)              (None, 1)                 29        \n",
      "=================================================================\n",
      "Total params: 18,873\n",
      "Trainable params: 18,873\n",
      "Non-trainable params: 0\n",
      "_________________________________________________________________\n"
     ]
    }
   ],
   "source": [
    "model.summary()"
   ]
  },
  {
   "cell_type": "code",
   "execution_count": 15,
   "metadata": {},
   "outputs": [
    {
     "name": "stdout",
     "output_type": "stream",
     "text": [
      "[95.02982248101803, 96.00130263411734, 94.362921652586, 95.61510633477755, 95.57262906011951, 94.61565145980234, 95.09989239090419, 93.38186361963017, 93.70557585025345, 94.65635884801631]\n"
     ]
    }
   ],
   "source": [
    "print(cvscores)"
   ]
  },
  {
   "cell_type": "markdown",
   "metadata": {},
   "source": [
    "# Prediction"
   ]
  },
  {
   "cell_type": "code",
   "execution_count": 16,
   "metadata": {},
   "outputs": [
    {
     "name": "stdout",
     "output_type": "stream",
     "text": [
      "[0.9912709  0.9999999  0.9062476  ... 0.9062476  0.9995273  0.99090445]\n",
      "FPR: [0.       0.       0.       ... 0.999991 0.999991 1.      ]\n",
      " TPR: [0.00000000e+00 1.84420892e-05 5.99982634e-03 ... 9.99995389e-01\n",
      " 1.00000000e+00 1.00000000e+00]\n",
      " Treasholds: [ 2.0000002   1.0000002   1.0000001  ... -0.4708123  -0.47285855\n",
      " -0.4748911 ]\n"
     ]
    }
   ],
   "source": [
    "from sklearn.metrics import roc_curve\n",
    "y_pred_keras = model.predict(vector_validation_x).ravel()\n",
    "print(y_pred_keras)\n",
    "fpr_keras, tpr_keras, thresholds_keras = roc_curve(Y_validation, y_pred_keras)\n",
    "print(\"FPR: %s\\n TPR: %s\\n Treasholds: %s\" %(fpr_keras, tpr_keras, thresholds_keras))"
   ]
  },
  {
   "cell_type": "code",
   "execution_count": 21,
   "metadata": {},
   "outputs": [
    {
     "name": "stdout",
     "output_type": "stream",
     "text": [
      "0.6666644757795572\n",
      "0.9585675949616737\n",
      "0.6121664121014668\n"
     ]
    }
   ],
   "source": [
    "from sklearn.metrics import accuracy_score, f1_score, precision_score, recall_score, classification_report, confusion_matrix\n",
    "y_pred_keras_logits = np.where(y_pred_keras > 0, 1, 0)\n",
    "print(f1_score(Y_validation, y_pred_keras_logits, average=\"macro\"))\n",
    "print(precision_score(Y_validation, y_pred_keras_logits, average=\"macro\"))\n",
    "print(recall_score(Y_validation, y_pred_keras_logits, average=\"macro\")) "
   ]
  },
  {
   "cell_type": "code",
   "execution_count": 29,
   "metadata": {},
   "outputs": [
    {
     "name": "stdout",
     "output_type": "stream",
     "text": [
      "True Negatives:  24980\n",
      "False Positives:  86171\n",
      "False Negatives:  529\n",
      "True Positives:  1300842\n"
     ]
    }
   ],
   "source": [
    "tn, fp, fn, tp = confusion_matrix(Y_validation, y_pred_keras_logits).ravel()\n",
    "print(\"True Negatives: \",tn)\n",
    "print(\"False Positives: \",fp)\n",
    "print(\"False Negatives: \",fn)\n",
    "print(\"True Positives: \",tp)"
   ]
  },
  {
   "cell_type": "markdown",
   "metadata": {},
   "source": [
    "# AUC"
   ]
  },
  {
   "cell_type": "code",
   "execution_count": 22,
   "metadata": {},
   "outputs": [
    {
     "name": "stdout",
     "output_type": "stream",
     "text": [
      "0.9962431375705177\n",
      "[0. 0. 0. 0. 0.]\n",
      "[0.00000000e+00 1.84420892e-05 5.99982634e-03 1.46558514e-01\n",
      " 1.86235132e-01]\n"
     ]
    }
   ],
   "source": [
    "from sklearn.metrics import auc\n",
    "auc_keras = auc(fpr_keras, tpr_keras)\n",
    "print(auc_keras)\n",
    "print(fpr_keras[0:5])\n",
    "print(tpr_keras[0:5])"
   ]
  },
  {
   "cell_type": "markdown",
   "metadata": {},
   "source": [
    "# Plot"
   ]
  },
  {
   "cell_type": "code",
   "execution_count": 23,
   "metadata": {},
   "outputs": [
    {
     "data": {
      "image/png": "[encoded data removed]",
      "text/plain": [
       "<Figure size 432x288 with 1 Axes>"
      ]
     },
     "metadata": {
      "needs_background": "light"
     },
     "output_type": "display_data"
    },
    {
     "data": {
      "image/png": "[encoded data removed]",
      "text/plain": [
       "<Figure size 432x288 with 1 Axes>"
      ]
     },
     "metadata": {
      "needs_background": "light"
     },
     "output_type": "display_data"
    }
   ],
   "source": [
    "import matplotlib.pyplot as plt\n",
    "\n",
    "%matplotlib inline\n",
    "plt.figure(1)\n",
    "plt.plot([0, 1], [0, 1], 'k--')\n",
    "plt.plot(fpr_keras, tpr_keras, label='Keras (area = {:.3f})'.format(auc_keras))\n",
    "#plt.plot(fpr_rf, tpr_rf, label='RF (area = {:.3f})'.format(auc_rf))\n",
    "plt.xlabel('False positive rate')\n",
    "plt.ylabel('True positive rate')\n",
    "plt.title('ROC curve')\n",
    "plt.legend(loc='best')\n",
    "plt.grid(which='major', linestyle='--', linewidth='0.5', color='black')\n",
    "plt.show()\n",
    "# Zoom in view of the upper left corner.\n",
    "plt.figure(2)\n",
    "plt.xlim(0, 0.2)\n",
    "plt.ylim(0.8, 1)\n",
    "plt.plot([0, 1], [0, 1], 'k--')\n",
    "plt.plot(fpr_keras, tpr_keras, label='Keras (area = {:.3f})'.format(auc_keras))\n",
    "#plt.plot(fpr_rf, tpr_rf, label='RF (area = {:.3f})'.format(auc_rf))\n",
    "plt.xlabel('False positive rate')\n",
    "plt.ylabel('True positive rate')\n",
    "plt.title('ROC curve (zoomed in at top left)')\n",
    "plt.legend(loc='best')\n",
    "plt.grid(which='minor', linestyle=':', linewidth='0.5', color='black')\n",
    "plt.show()"
   ]
  },
  {
   "cell_type": "code",
   "execution_count": 24,
   "metadata": {},
   "outputs": [
    {
     "data": {
      "image/png": "[encoded data removed]",
      "text/plain": [
       "<Figure size 432x288 with 1 Axes>"
      ]
     },
     "metadata": {
      "needs_background": "light"
     },
     "output_type": "display_data"
    },
    {
     "data": {
      "image/png": "[encoded data removed]",
      "text/plain": [
       "<Figure size 432x288 with 1 Axes>"
      ]
     },
     "metadata": {
      "needs_background": "light"
     },
     "output_type": "display_data"
    }
   ],
   "source": [
    "# Plot training & validation accuracy values\n",
    "plt.plot(history.history['acc'],color=\"black\")\n",
    "#plt.plot(history.history['val_acc'])\n",
    "plt.title('Model Accuracy')\n",
    "plt.ylabel('Accuracy')\n",
    "plt.xlabel('Epoch')\n",
    "plt.legend(['Train'], loc='upper left') #'Test'\n",
    "plt.grid(which='major', linestyle='--', linewidth='0.5', color='black')\n",
    "plt.savefig('Accuracy.png')\n",
    "plt.show()\n",
    "\n",
    "\n",
    "# Plot training & validation loss values\n",
    "plt.plot(history.history['loss'],color=\"black\")\n",
    "#plt.plot(history.history['val_loss'])\n",
    "plt.title('Model Loss')\n",
    "plt.ylabel('Loss')\n",
    "plt.xlabel('Epoch')\n",
    "plt.legend(['Train', 'Test'], loc='lower left')\n",
    "plt.grid(which='major', linestyle='--', linewidth='0.5', color='black')\n",
    "plt.savefig('Loss.png')\n",
    "plt.show()\n"
   ]
  },
  {
   "cell_type": "code",
   "execution_count": null,
   "metadata": {},
   "outputs": [],
   "source": [
    "# from sklearn.metrics import roc_curve, auc\n",
    "# from scipy import interp\n",
    "\n",
    "# tprs = []\n",
    "# aucs = []\n",
    "# mean_fpr = np.linspace(0, 1, 100)\n",
    "\n",
    "# # Compute ROC curve and area the curve\n",
    "# i=0\n",
    "# fpr, tpr, thresholds = roc_curve(Y_validation, y_pred_keras)\n",
    "# tprs.append(interp(mean_fpr, fpr, tpr))\n",
    "# tprs[-1][0] = 0.0\n",
    "# roc_auc = auc(fpr, tpr)\n",
    "# aucs.append(roc_auc)\n",
    "# plt.plot(fpr, tpr, lw=1, alpha=0.3,label='ROC (AUC = %0.2f)' % (roc_auc))\n",
    "\n",
    "\n",
    "\n",
    "# plt.plot([0, 1], [0, 1], linestyle='--', lw=2, color='r',\n",
    "#          label='Chance', alpha=.8)\n",
    "\n",
    "# mean_tpr = np.mean(tprs, axis=0)\n",
    "# mean_tpr[-1] = 1.0\n",
    "# mean_auc = auc(mean_fpr, mean_tpr)\n",
    "# std_auc = np.std(aucs)\n",
    "# plt.plot(mean_fpr, mean_tpr, color='b',\n",
    "#          label=r'Mean ROC (AUC = %0.2f $\\pm$ %0.2f)' % (mean_auc, std_auc),\n",
    "#          lw=2, alpha=.8)\n",
    "\n",
    "# std_tpr = np.std(tprs, axis=0)\n",
    "# tprs_upper = np.minimum(mean_tpr + std_tpr, 1)\n",
    "# tprs_lower = np.maximum(mean_tpr - std_tpr, 0)\n",
    "# plt.fill_between(mean_fpr, tprs_lower, tprs_upper, color='grey', alpha=.2,\n",
    "#                  label=r'$\\pm$ 1 std. dev.')\n",
    "\n",
    "# plt.xlim([-0.05, 1.05])\n",
    "# plt.ylim([-0.05, 1.05])\n",
    "# plt.xlabel('False Positive Rate')\n",
    "# plt.ylabel('True Positive Rate')\n",
    "# plt.title('Receiver operating characteristic example')\n",
    "# plt.legend(loc=\"lower right\")\n",
    "# plt.grid(which='major', linestyle='--', linewidth='0.5', color='black')\n",
    "# #plt.grid(which='minor', linestyle=':', linewidth='0.5', color='black')\n",
    "# plt.savefig('ROC.png')\n",
    "# plt.show()"
   ]
  },
  {
   "cell_type": "code",
   "execution_count": 25,
   "metadata": {},
   "outputs": [
    {
     "data": {
      "image/png": "[encoded data removed]",
      "text/plain": [
       "<IPython.core.display.Image object>"
      ]
     },
     "execution_count": 25,
     "metadata": {},
     "output_type": "execute_result"
    }
   ],
   "source": [
    "from keras.utils import plot_model\n",
    "plot_model(model, to_file='model.png')"
   ]
  },
  {
   "cell_type": "code",
   "execution_count": 26,
   "metadata": {},
   "outputs": [
    {
     "name": "stdout",
     "output_type": "stream",
     "text": [
      "[0.9912709 0.9999999 0.9062476 0.9062476]\n",
      "[1 1 1 1]\n",
      "Confusion Matrix\n",
      "[[  24980   86171]\n",
      " [    529 1300842]]\n",
      "Classification Report\n",
      "              precision    recall  f1-score   support\n",
      "\n",
      "        Good       0.98      0.22      0.37    111151\n",
      "         Bad       0.94      1.00      0.97   1301371\n",
      "\n",
      "    accuracy                           0.94   1412522\n",
      "   macro avg       0.96      0.61      0.67   1412522\n",
      "weighted avg       0.94      0.94      0.92   1412522\n",
      "\n"
     ]
    }
   ],
   "source": [
    "from sklearn.metrics import classification_report, confusion_matrix\n",
    "\n",
    "print(y_pred_keras[0:4])\n",
    "\n",
    "# For TANH\n",
    "y_pred_keras_logits = np.where(y_pred_keras > 0, 1, 0)\n",
    "\n",
    "# For Sigmoid or Softmax\n",
    "#y_pred_keras_logits = [np.round(i) for i in y_pred_keras]\n",
    "\n",
    "print(y_pred_keras_logits[0:4])\n",
    "\n",
    "\n",
    "#tn, fp, fn, tp = confusion_matrix(Y_validation, y_pred_keras_logits)\n",
    "# print('True Positive %s' %tp)\n",
    "# print('True Negative %s' %tn)\n",
    "# print('False Positive %s' %fp)\n",
    "# print('False Positive %s' %fn)\n",
    "\n",
    "\n",
    "#print(y_pred_keras_logits[0:4])\n",
    "print('Confusion Matrix')\n",
    "print(confusion_matrix(Y_validation, y_pred_keras_logits))\n",
    "print('Classification Report')\n",
    "target_names = ['Good', 'Bad']\n",
    "print(classification_report(Y_validation, y_pred_keras_logits, target_names=target_names))"
   ]
  },
  {
   "cell_type": "code",
   "execution_count": 28,
   "metadata": {},
   "outputs": [
    {
     "name": "stdout",
     "output_type": "stream",
     "text": [
      "111151\n",
      "25509\n",
      "1301371\n",
      "1387013\n"
     ]
    }
   ],
   "source": [
    "print(np.count_nonzero(Y_validation==0))\n",
    "print(np.count_nonzero(y_pred_keras_logits==0))\n",
    "\n",
    "print(np.count_nonzero(Y_validation==1))\n",
    "print(np.count_nonzero(y_pred_keras_logits==1))"
   ]
  },
  {
   "cell_type": "code",
   "execution_count": null,
   "metadata": {},
   "outputs": [],
   "source": []
  }
 ],
 "metadata": {
  "anaconda-cloud": {},
  "kernelspec": {
   "display_name": "Python 3",
   "language": "python",
   "name": "python3"
  },
  "language_info": {
   "codemirror_mode": {
    "name": "ipython",
    "version": 3
   },
   "file_extension": ".py",
   "mimetype": "text/x-python",
   "name": "python",
   "nbconvert_exporter": "python",
   "pygments_lexer": "ipython3",
   "version": "3.5.2"
  }
 },
 "nbformat": 4,
 "nbformat_minor": 4
}
